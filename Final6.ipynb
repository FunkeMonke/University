{
  "nbformat": 4,
  "nbformat_minor": 0,
  "metadata": {
    "colab": {
      "provenance": [],
      "authorship_tag": "ABX9TyMBRLF+h2/HY54+QU3QVSAk",
      "include_colab_link": true
    },
    "kernelspec": {
      "name": "ir",
      "display_name": "R"
    },
    "language_info": {
      "name": "R"
    }
  },
  "cells": [
    {
      "cell_type": "markdown",
      "metadata": {
        "id": "view-in-github",
        "colab_type": "text"
      },
      "source": [
        "<a href=\"https://colab.research.google.com/github/FunkeMonke/University/blob/main/Final6.ipynb\" target=\"_parent\"><img src=\"https://colab.research.google.com/assets/colab-badge.svg\" alt=\"Open In Colab\"/></a>"
      ]
    },
    {
      "cell_type": "code",
      "source": [
        "install.packages(\"tictoc\")\n",
        "library(tictoc)"
      ],
      "metadata": {
        "colab": {
          "base_uri": "https://localhost:8080/"
        },
        "id": "pyDDqqiD1no1",
        "outputId": "2f6f8217-7c39-4ec1-ecb0-6daccac1f027"
      },
      "execution_count": null,
      "outputs": [
        {
          "output_type": "stream",
          "name": "stderr",
          "text": [
            "Installing package into ‘/usr/local/lib/R/site-library’\n",
            "(as ‘lib’ is unspecified)\n",
            "\n"
          ]
        }
      ]
    },
    {
      "cell_type": "code",
      "source": [
        "tic()\n",
        "install.packages(\"caTools\")\n",
        "toc()"
      ],
      "metadata": {
        "colab": {
          "base_uri": "https://localhost:8080/"
        },
        "id": "__4udcMy67fS",
        "outputId": "8ba2ae3c-e932-49fb-ec92-5642d867e4de"
      },
      "execution_count": null,
      "outputs": [
        {
          "output_type": "stream",
          "name": "stderr",
          "text": [
            "Installing package into ‘/usr/local/lib/R/site-library’\n",
            "(as ‘lib’ is unspecified)\n",
            "\n",
            "also installing the dependency ‘bitops’\n",
            "\n",
            "\n"
          ]
        },
        {
          "output_type": "stream",
          "name": "stdout",
          "text": [
            "8.566 sec elapsed\n"
          ]
        }
      ]
    },
    {
      "cell_type": "code",
      "source": [
        "tic()\n",
        "install.packages(\"caret\")\n",
        "toc()"
      ],
      "metadata": {
        "colab": {
          "base_uri": "https://localhost:8080/"
        },
        "id": "HzHQbqWxv3dL",
        "outputId": "c58a27f8-90a1-4d3c-865b-f66140dd9337"
      },
      "execution_count": null,
      "outputs": [
        {
          "output_type": "stream",
          "name": "stderr",
          "text": [
            "Installing package into ‘/usr/local/lib/R/site-library’\n",
            "(as ‘lib’ is unspecified)\n",
            "\n",
            "also installing the dependencies ‘listenv’, ‘parallelly’, ‘future’, ‘globals’, ‘future.apply’, ‘numDeriv’, ‘progressr’, ‘SQUAREM’, ‘lava’, ‘prodlim’, ‘proxy’, ‘iterators’, ‘Rcpp’, ‘clock’, ‘gower’, ‘hardhat’, ‘ipred’, ‘timeDate’, ‘e1071’, ‘foreach’, ‘ModelMetrics’, ‘plyr’, ‘pROC’, ‘recipes’, ‘reshape2’\n",
            "\n",
            "\n"
          ]
        },
        {
          "output_type": "stream",
          "name": "stdout",
          "text": [
            "405.923 sec elapsed\n"
          ]
        }
      ]
    },
    {
      "cell_type": "code",
      "source": [
        "library(tidyverse)\n",
        "library(caret)\n",
        "library(caTools)\n",
        "library(tictoc)"
      ],
      "metadata": {
        "colab": {
          "base_uri": "https://localhost:8080/"
        },
        "id": "cuKAP8OmwBPC",
        "outputId": "86ea7793-3f2a-4050-b93d-90485fc0852a"
      },
      "execution_count": null,
      "outputs": [
        {
          "output_type": "stream",
          "name": "stderr",
          "text": [
            "Warning message in system(\"timedatectl\", intern = TRUE):\n",
            "“running command 'timedatectl' had status 1”\n",
            "── \u001b[1mAttaching packages\u001b[22m ─────────────────────────────────────── tidyverse 1.3.1 ──\n",
            "\n",
            "\u001b[32m✔\u001b[39m \u001b[34mggplot2\u001b[39m 3.4.0      \u001b[32m✔\u001b[39m \u001b[34mpurrr  \u001b[39m 0.3.5 \n",
            "\u001b[32m✔\u001b[39m \u001b[34mtibble \u001b[39m 3.1.8      \u001b[32m✔\u001b[39m \u001b[34mdplyr  \u001b[39m 1.0.10\n",
            "\u001b[32m✔\u001b[39m \u001b[34mtidyr  \u001b[39m 1.2.1      \u001b[32m✔\u001b[39m \u001b[34mstringr\u001b[39m 1.4.1 \n",
            "\u001b[32m✔\u001b[39m \u001b[34mreadr  \u001b[39m 2.1.3      \u001b[32m✔\u001b[39m \u001b[34mforcats\u001b[39m 0.5.2 \n",
            "\n",
            "── \u001b[1mConflicts\u001b[22m ────────────────────────────────────────── tidyverse_conflicts() ──\n",
            "\u001b[31m✖\u001b[39m \u001b[34mdplyr\u001b[39m::\u001b[32mfilter()\u001b[39m masks \u001b[34mstats\u001b[39m::filter()\n",
            "\u001b[31m✖\u001b[39m \u001b[34mdplyr\u001b[39m::\u001b[32mlag()\u001b[39m    masks \u001b[34mstats\u001b[39m::lag()\n",
            "\n",
            "Loading required package: lattice\n",
            "\n",
            "\n",
            "Attaching package: ‘caret’\n",
            "\n",
            "\n",
            "The following object is masked from ‘package:purrr’:\n",
            "\n",
            "    lift\n",
            "\n",
            "\n"
          ]
        }
      ]
    },
    {
      "cell_type": "code",
      "source": [
        "tic()\n",
        "IC <- read_csv(\"item_categories.csv\")\n",
        "items <- read_csv(\"items.csv\")\n",
        "ST <- read_csv(\"sales_train.csv\")\n",
        "SS <- read_csv(\"sample_submission.csv\")\n",
        "shops <- read_csv(\"shops.csv\")\n",
        "test <- read_csv(\"test.csv\")\n",
        "toc()"
      ],
      "metadata": {
        "colab": {
          "base_uri": "https://localhost:8080/"
        },
        "id": "WQ8Uwg6fwjws",
        "outputId": "144fb88a-58c7-4286-8e6a-41d2b3132905"
      },
      "execution_count": null,
      "outputs": [
        {
          "output_type": "stream",
          "name": "stderr",
          "text": [
            "\u001b[1mRows: \u001b[22m\u001b[34m84\u001b[39m \u001b[1mColumns: \u001b[22m\u001b[34m2\u001b[39m\n",
            "\u001b[36m──\u001b[39m \u001b[1mColumn specification\u001b[22m \u001b[36m────────────────────────────────────────────────────────\u001b[39m\n",
            "\u001b[1mDelimiter:\u001b[22m \",\"\n",
            "\u001b[31mchr\u001b[39m (1): item_category_name\n",
            "\u001b[32mdbl\u001b[39m (1): item_category_id\n",
            "\n",
            "\u001b[36mℹ\u001b[39m Use `spec()` to retrieve the full column specification for this data.\n",
            "\u001b[36mℹ\u001b[39m Specify the column types or set `show_col_types = FALSE` to quiet this message.\n",
            "\u001b[1mRows: \u001b[22m\u001b[34m22170\u001b[39m \u001b[1mColumns: \u001b[22m\u001b[34m3\u001b[39m\n",
            "\u001b[36m──\u001b[39m \u001b[1mColumn specification\u001b[22m \u001b[36m────────────────────────────────────────────────────────\u001b[39m\n",
            "\u001b[1mDelimiter:\u001b[22m \",\"\n",
            "\u001b[31mchr\u001b[39m (1): item_name\n",
            "\u001b[32mdbl\u001b[39m (2): item_id, item_category_id\n",
            "\n",
            "\u001b[36mℹ\u001b[39m Use `spec()` to retrieve the full column specification for this data.\n",
            "\u001b[36mℹ\u001b[39m Specify the column types or set `show_col_types = FALSE` to quiet this message.\n",
            "\u001b[1mRows: \u001b[22m\u001b[34m2935849\u001b[39m \u001b[1mColumns: \u001b[22m\u001b[34m6\u001b[39m\n",
            "\u001b[36m──\u001b[39m \u001b[1mColumn specification\u001b[22m \u001b[36m────────────────────────────────────────────────────────\u001b[39m\n",
            "\u001b[1mDelimiter:\u001b[22m \",\"\n",
            "\u001b[31mchr\u001b[39m (1): date\n",
            "\u001b[32mdbl\u001b[39m (5): date_block_num, shop_id, item_id, item_price, item_cnt_day\n",
            "\n",
            "\u001b[36mℹ\u001b[39m Use `spec()` to retrieve the full column specification for this data.\n",
            "\u001b[36mℹ\u001b[39m Specify the column types or set `show_col_types = FALSE` to quiet this message.\n",
            "\u001b[1mRows: \u001b[22m\u001b[34m214200\u001b[39m \u001b[1mColumns: \u001b[22m\u001b[34m2\u001b[39m\n",
            "\u001b[36m──\u001b[39m \u001b[1mColumn specification\u001b[22m \u001b[36m────────────────────────────────────────────────────────\u001b[39m\n",
            "\u001b[1mDelimiter:\u001b[22m \",\"\n",
            "\u001b[32mdbl\u001b[39m (2): ID, item_cnt_month\n",
            "\n",
            "\u001b[36mℹ\u001b[39m Use `spec()` to retrieve the full column specification for this data.\n",
            "\u001b[36mℹ\u001b[39m Specify the column types or set `show_col_types = FALSE` to quiet this message.\n",
            "\u001b[1mRows: \u001b[22m\u001b[34m60\u001b[39m \u001b[1mColumns: \u001b[22m\u001b[34m2\u001b[39m\n",
            "\u001b[36m──\u001b[39m \u001b[1mColumn specification\u001b[22m \u001b[36m────────────────────────────────────────────────────────\u001b[39m\n",
            "\u001b[1mDelimiter:\u001b[22m \",\"\n",
            "\u001b[31mchr\u001b[39m (1): shop_name\n",
            "\u001b[32mdbl\u001b[39m (1): shop_id\n",
            "\n",
            "\u001b[36mℹ\u001b[39m Use `spec()` to retrieve the full column specification for this data.\n",
            "\u001b[36mℹ\u001b[39m Specify the column types or set `show_col_types = FALSE` to quiet this message.\n",
            "\u001b[1mRows: \u001b[22m\u001b[34m214200\u001b[39m \u001b[1mColumns: \u001b[22m\u001b[34m3\u001b[39m\n",
            "\u001b[36m──\u001b[39m \u001b[1mColumn specification\u001b[22m \u001b[36m────────────────────────────────────────────────────────\u001b[39m\n",
            "\u001b[1mDelimiter:\u001b[22m \",\"\n",
            "\u001b[32mdbl\u001b[39m (3): ID, shop_id, item_id\n",
            "\n",
            "\u001b[36mℹ\u001b[39m Use `spec()` to retrieve the full column specification for this data.\n",
            "\u001b[36mℹ\u001b[39m Specify the column types or set `show_col_types = FALSE` to quiet this message.\n"
          ]
        },
        {
          "output_type": "stream",
          "name": "stdout",
          "text": [
            "3.453 sec elapsed\n"
          ]
        }
      ]
    },
    {
      "cell_type": "code",
      "source": [
        "all <- list(IC, items, ST, SS, shops, test)"
      ],
      "metadata": {
        "id": "-eisNzJ12bia"
      },
      "execution_count": null,
      "outputs": []
    },
    {
      "cell_type": "code",
      "source": [
        "mapply(function(x){sum(is.na(x))},all)\n",
        "mapply(function(x){sum(is.null(x))},all)\n",
        "lapply(all, dim)\n",
        "lapply(all, names)"
      ],
      "metadata": {
        "colab": {
          "base_uri": "https://localhost:8080/",
          "height": 302
        },
        "id": "fGC7CmfY10R6",
        "outputId": "8ad927bc-70f9-4faf-a915-7fb477628f65"
      },
      "execution_count": null,
      "outputs": [
        {
          "output_type": "display_data",
          "data": {
            "text/html": [
              "<style>\n",
              ".list-inline {list-style: none; margin:0; padding: 0}\n",
              ".list-inline>li {display: inline-block}\n",
              ".list-inline>li:not(:last-child)::after {content: \"\\00b7\"; padding: 0 .5ex}\n",
              "</style>\n",
              "<ol class=list-inline><li>0</li><li>0</li><li>0</li><li>0</li><li>0</li><li>0</li></ol>\n"
            ],
            "text/markdown": "1. 0\n2. 0\n3. 0\n4. 0\n5. 0\n6. 0\n\n\n",
            "text/latex": "\\begin{enumerate*}\n\\item 0\n\\item 0\n\\item 0\n\\item 0\n\\item 0\n\\item 0\n\\end{enumerate*}\n",
            "text/plain": [
              "[1] 0 0 0 0 0 0"
            ]
          },
          "metadata": {}
        },
        {
          "output_type": "display_data",
          "data": {
            "text/html": [
              "<style>\n",
              ".list-inline {list-style: none; margin:0; padding: 0}\n",
              ".list-inline>li {display: inline-block}\n",
              ".list-inline>li:not(:last-child)::after {content: \"\\00b7\"; padding: 0 .5ex}\n",
              "</style>\n",
              "<ol class=list-inline><li>0</li><li>0</li><li>0</li><li>0</li><li>0</li><li>0</li></ol>\n"
            ],
            "text/markdown": "1. 0\n2. 0\n3. 0\n4. 0\n5. 0\n6. 0\n\n\n",
            "text/latex": "\\begin{enumerate*}\n\\item 0\n\\item 0\n\\item 0\n\\item 0\n\\item 0\n\\item 0\n\\end{enumerate*}\n",
            "text/plain": [
              "[1] 0 0 0 0 0 0"
            ]
          },
          "metadata": {}
        },
        {
          "output_type": "display_data",
          "data": {
            "text/html": [
              "<ol>\n",
              "\t<li><style>\n",
              ".list-inline {list-style: none; margin:0; padding: 0}\n",
              ".list-inline>li {display: inline-block}\n",
              ".list-inline>li:not(:last-child)::after {content: \"\\00b7\"; padding: 0 .5ex}\n",
              "</style>\n",
              "<ol class=list-inline><li>84</li><li>2</li></ol>\n",
              "</li>\n",
              "\t<li><style>\n",
              ".list-inline {list-style: none; margin:0; padding: 0}\n",
              ".list-inline>li {display: inline-block}\n",
              ".list-inline>li:not(:last-child)::after {content: \"\\00b7\"; padding: 0 .5ex}\n",
              "</style>\n",
              "<ol class=list-inline><li>22170</li><li>3</li></ol>\n",
              "</li>\n",
              "\t<li><style>\n",
              ".list-inline {list-style: none; margin:0; padding: 0}\n",
              ".list-inline>li {display: inline-block}\n",
              ".list-inline>li:not(:last-child)::after {content: \"\\00b7\"; padding: 0 .5ex}\n",
              "</style>\n",
              "<ol class=list-inline><li>2935849</li><li>6</li></ol>\n",
              "</li>\n",
              "\t<li><style>\n",
              ".list-inline {list-style: none; margin:0; padding: 0}\n",
              ".list-inline>li {display: inline-block}\n",
              ".list-inline>li:not(:last-child)::after {content: \"\\00b7\"; padding: 0 .5ex}\n",
              "</style>\n",
              "<ol class=list-inline><li>214200</li><li>2</li></ol>\n",
              "</li>\n",
              "\t<li><style>\n",
              ".list-inline {list-style: none; margin:0; padding: 0}\n",
              ".list-inline>li {display: inline-block}\n",
              ".list-inline>li:not(:last-child)::after {content: \"\\00b7\"; padding: 0 .5ex}\n",
              "</style>\n",
              "<ol class=list-inline><li>60</li><li>2</li></ol>\n",
              "</li>\n",
              "\t<li><style>\n",
              ".list-inline {list-style: none; margin:0; padding: 0}\n",
              ".list-inline>li {display: inline-block}\n",
              ".list-inline>li:not(:last-child)::after {content: \"\\00b7\"; padding: 0 .5ex}\n",
              "</style>\n",
              "<ol class=list-inline><li>214200</li><li>3</li></ol>\n",
              "</li>\n",
              "</ol>\n"
            ],
            "text/markdown": "1. 1. 84\n2. 2\n\n\n\n2. 1. 22170\n2. 3\n\n\n\n3. 1. 2935849\n2. 6\n\n\n\n4. 1. 214200\n2. 2\n\n\n\n5. 1. 60\n2. 2\n\n\n\n6. 1. 214200\n2. 3\n\n\n\n\n\n",
            "text/latex": "\\begin{enumerate}\n\\item \\begin{enumerate*}\n\\item 84\n\\item 2\n\\end{enumerate*}\n\n\\item \\begin{enumerate*}\n\\item 22170\n\\item 3\n\\end{enumerate*}\n\n\\item \\begin{enumerate*}\n\\item 2935849\n\\item 6\n\\end{enumerate*}\n\n\\item \\begin{enumerate*}\n\\item 214200\n\\item 2\n\\end{enumerate*}\n\n\\item \\begin{enumerate*}\n\\item 60\n\\item 2\n\\end{enumerate*}\n\n\\item \\begin{enumerate*}\n\\item 214200\n\\item 3\n\\end{enumerate*}\n\n\\end{enumerate}\n",
            "text/plain": [
              "[[1]]\n",
              "[1] 84  2\n",
              "\n",
              "[[2]]\n",
              "[1] 22170     3\n",
              "\n",
              "[[3]]\n",
              "[1] 2935849       6\n",
              "\n",
              "[[4]]\n",
              "[1] 214200      2\n",
              "\n",
              "[[5]]\n",
              "[1] 60  2\n",
              "\n",
              "[[6]]\n",
              "[1] 214200      3\n"
            ]
          },
          "metadata": {}
        },
        {
          "output_type": "display_data",
          "data": {
            "text/html": [
              "<ol>\n",
              "\t<li><style>\n",
              ".list-inline {list-style: none; margin:0; padding: 0}\n",
              ".list-inline>li {display: inline-block}\n",
              ".list-inline>li:not(:last-child)::after {content: \"\\00b7\"; padding: 0 .5ex}\n",
              "</style>\n",
              "<ol class=list-inline><li>'item_category_name'</li><li>'item_category_id'</li></ol>\n",
              "</li>\n",
              "\t<li><style>\n",
              ".list-inline {list-style: none; margin:0; padding: 0}\n",
              ".list-inline>li {display: inline-block}\n",
              ".list-inline>li:not(:last-child)::after {content: \"\\00b7\"; padding: 0 .5ex}\n",
              "</style>\n",
              "<ol class=list-inline><li>'item_name'</li><li>'item_id'</li><li>'item_category_id'</li></ol>\n",
              "</li>\n",
              "\t<li><style>\n",
              ".list-inline {list-style: none; margin:0; padding: 0}\n",
              ".list-inline>li {display: inline-block}\n",
              ".list-inline>li:not(:last-child)::after {content: \"\\00b7\"; padding: 0 .5ex}\n",
              "</style>\n",
              "<ol class=list-inline><li>'date'</li><li>'date_block_num'</li><li>'shop_id'</li><li>'item_id'</li><li>'item_price'</li><li>'item_cnt_day'</li></ol>\n",
              "</li>\n",
              "\t<li><style>\n",
              ".list-inline {list-style: none; margin:0; padding: 0}\n",
              ".list-inline>li {display: inline-block}\n",
              ".list-inline>li:not(:last-child)::after {content: \"\\00b7\"; padding: 0 .5ex}\n",
              "</style>\n",
              "<ol class=list-inline><li>'ID'</li><li>'item_cnt_month'</li></ol>\n",
              "</li>\n",
              "\t<li><style>\n",
              ".list-inline {list-style: none; margin:0; padding: 0}\n",
              ".list-inline>li {display: inline-block}\n",
              ".list-inline>li:not(:last-child)::after {content: \"\\00b7\"; padding: 0 .5ex}\n",
              "</style>\n",
              "<ol class=list-inline><li>'shop_name'</li><li>'shop_id'</li></ol>\n",
              "</li>\n",
              "\t<li><style>\n",
              ".list-inline {list-style: none; margin:0; padding: 0}\n",
              ".list-inline>li {display: inline-block}\n",
              ".list-inline>li:not(:last-child)::after {content: \"\\00b7\"; padding: 0 .5ex}\n",
              "</style>\n",
              "<ol class=list-inline><li>'ID'</li><li>'shop_id'</li><li>'item_id'</li></ol>\n",
              "</li>\n",
              "</ol>\n"
            ],
            "text/markdown": "1. 1. 'item_category_name'\n2. 'item_category_id'\n\n\n\n2. 1. 'item_name'\n2. 'item_id'\n3. 'item_category_id'\n\n\n\n3. 1. 'date'\n2. 'date_block_num'\n3. 'shop_id'\n4. 'item_id'\n5. 'item_price'\n6. 'item_cnt_day'\n\n\n\n4. 1. 'ID'\n2. 'item_cnt_month'\n\n\n\n5. 1. 'shop_name'\n2. 'shop_id'\n\n\n\n6. 1. 'ID'\n2. 'shop_id'\n3. 'item_id'\n\n\n\n\n\n",
            "text/latex": "\\begin{enumerate}\n\\item \\begin{enumerate*}\n\\item 'item\\_category\\_name'\n\\item 'item\\_category\\_id'\n\\end{enumerate*}\n\n\\item \\begin{enumerate*}\n\\item 'item\\_name'\n\\item 'item\\_id'\n\\item 'item\\_category\\_id'\n\\end{enumerate*}\n\n\\item \\begin{enumerate*}\n\\item 'date'\n\\item 'date\\_block\\_num'\n\\item 'shop\\_id'\n\\item 'item\\_id'\n\\item 'item\\_price'\n\\item 'item\\_cnt\\_day'\n\\end{enumerate*}\n\n\\item \\begin{enumerate*}\n\\item 'ID'\n\\item 'item\\_cnt\\_month'\n\\end{enumerate*}\n\n\\item \\begin{enumerate*}\n\\item 'shop\\_name'\n\\item 'shop\\_id'\n\\end{enumerate*}\n\n\\item \\begin{enumerate*}\n\\item 'ID'\n\\item 'shop\\_id'\n\\item 'item\\_id'\n\\end{enumerate*}\n\n\\end{enumerate}\n",
            "text/plain": [
              "[[1]]\n",
              "[1] \"item_category_name\" \"item_category_id\"  \n",
              "\n",
              "[[2]]\n",
              "[1] \"item_name\"        \"item_id\"          \"item_category_id\"\n",
              "\n",
              "[[3]]\n",
              "[1] \"date\"           \"date_block_num\" \"shop_id\"        \"item_id\"       \n",
              "[5] \"item_price\"     \"item_cnt_day\"  \n",
              "\n",
              "[[4]]\n",
              "[1] \"ID\"             \"item_cnt_month\"\n",
              "\n",
              "[[5]]\n",
              "[1] \"shop_name\" \"shop_id\"  \n",
              "\n",
              "[[6]]\n",
              "[1] \"ID\"      \"shop_id\" \"item_id\"\n"
            ]
          },
          "metadata": {}
        }
      ]
    },
    {
      "cell_type": "code",
      "source": [
        "tic()\n",
        "# Make \"date\" a Date type instead of Character\n",
        "all[[3]] <- all[[3]] %>%\n",
        "  mutate(date = as.Date(all[[3]][\"date\"][[1]], \"%d.%m.%Y\"))\n",
        "\n",
        "df3 <- all[[3]]\n",
        "  #filter(as.Date(\"01.01.2013\", \"%d.%m.%Y\") < date & date < as.Date(\"01.02.2013\", \"%d.%m.%Y\")) #%>%\n",
        "  #arrange(date)\n",
        "\n",
        "# 3 + 6\n",
        "df36 <- left_join(df3, all[[6]], by = \"item_id\")\n",
        "\n",
        "df36_1 <- df36 %>%\n",
        "  filter(shop_id.x == shop_id.y)\n",
        "\n",
        "df36_2 <- df36_1 %>%\n",
        "  mutate(shop_id = shop_id.y) %>%\n",
        "  select(-c(shop_id.x, shop_id.y))\n",
        "\n",
        "# 3 + 6 + 5\n",
        "df365 <- left_join(df36_2, all[[5]], by = \"shop_id\")\n",
        "\n",
        "# 3 + 6 + 5 + 4\n",
        "df3654 <- left_join(df365, all[[4]], by = \"ID\")\n",
        "\n",
        "# 3 + 6 + 5 + 4 + 2\n",
        "df36542 <- left_join(df3654, all[[2]], by = \"item_id\")\n",
        "\n",
        "# 3 + 6 + 5 + 4 + 2 + 1\n",
        "df365421 <- left_join(df36542, all[[1]], by = \"item_category_id\")\n",
        "\n",
        "# 3 + 6 + 5 + 4 + 2 + 1\n",
        "# into a less annoying name\n",
        "df <-df365421\n",
        "head(df)\n",
        "dim(df)\n",
        "toc()"
      ],
      "metadata": {
        "colab": {
          "base_uri": "https://localhost:8080/",
          "height": 321
        },
        "id": "1GqM90Ts10Pv",
        "outputId": "d19a209a-8869-4993-89f6-487bc2cfcbed"
      },
      "execution_count": null,
      "outputs": [
        {
          "output_type": "display_data",
          "data": {
            "text/html": [
              "<table class=\"dataframe\">\n",
              "<caption>A tibble: 6 × 12</caption>\n",
              "<thead>\n",
              "\t<tr><th scope=col>date</th><th scope=col>date_block_num</th><th scope=col>item_id</th><th scope=col>item_price</th><th scope=col>item_cnt_day</th><th scope=col>ID</th><th scope=col>shop_id</th><th scope=col>shop_name</th><th scope=col>item_cnt_month</th><th scope=col>item_name</th><th scope=col>item_category_id</th><th scope=col>item_category_name</th></tr>\n",
              "\t<tr><th scope=col>&lt;date&gt;</th><th scope=col>&lt;dbl&gt;</th><th scope=col>&lt;dbl&gt;</th><th scope=col>&lt;dbl&gt;</th><th scope=col>&lt;dbl&gt;</th><th scope=col>&lt;dbl&gt;</th><th scope=col>&lt;dbl&gt;</th><th scope=col>&lt;chr&gt;</th><th scope=col>&lt;dbl&gt;</th><th scope=col>&lt;chr&gt;</th><th scope=col>&lt;dbl&gt;</th><th scope=col>&lt;chr&gt;</th></tr>\n",
              "</thead>\n",
              "<tbody>\n",
              "\t<tr><td>2013-01-02</td><td>0</td><td>22154</td><td>999</td><td>1</td><td>150983</td><td>59</td><td>Ярославль ТЦ \"Альтаир\"</td><td>0.5</td><td>ЯВЛЕНИЕ 2012 (BD)                                   </td><td>37</td><td>Кино - Blu-Ray                     </td></tr>\n",
              "\t<tr><td>2013-01-03</td><td>0</td><td> 2574</td><td>399</td><td>2</td><td> 56520</td><td>25</td><td>Москва ТРК \"Атриум\"   </td><td>0.5</td><td>DEL REY LANA  Born To Die  The Paradise Edition  2CD</td><td>55</td><td>Музыка - CD локального производства</td></tr>\n",
              "\t<tr><td>2013-01-05</td><td>0</td><td> 2574</td><td>399</td><td>1</td><td> 56520</td><td>25</td><td>Москва ТРК \"Атриум\"   </td><td>0.5</td><td>DEL REY LANA  Born To Die  The Paradise Edition  2CD</td><td>55</td><td>Музыка - CD локального производства</td></tr>\n",
              "\t<tr><td>2013-01-07</td><td>0</td><td> 2574</td><td>399</td><td>1</td><td> 56520</td><td>25</td><td>Москва ТРК \"Атриум\"   </td><td>0.5</td><td>DEL REY LANA  Born To Die  The Paradise Edition  2CD</td><td>55</td><td>Музыка - CD локального производства</td></tr>\n",
              "\t<tr><td>2013-01-08</td><td>0</td><td> 2574</td><td>399</td><td>2</td><td> 56520</td><td>25</td><td>Москва ТРК \"Атриум\"   </td><td>0.5</td><td>DEL REY LANA  Born To Die  The Paradise Edition  2CD</td><td>55</td><td>Музыка - CD локального производства</td></tr>\n",
              "\t<tr><td>2013-01-10</td><td>0</td><td> 2574</td><td>399</td><td>1</td><td> 56520</td><td>25</td><td>Москва ТРК \"Атриум\"   </td><td>0.5</td><td>DEL REY LANA  Born To Die  The Paradise Edition  2CD</td><td>55</td><td>Музыка - CD локального производства</td></tr>\n",
              "</tbody>\n",
              "</table>\n"
            ],
            "text/markdown": "\nA tibble: 6 × 12\n\n| date &lt;date&gt; | date_block_num &lt;dbl&gt; | item_id &lt;dbl&gt; | item_price &lt;dbl&gt; | item_cnt_day &lt;dbl&gt; | ID &lt;dbl&gt; | shop_id &lt;dbl&gt; | shop_name &lt;chr&gt; | item_cnt_month &lt;dbl&gt; | item_name &lt;chr&gt; | item_category_id &lt;dbl&gt; | item_category_name &lt;chr&gt; |\n|---|---|---|---|---|---|---|---|---|---|---|---|\n| 2013-01-02 | 0 | 22154 | 999 | 1 | 150983 | 59 | Ярославль ТЦ \"Альтаир\" | 0.5 | ЯВЛЕНИЕ 2012 (BD)                                    | 37 | Кино - Blu-Ray                      |\n| 2013-01-03 | 0 |  2574 | 399 | 2 |  56520 | 25 | Москва ТРК \"Атриум\"    | 0.5 | DEL REY LANA  Born To Die  The Paradise Edition  2CD | 55 | Музыка - CD локального производства |\n| 2013-01-05 | 0 |  2574 | 399 | 1 |  56520 | 25 | Москва ТРК \"Атриум\"    | 0.5 | DEL REY LANA  Born To Die  The Paradise Edition  2CD | 55 | Музыка - CD локального производства |\n| 2013-01-07 | 0 |  2574 | 399 | 1 |  56520 | 25 | Москва ТРК \"Атриум\"    | 0.5 | DEL REY LANA  Born To Die  The Paradise Edition  2CD | 55 | Музыка - CD локального производства |\n| 2013-01-08 | 0 |  2574 | 399 | 2 |  56520 | 25 | Москва ТРК \"Атриум\"    | 0.5 | DEL REY LANA  Born To Die  The Paradise Edition  2CD | 55 | Музыка - CD локального производства |\n| 2013-01-10 | 0 |  2574 | 399 | 1 |  56520 | 25 | Москва ТРК \"Атриум\"    | 0.5 | DEL REY LANA  Born To Die  The Paradise Edition  2CD | 55 | Музыка - CD локального производства |\n\n",
            "text/latex": "A tibble: 6 × 12\n\\begin{tabular}{llllllllllll}\n date & date\\_block\\_num & item\\_id & item\\_price & item\\_cnt\\_day & ID & shop\\_id & shop\\_name & item\\_cnt\\_month & item\\_name & item\\_category\\_id & item\\_category\\_name\\\\\n <date> & <dbl> & <dbl> & <dbl> & <dbl> & <dbl> & <dbl> & <chr> & <dbl> & <chr> & <dbl> & <chr>\\\\\n\\hline\n\t 2013-01-02 & 0 & 22154 & 999 & 1 & 150983 & 59 & Ярославль ТЦ \"Альтаир\" & 0.5 & ЯВЛЕНИЕ 2012 (BD)                                    & 37 & Кино - Blu-Ray                     \\\\\n\t 2013-01-03 & 0 &  2574 & 399 & 2 &  56520 & 25 & Москва ТРК \"Атриум\"    & 0.5 & DEL REY LANA  Born To Die  The Paradise Edition  2CD & 55 & Музыка - CD локального производства\\\\\n\t 2013-01-05 & 0 &  2574 & 399 & 1 &  56520 & 25 & Москва ТРК \"Атриум\"    & 0.5 & DEL REY LANA  Born To Die  The Paradise Edition  2CD & 55 & Музыка - CD локального производства\\\\\n\t 2013-01-07 & 0 &  2574 & 399 & 1 &  56520 & 25 & Москва ТРК \"Атриум\"    & 0.5 & DEL REY LANA  Born To Die  The Paradise Edition  2CD & 55 & Музыка - CD локального производства\\\\\n\t 2013-01-08 & 0 &  2574 & 399 & 2 &  56520 & 25 & Москва ТРК \"Атриум\"    & 0.5 & DEL REY LANA  Born To Die  The Paradise Edition  2CD & 55 & Музыка - CD локального производства\\\\\n\t 2013-01-10 & 0 &  2574 & 399 & 1 &  56520 & 25 & Москва ТРК \"Атриум\"    & 0.5 & DEL REY LANA  Born To Die  The Paradise Edition  2CD & 55 & Музыка - CD локального производства\\\\\n\\end{tabular}\n",
            "text/plain": [
              "  date       date_block_num item_id item_price item_cnt_day ID     shop_id\n",
              "1 2013-01-02 0              22154   999        1            150983 59     \n",
              "2 2013-01-03 0               2574   399        2             56520 25     \n",
              "3 2013-01-05 0               2574   399        1             56520 25     \n",
              "4 2013-01-07 0               2574   399        1             56520 25     \n",
              "5 2013-01-08 0               2574   399        2             56520 25     \n",
              "6 2013-01-10 0               2574   399        1             56520 25     \n",
              "  shop_name              item_cnt_month\n",
              "1 Ярославль ТЦ \"Альтаир\" 0.5           \n",
              "2 Москва ТРК \"Атриум\"    0.5           \n",
              "3 Москва ТРК \"Атриум\"    0.5           \n",
              "4 Москва ТРК \"Атриум\"    0.5           \n",
              "5 Москва ТРК \"Атриум\"    0.5           \n",
              "6 Москва ТРК \"Атриум\"    0.5           \n",
              "  item_name                                            item_category_id\n",
              "1 ЯВЛЕНИЕ 2012 (BD)                                    37              \n",
              "2 DEL REY LANA  Born To Die  The Paradise Edition  2CD 55              \n",
              "3 DEL REY LANA  Born To Die  The Paradise Edition  2CD 55              \n",
              "4 DEL REY LANA  Born To Die  The Paradise Edition  2CD 55              \n",
              "5 DEL REY LANA  Born To Die  The Paradise Edition  2CD 55              \n",
              "6 DEL REY LANA  Born To Die  The Paradise Edition  2CD 55              \n",
              "  item_category_name                 \n",
              "1 Кино - Blu-Ray                     \n",
              "2 Музыка - CD локального производства\n",
              "3 Музыка - CD локального производства\n",
              "4 Музыка - CD локального производства\n",
              "5 Музыка - CD локального производства\n",
              "6 Музыка - CD локального производства"
            ]
          },
          "metadata": {}
        },
        {
          "output_type": "display_data",
          "data": {
            "text/html": [
              "<style>\n",
              ".list-inline {list-style: none; margin:0; padding: 0}\n",
              ".list-inline>li {display: inline-block}\n",
              ".list-inline>li:not(:last-child)::after {content: \"\\00b7\"; padding: 0 .5ex}\n",
              "</style>\n",
              "<ol class=list-inline><li>1224439</li><li>12</li></ol>\n"
            ],
            "text/markdown": "1. 1224439\n2. 12\n\n\n",
            "text/latex": "\\begin{enumerate*}\n\\item 1224439\n\\item 12\n\\end{enumerate*}\n",
            "text/plain": [
              "[1] 1224439      12"
            ]
          },
          "metadata": {}
        },
        {
          "output_type": "stream",
          "name": "stdout",
          "text": [
            "10.596 sec elapsed\n"
          ]
        }
      ]
    },
    {
      "cell_type": "code",
      "source": [
        "df_new <- df %>%\n",
        "  select(where(is.numeric)) %>%\n",
        "  mutate(shop_id = as.factor(shop_id)) %>%\n",
        "  mutate(item_category_id = as.factor(item_category_id)) %>%\n",
        "  select(4,1:3,5:8) %>%\n",
        "  select(-ID,-item_cnt_month)%>%\n",
        "\n",
        "  group_by(item_category_id) %>%\n",
        "  filter(item_price > quantile(item_price, 0.25), \n",
        "         item_price < quantile(item_price, 0.75))\n",
        "head(df_new)\n",
        "\n",
        "df_x <- df_new %>%\n",
        "  select(-item_cnt_day)\n",
        "head(df_x)"
      ],
      "metadata": {
        "colab": {
          "base_uri": "https://localhost:8080/",
          "height": 555
        },
        "id": "TnhGMtpu10M4",
        "outputId": "ebff45fe-f763-4c6d-b4dc-14b99d780a50"
      },
      "execution_count": null,
      "outputs": [
        {
          "output_type": "display_data",
          "data": {
            "text/html": [
              "<table class=\"dataframe\">\n",
              "<caption>A grouped_df: 6 × 6</caption>\n",
              "<thead>\n",
              "\t<tr><th scope=col>item_cnt_day</th><th scope=col>date_block_num</th><th scope=col>item_id</th><th scope=col>item_price</th><th scope=col>shop_id</th><th scope=col>item_category_id</th></tr>\n",
              "\t<tr><th scope=col>&lt;dbl&gt;</th><th scope=col>&lt;dbl&gt;</th><th scope=col>&lt;dbl&gt;</th><th scope=col>&lt;dbl&gt;</th><th scope=col>&lt;fct&gt;</th><th scope=col>&lt;fct&gt;</th></tr>\n",
              "</thead>\n",
              "<tbody>\n",
              "\t<tr><td>1</td><td>0</td><td>2607</td><td> 279</td><td>25</td><td>55</td></tr>\n",
              "\t<tr><td>1</td><td>0</td><td>2607</td><td> 279</td><td>25</td><td>55</td></tr>\n",
              "\t<tr><td>1</td><td>0</td><td>2614</td><td> 299</td><td>25</td><td>55</td></tr>\n",
              "\t<tr><td>1</td><td>0</td><td>2614</td><td> 299</td><td>25</td><td>55</td></tr>\n",
              "\t<tr><td>1</td><td>0</td><td>2703</td><td> 599</td><td>25</td><td>30</td></tr>\n",
              "\t<tr><td>1</td><td>0</td><td>2088</td><td>1299</td><td>25</td><td>58</td></tr>\n",
              "</tbody>\n",
              "</table>\n"
            ],
            "text/markdown": "\nA grouped_df: 6 × 6\n\n| item_cnt_day &lt;dbl&gt; | date_block_num &lt;dbl&gt; | item_id &lt;dbl&gt; | item_price &lt;dbl&gt; | shop_id &lt;fct&gt; | item_category_id &lt;fct&gt; |\n|---|---|---|---|---|---|\n| 1 | 0 | 2607 |  279 | 25 | 55 |\n| 1 | 0 | 2607 |  279 | 25 | 55 |\n| 1 | 0 | 2614 |  299 | 25 | 55 |\n| 1 | 0 | 2614 |  299 | 25 | 55 |\n| 1 | 0 | 2703 |  599 | 25 | 30 |\n| 1 | 0 | 2088 | 1299 | 25 | 58 |\n\n",
            "text/latex": "A grouped\\_df: 6 × 6\n\\begin{tabular}{llllll}\n item\\_cnt\\_day & date\\_block\\_num & item\\_id & item\\_price & shop\\_id & item\\_category\\_id\\\\\n <dbl> & <dbl> & <dbl> & <dbl> & <fct> & <fct>\\\\\n\\hline\n\t 1 & 0 & 2607 &  279 & 25 & 55\\\\\n\t 1 & 0 & 2607 &  279 & 25 & 55\\\\\n\t 1 & 0 & 2614 &  299 & 25 & 55\\\\\n\t 1 & 0 & 2614 &  299 & 25 & 55\\\\\n\t 1 & 0 & 2703 &  599 & 25 & 30\\\\\n\t 1 & 0 & 2088 & 1299 & 25 & 58\\\\\n\\end{tabular}\n",
            "text/plain": [
              "  item_cnt_day date_block_num item_id item_price shop_id item_category_id\n",
              "1 1            0              2607     279       25      55              \n",
              "2 1            0              2607     279       25      55              \n",
              "3 1            0              2614     299       25      55              \n",
              "4 1            0              2614     299       25      55              \n",
              "5 1            0              2703     599       25      30              \n",
              "6 1            0              2088    1299       25      58              "
            ]
          },
          "metadata": {}
        },
        {
          "output_type": "display_data",
          "data": {
            "text/html": [
              "<table class=\"dataframe\">\n",
              "<caption>A grouped_df: 6 × 5</caption>\n",
              "<thead>\n",
              "\t<tr><th scope=col>date_block_num</th><th scope=col>item_id</th><th scope=col>item_price</th><th scope=col>shop_id</th><th scope=col>item_category_id</th></tr>\n",
              "\t<tr><th scope=col>&lt;dbl&gt;</th><th scope=col>&lt;dbl&gt;</th><th scope=col>&lt;dbl&gt;</th><th scope=col>&lt;fct&gt;</th><th scope=col>&lt;fct&gt;</th></tr>\n",
              "</thead>\n",
              "<tbody>\n",
              "\t<tr><td>0</td><td>2607</td><td> 279</td><td>25</td><td>55</td></tr>\n",
              "\t<tr><td>0</td><td>2607</td><td> 279</td><td>25</td><td>55</td></tr>\n",
              "\t<tr><td>0</td><td>2614</td><td> 299</td><td>25</td><td>55</td></tr>\n",
              "\t<tr><td>0</td><td>2614</td><td> 299</td><td>25</td><td>55</td></tr>\n",
              "\t<tr><td>0</td><td>2703</td><td> 599</td><td>25</td><td>30</td></tr>\n",
              "\t<tr><td>0</td><td>2088</td><td>1299</td><td>25</td><td>58</td></tr>\n",
              "</tbody>\n",
              "</table>\n"
            ],
            "text/markdown": "\nA grouped_df: 6 × 5\n\n| date_block_num &lt;dbl&gt; | item_id &lt;dbl&gt; | item_price &lt;dbl&gt; | shop_id &lt;fct&gt; | item_category_id &lt;fct&gt; |\n|---|---|---|---|---|\n| 0 | 2607 |  279 | 25 | 55 |\n| 0 | 2607 |  279 | 25 | 55 |\n| 0 | 2614 |  299 | 25 | 55 |\n| 0 | 2614 |  299 | 25 | 55 |\n| 0 | 2703 |  599 | 25 | 30 |\n| 0 | 2088 | 1299 | 25 | 58 |\n\n",
            "text/latex": "A grouped\\_df: 6 × 5\n\\begin{tabular}{lllll}\n date\\_block\\_num & item\\_id & item\\_price & shop\\_id & item\\_category\\_id\\\\\n <dbl> & <dbl> & <dbl> & <fct> & <fct>\\\\\n\\hline\n\t 0 & 2607 &  279 & 25 & 55\\\\\n\t 0 & 2607 &  279 & 25 & 55\\\\\n\t 0 & 2614 &  299 & 25 & 55\\\\\n\t 0 & 2614 &  299 & 25 & 55\\\\\n\t 0 & 2703 &  599 & 25 & 30\\\\\n\t 0 & 2088 & 1299 & 25 & 58\\\\\n\\end{tabular}\n",
            "text/plain": [
              "  date_block_num item_id item_price shop_id item_category_id\n",
              "1 0              2607     279       25      55              \n",
              "2 0              2607     279       25      55              \n",
              "3 0              2614     299       25      55              \n",
              "4 0              2614     299       25      55              \n",
              "5 0              2703     599       25      30              \n",
              "6 0              2088    1299       25      58              "
            ]
          },
          "metadata": {}
        }
      ]
    },
    {
      "cell_type": "code",
      "source": [
        "dim(count(df_new,item_category_id))"
      ],
      "metadata": {
        "colab": {
          "base_uri": "https://localhost:8080/",
          "height": 34
        },
        "id": "cMUacx5e4GBX",
        "outputId": "d55bf3e5-64a3-4291-ec0b-3619c382cf19"
      },
      "execution_count": null,
      "outputs": [
        {
          "output_type": "display_data",
          "data": {
            "text/html": [
              "<style>\n",
              ".list-inline {list-style: none; margin:0; padding: 0}\n",
              ".list-inline>li {display: inline-block}\n",
              ".list-inline>li:not(:last-child)::after {content: \"\\00b7\"; padding: 0 .5ex}\n",
              "</style>\n",
              "<ol class=list-inline><li>51</li><li>2</li></ol>\n"
            ],
            "text/markdown": "1. 51\n2. 2\n\n\n",
            "text/latex": "\\begin{enumerate*}\n\\item 51\n\\item 2\n\\end{enumerate*}\n",
            "text/plain": [
              "[1] 51  2"
            ]
          },
          "metadata": {}
        }
      ]
    },
    {
      "cell_type": "code",
      "source": [
        "set.seed(123)\n",
        "split = sample.split(df_new$item_cnt_day, SplitRatio = 0.8)\n",
        "training_set = subset(df_new, split == TRUE)\n",
        "test_set = subset(df_new, split == FALSE)\n"
      ],
      "metadata": {
        "id": "HFFF1E_n10Ki"
      },
      "execution_count": null,
      "outputs": []
    },
    {
      "cell_type": "code",
      "source": [
        "# Multivariable linear\n",
        "mul_lin = lm(formula = item_cnt_day ~ .,\n",
        "               data = training_set)\n",
        "# Make predictions\n",
        "predictions_lin <- mul_lin %>% predict(test_set)\n",
        "# Model performance\n",
        "data.frame(\n",
        "  RMSE = RMSE(predictions_lin, test_set$item_cnt_day),\n",
        "  R2 = R2(predictions_lin, test_set$item_cnt_day)\n",
        ")"
      ],
      "metadata": {
        "colab": {
          "base_uri": "https://localhost:8080/",
          "height": 164
        },
        "id": "LRDvzf3b8cUu",
        "outputId": "d47a2860-0b6e-496d-cc55-9f6ff8f136b7"
      },
      "execution_count": null,
      "outputs": [
        {
          "output_type": "stream",
          "name": "stderr",
          "text": [
            "Warning message in predict.lm(., test_set):\n",
            "“prediction from a rank-deficient fit may be misleading”\n"
          ]
        },
        {
          "output_type": "display_data",
          "data": {
            "text/html": [
              "<table class=\"dataframe\">\n",
              "<caption>A data.frame: 1 × 2</caption>\n",
              "<thead>\n",
              "\t<tr><th scope=col>RMSE</th><th scope=col>R2</th></tr>\n",
              "\t<tr><th scope=col>&lt;dbl&gt;</th><th scope=col>&lt;dbl&gt;</th></tr>\n",
              "</thead>\n",
              "<tbody>\n",
              "\t<tr><td>1.043772</td><td>0.06418771</td></tr>\n",
              "</tbody>\n",
              "</table>\n"
            ],
            "text/markdown": "\nA data.frame: 1 × 2\n\n| RMSE &lt;dbl&gt; | R2 &lt;dbl&gt; |\n|---|---|\n| 1.043772 | 0.06418771 |\n\n",
            "text/latex": "A data.frame: 1 × 2\n\\begin{tabular}{ll}\n RMSE & R2\\\\\n <dbl> & <dbl>\\\\\n\\hline\n\t 1.043772 & 0.06418771\\\\\n\\end{tabular}\n",
            "text/plain": [
              "  RMSE     R2        \n",
              "1 1.043772 0.06418771"
            ]
          },
          "metadata": {}
        }
      ]
    },
    {
      "cell_type": "code",
      "source": [
        "# polynomial linear, 1 x variable\n",
        "pol_lin <- lm(item_cnt_day ~ polym(date_block_num, degree=4, raw=TRUE), data = training_set)\n",
        "\n",
        "# Make predictions\n",
        "predictions_pol1 <- pol_lin %>% predict(test_set)\n",
        "# Model performance\n",
        "data.frame(\n",
        "  RMSE = RMSE(predictions_pol1, test_set$item_cnt_day),\n",
        "  R2 = R2(predictions_pol1, test_set$item_cnt_day)\n",
        ")"
      ],
      "metadata": {
        "colab": {
          "base_uri": "https://localhost:8080/",
          "height": 129
        },
        "id": "KocFlJAm8cQQ",
        "outputId": "48e168a7-797e-4abc-f7c7-6077f92b8ae9"
      },
      "execution_count": null,
      "outputs": [
        {
          "output_type": "display_data",
          "data": {
            "text/html": [
              "<table class=\"dataframe\">\n",
              "<caption>A data.frame: 1 × 2</caption>\n",
              "<thead>\n",
              "\t<tr><th scope=col>RMSE</th><th scope=col>R2</th></tr>\n",
              "\t<tr><th scope=col>&lt;dbl&gt;</th><th scope=col>&lt;dbl&gt;</th></tr>\n",
              "</thead>\n",
              "<tbody>\n",
              "\t<tr><td>1.075684</td><td>0.002069941</td></tr>\n",
              "</tbody>\n",
              "</table>\n"
            ],
            "text/markdown": "\nA data.frame: 1 × 2\n\n| RMSE &lt;dbl&gt; | R2 &lt;dbl&gt; |\n|---|---|\n| 1.075684 | 0.002069941 |\n\n",
            "text/latex": "A data.frame: 1 × 2\n\\begin{tabular}{ll}\n RMSE & R2\\\\\n <dbl> & <dbl>\\\\\n\\hline\n\t 1.075684 & 0.002069941\\\\\n\\end{tabular}\n",
            "text/plain": [
              "  RMSE     R2         \n",
              "1 1.075684 0.002069941"
            ]
          },
          "metadata": {}
        }
      ]
    },
    {
      "cell_type": "code",
      "source": [
        "# polynomial linear, all x variables\n",
        "mul_pol_lin <- lm(item_cnt_day ~ polym(date_block_num, item_id, item_price, shop_id, item_category_id, degree=4, raw=TRUE), data = training_set)\n",
        "\n",
        "# Make predictions\n",
        "predictions_polall <- mul_pol_lin %>% predict(test_set)\n",
        "# Model performance\n",
        "data.frame(\n",
        "  RMSE = RMSE(predictions_polall, test_set$item_cnt_day),\n",
        "  R2 = R2(predictions_polall, test_set$item_cnt_day)\n",
        ")"
      ],
      "metadata": {
        "colab": {
          "base_uri": "https://localhost:8080/",
          "height": 129
        },
        "id": "vB7qKpZd8cHE",
        "outputId": "9b457832-bd1c-4de4-ffa9-f2d9ca45fb98"
      },
      "execution_count": null,
      "outputs": [
        {
          "output_type": "display_data",
          "data": {
            "text/html": [
              "<table class=\"dataframe\">\n",
              "<caption>A data.frame: 1 × 2</caption>\n",
              "<thead>\n",
              "\t<tr><th scope=col>RMSE</th><th scope=col>R2</th></tr>\n",
              "\t<tr><th scope=col>&lt;dbl&gt;</th><th scope=col>&lt;dbl&gt;</th></tr>\n",
              "</thead>\n",
              "<tbody>\n",
              "\t<tr><td>1.055002</td><td>0.04341552</td></tr>\n",
              "</tbody>\n",
              "</table>\n"
            ],
            "text/markdown": "\nA data.frame: 1 × 2\n\n| RMSE &lt;dbl&gt; | R2 &lt;dbl&gt; |\n|---|---|\n| 1.055002 | 0.04341552 |\n\n",
            "text/latex": "A data.frame: 1 × 2\n\\begin{tabular}{ll}\n RMSE & R2\\\\\n <dbl> & <dbl>\\\\\n\\hline\n\t 1.055002 & 0.04341552\\\\\n\\end{tabular}\n",
            "text/plain": [
              "  RMSE     R2        \n",
              "1 1.055002 0.04341552"
            ]
          },
          "metadata": {}
        }
      ]
    },
    {
      "cell_type": "code",
      "source": [
        "## polynomial linear, all x variables. date_block_num, item_price at 4th degree, the rest at 1st\n",
        "mul_pol_lin2 <- lm(item_cnt_day ~ polym(date_block_num, item_price, degree=4, raw=TRUE) + item_id + shop_id + item_category_id, data = training_set)\n",
        "\n",
        "# Make predictions\n",
        "predictions_pol_some <- mul_pol_lin2 %>% predict(test_set)\n",
        "# Model performance\n",
        "data.frame(\n",
        "  RMSE = RMSE(predictions_pol_some, test_set$item_cnt_day),\n",
        "  R2 = R2(predictions_pol_some, test_set$item_cnt_day)\n",
        ")"
      ],
      "metadata": {
        "colab": {
          "base_uri": "https://localhost:8080/",
          "height": 164
        },
        "id": "UQCIbAJV8cCb",
        "outputId": "1786ebc6-daab-4ae9-e6a8-1e8b41cdaccd"
      },
      "execution_count": null,
      "outputs": [
        {
          "output_type": "stream",
          "name": "stderr",
          "text": [
            "Warning message in predict.lm(., test_set):\n",
            "“prediction from a rank-deficient fit may be misleading”\n"
          ]
        },
        {
          "output_type": "display_data",
          "data": {
            "text/html": [
              "<table class=\"dataframe\">\n",
              "<caption>A data.frame: 1 × 2</caption>\n",
              "<thead>\n",
              "\t<tr><th scope=col>RMSE</th><th scope=col>R2</th></tr>\n",
              "\t<tr><th scope=col>&lt;dbl&gt;</th><th scope=col>&lt;dbl&gt;</th></tr>\n",
              "</thead>\n",
              "<tbody>\n",
              "\t<tr><td>1.041927</td><td>0.06753493</td></tr>\n",
              "</tbody>\n",
              "</table>\n"
            ],
            "text/markdown": "\nA data.frame: 1 × 2\n\n| RMSE &lt;dbl&gt; | R2 &lt;dbl&gt; |\n|---|---|\n| 1.041927 | 0.06753493 |\n\n",
            "text/latex": "A data.frame: 1 × 2\n\\begin{tabular}{ll}\n RMSE & R2\\\\\n <dbl> & <dbl>\\\\\n\\hline\n\t 1.041927 & 0.06753493\\\\\n\\end{tabular}\n",
            "text/plain": [
              "  RMSE     R2        \n",
              "1 1.041927 0.06753493"
            ]
          },
          "metadata": {}
        }
      ]
    },
    {
      "cell_type": "code",
      "source": [],
      "metadata": {
        "id": "SYVkNinrdZq0"
      },
      "execution_count": null,
      "outputs": []
    },
    {
      "cell_type": "code",
      "source": [],
      "metadata": {
        "id": "F_AviuXrdZoe"
      },
      "execution_count": null,
      "outputs": []
    },
    {
      "cell_type": "code",
      "source": [],
      "metadata": {
        "id": "tw13LCXRdZmP"
      },
      "execution_count": null,
      "outputs": []
    },
    {
      "cell_type": "code",
      "source": [],
      "metadata": {
        "id": "SIcLtNYpdZj8"
      },
      "execution_count": null,
      "outputs": []
    },
    {
      "cell_type": "code",
      "source": [],
      "metadata": {
        "id": "OM0bZJiZdZha"
      },
      "execution_count": null,
      "outputs": []
    },
    {
      "cell_type": "code",
      "source": [],
      "metadata": {
        "id": "BYjUHJ-3dZfE"
      },
      "execution_count": null,
      "outputs": []
    },
    {
      "cell_type": "code",
      "source": [],
      "metadata": {
        "id": "0l_rEoCmdZc6"
      },
      "execution_count": null,
      "outputs": []
    },
    {
      "cell_type": "code",
      "source": [],
      "metadata": {
        "id": "8jJxrGaodZat"
      },
      "execution_count": null,
      "outputs": []
    },
    {
      "cell_type": "code",
      "source": [],
      "metadata": {
        "id": "5QetWyXIdZYU"
      },
      "execution_count": null,
      "outputs": []
    },
    {
      "cell_type": "code",
      "source": [],
      "metadata": {
        "id": "PQINFUe3dZV8"
      },
      "execution_count": null,
      "outputs": []
    },
    {
      "cell_type": "code",
      "source": [
        "# Multivariable linear\n",
        "mul_lin = lm(formula = item_cnt_day ~ .,\n",
        "               data = training_set)\n",
        "# Make predictions\n",
        "predictions_lin <- mul_lin %>% predict(test_set)\n",
        "# Model performance\n",
        "data.frame(\n",
        "  RMSE = RMSE(predictions_lin, test_set$item_cnt_day),\n",
        "  R2 = R2(predictions_lin, test_set$item_cnt_day)\n",
        ")"
      ],
      "metadata": {
        "colab": {
          "base_uri": "https://localhost:8080/",
          "height": 164
        },
        "id": "qRk3WliWdZT1",
        "outputId": "b05f5819-0412-41bc-a96e-e6713f00becf"
      },
      "execution_count": null,
      "outputs": [
        {
          "output_type": "stream",
          "name": "stderr",
          "text": [
            "Warning message in predict.lm(., test_set):\n",
            "“prediction from a rank-deficient fit may be misleading”\n"
          ]
        },
        {
          "output_type": "display_data",
          "data": {
            "text/html": [
              "<table class=\"dataframe\">\n",
              "<caption>A data.frame: 1 × 2</caption>\n",
              "<thead>\n",
              "\t<tr><th scope=col>RMSE</th><th scope=col>R2</th></tr>\n",
              "\t<tr><th scope=col>&lt;dbl&gt;</th><th scope=col>&lt;dbl&gt;</th></tr>\n",
              "</thead>\n",
              "<tbody>\n",
              "\t<tr><td>1.043772</td><td>0.06418771</td></tr>\n",
              "</tbody>\n",
              "</table>\n"
            ],
            "text/markdown": "\nA data.frame: 1 × 2\n\n| RMSE &lt;dbl&gt; | R2 &lt;dbl&gt; |\n|---|---|\n| 1.043772 | 0.06418771 |\n\n",
            "text/latex": "A data.frame: 1 × 2\n\\begin{tabular}{ll}\n RMSE & R2\\\\\n <dbl> & <dbl>\\\\\n\\hline\n\t 1.043772 & 0.06418771\\\\\n\\end{tabular}\n",
            "text/plain": [
              "  RMSE     R2        \n",
              "1 1.043772 0.06418771"
            ]
          },
          "metadata": {}
        }
      ]
    },
    {
      "cell_type": "code",
      "source": [
        "dim(test_set)"
      ],
      "metadata": {
        "colab": {
          "base_uri": "https://localhost:8080/",
          "height": 34
        },
        "id": "ap5dSTpzdZRi",
        "outputId": "80c119c5-a845-4d11-afd8-5044ff6d538f"
      },
      "execution_count": null,
      "outputs": [
        {
          "output_type": "display_data",
          "data": {
            "text/html": [
              "<style>\n",
              ".list-inline {list-style: none; margin:0; padding: 0}\n",
              ".list-inline>li {display: inline-block}\n",
              ".list-inline>li:not(:last-child)::after {content: \"\\00b7\"; padding: 0 .5ex}\n",
              "</style>\n",
              "<ol class=list-inline><li>92468</li><li>6</li></ol>\n"
            ],
            "text/markdown": "1. 92468\n2. 6\n\n\n",
            "text/latex": "\\begin{enumerate*}\n\\item 92468\n\\item 6\n\\end{enumerate*}\n",
            "text/plain": [
              "[1] 92468     6"
            ]
          },
          "metadata": {}
        }
      ]
    },
    {
      "cell_type": "code",
      "source": [
        "pred_lin <- data.frame(predictions_lin)"
      ],
      "metadata": {
        "id": "VuYTQLJ4q-vh"
      },
      "execution_count": null,
      "outputs": []
    },
    {
      "cell_type": "code",
      "source": [
        "head(pred_lin)"
      ],
      "metadata": {
        "colab": {
          "base_uri": "https://localhost:8080/",
          "height": 286
        },
        "id": "MviLurl5ev_j",
        "outputId": "22731888-581e-44f5-fae5-a1c00773a908"
      },
      "execution_count": null,
      "outputs": [
        {
          "output_type": "display_data",
          "data": {
            "text/html": [
              "<table class=\"dataframe\">\n",
              "<caption>A data.frame: 6 × 1</caption>\n",
              "<thead>\n",
              "\t<tr><th></th><th scope=col>predictions_lin</th></tr>\n",
              "\t<tr><th></th><th scope=col>&lt;dbl&gt;</th></tr>\n",
              "</thead>\n",
              "<tbody>\n",
              "\t<tr><th scope=row>1</th><td>1.241190</td></tr>\n",
              "\t<tr><th scope=row>2</th><td>1.414320</td></tr>\n",
              "\t<tr><th scope=row>3</th><td>1.416030</td></tr>\n",
              "\t<tr><th scope=row>4</th><td>1.416030</td></tr>\n",
              "\t<tr><th scope=row>5</th><td>1.230516</td></tr>\n",
              "\t<tr><th scope=row>6</th><td>1.414320</td></tr>\n",
              "</tbody>\n",
              "</table>\n"
            ],
            "text/markdown": "\nA data.frame: 6 × 1\n\n| <!--/--> | predictions_lin &lt;dbl&gt; |\n|---|---|\n| 1 | 1.241190 |\n| 2 | 1.414320 |\n| 3 | 1.416030 |\n| 4 | 1.416030 |\n| 5 | 1.230516 |\n| 6 | 1.414320 |\n\n",
            "text/latex": "A data.frame: 6 × 1\n\\begin{tabular}{r|l}\n  & predictions\\_lin\\\\\n  & <dbl>\\\\\n\\hline\n\t1 & 1.241190\\\\\n\t2 & 1.414320\\\\\n\t3 & 1.416030\\\\\n\t4 & 1.416030\\\\\n\t5 & 1.230516\\\\\n\t6 & 1.414320\\\\\n\\end{tabular}\n",
            "text/plain": [
              "  predictions_lin\n",
              "1 1.241190       \n",
              "2 1.414320       \n",
              "3 1.416030       \n",
              "4 1.416030       \n",
              "5 1.230516       \n",
              "6 1.414320       "
            ]
          },
          "metadata": {}
        }
      ]
    },
    {
      "cell_type": "code",
      "source": [
        "head(test_set)"
      ],
      "metadata": {
        "colab": {
          "base_uri": "https://localhost:8080/",
          "height": 286
        },
        "id": "mnbH9-xydsBt",
        "outputId": "e0c69601-62b6-48ff-be35-88ed97998ec1"
      },
      "execution_count": null,
      "outputs": [
        {
          "output_type": "display_data",
          "data": {
            "text/html": [
              "<table class=\"dataframe\">\n",
              "<caption>A grouped_df: 6 × 6</caption>\n",
              "<thead>\n",
              "\t<tr><th scope=col>item_cnt_day</th><th scope=col>date_block_num</th><th scope=col>item_id</th><th scope=col>item_price</th><th scope=col>shop_id</th><th scope=col>item_category_id</th></tr>\n",
              "\t<tr><th scope=col>&lt;dbl&gt;</th><th scope=col>&lt;dbl&gt;</th><th scope=col>&lt;dbl&gt;</th><th scope=col>&lt;dbl&gt;</th><th scope=col>&lt;fct&gt;</th><th scope=col>&lt;fct&gt;</th></tr>\n",
              "</thead>\n",
              "<tbody>\n",
              "\t<tr><td>1</td><td>0</td><td>2614</td><td>299</td><td>25</td><td>55</td></tr>\n",
              "\t<tr><td>1</td><td>0</td><td>2703</td><td>599</td><td>25</td><td>30</td></tr>\n",
              "\t<tr><td>1</td><td>0</td><td>2252</td><td>599</td><td>25</td><td>30</td></tr>\n",
              "\t<tr><td>1</td><td>0</td><td>2252</td><td>599</td><td>25</td><td>30</td></tr>\n",
              "\t<tr><td>1</td><td>0</td><td>2678</td><td>999</td><td>25</td><td>23</td></tr>\n",
              "\t<tr><td>1</td><td>0</td><td>2703</td><td>599</td><td>25</td><td>30</td></tr>\n",
              "</tbody>\n",
              "</table>\n"
            ],
            "text/markdown": "\nA grouped_df: 6 × 6\n\n| item_cnt_day &lt;dbl&gt; | date_block_num &lt;dbl&gt; | item_id &lt;dbl&gt; | item_price &lt;dbl&gt; | shop_id &lt;fct&gt; | item_category_id &lt;fct&gt; |\n|---|---|---|---|---|---|\n| 1 | 0 | 2614 | 299 | 25 | 55 |\n| 1 | 0 | 2703 | 599 | 25 | 30 |\n| 1 | 0 | 2252 | 599 | 25 | 30 |\n| 1 | 0 | 2252 | 599 | 25 | 30 |\n| 1 | 0 | 2678 | 999 | 25 | 23 |\n| 1 | 0 | 2703 | 599 | 25 | 30 |\n\n",
            "text/latex": "A grouped\\_df: 6 × 6\n\\begin{tabular}{llllll}\n item\\_cnt\\_day & date\\_block\\_num & item\\_id & item\\_price & shop\\_id & item\\_category\\_id\\\\\n <dbl> & <dbl> & <dbl> & <dbl> & <fct> & <fct>\\\\\n\\hline\n\t 1 & 0 & 2614 & 299 & 25 & 55\\\\\n\t 1 & 0 & 2703 & 599 & 25 & 30\\\\\n\t 1 & 0 & 2252 & 599 & 25 & 30\\\\\n\t 1 & 0 & 2252 & 599 & 25 & 30\\\\\n\t 1 & 0 & 2678 & 999 & 25 & 23\\\\\n\t 1 & 0 & 2703 & 599 & 25 & 30\\\\\n\\end{tabular}\n",
            "text/plain": [
              "  item_cnt_day date_block_num item_id item_price shop_id item_category_id\n",
              "1 1            0              2614    299        25      55              \n",
              "2 1            0              2703    599        25      30              \n",
              "3 1            0              2252    599        25      30              \n",
              "4 1            0              2252    599        25      30              \n",
              "5 1            0              2678    999        25      23              \n",
              "6 1            0              2703    599        25      30              "
            ]
          },
          "metadata": {}
        }
      ]
    },
    {
      "cell_type": "code",
      "source": [
        "test_set_new <- test_set %>%\n",
        "  cbind(pred_lin) %>%\n",
        "  select(1,7,2:6)"
      ],
      "metadata": {
        "id": "DuB1IZ09dr_K"
      },
      "execution_count": null,
      "outputs": []
    },
    {
      "cell_type": "code",
      "source": [
        "head(test_set_new)"
      ],
      "metadata": {
        "colab": {
          "base_uri": "https://localhost:8080/",
          "height": 286
        },
        "id": "7sQ7HM3tdr8q",
        "outputId": "b0e4af85-0334-40bf-8934-17742d5fd4f2"
      },
      "execution_count": null,
      "outputs": [
        {
          "output_type": "display_data",
          "data": {
            "text/html": [
              "<table class=\"dataframe\">\n",
              "<caption>A grouped_df: 6 × 7</caption>\n",
              "<thead>\n",
              "\t<tr><th scope=col>item_cnt_day</th><th scope=col>predictions_lin</th><th scope=col>date_block_num</th><th scope=col>item_id</th><th scope=col>item_price</th><th scope=col>shop_id</th><th scope=col>item_category_id</th></tr>\n",
              "\t<tr><th scope=col>&lt;dbl&gt;</th><th scope=col>&lt;dbl&gt;</th><th scope=col>&lt;dbl&gt;</th><th scope=col>&lt;dbl&gt;</th><th scope=col>&lt;dbl&gt;</th><th scope=col>&lt;fct&gt;</th><th scope=col>&lt;fct&gt;</th></tr>\n",
              "</thead>\n",
              "<tbody>\n",
              "\t<tr><td>1</td><td>1.241190</td><td>0</td><td>2614</td><td>299</td><td>25</td><td>55</td></tr>\n",
              "\t<tr><td>1</td><td>1.414320</td><td>0</td><td>2703</td><td>599</td><td>25</td><td>30</td></tr>\n",
              "\t<tr><td>1</td><td>1.416030</td><td>0</td><td>2252</td><td>599</td><td>25</td><td>30</td></tr>\n",
              "\t<tr><td>1</td><td>1.416030</td><td>0</td><td>2252</td><td>599</td><td>25</td><td>30</td></tr>\n",
              "\t<tr><td>1</td><td>1.230516</td><td>0</td><td>2678</td><td>999</td><td>25</td><td>23</td></tr>\n",
              "\t<tr><td>1</td><td>1.414320</td><td>0</td><td>2703</td><td>599</td><td>25</td><td>30</td></tr>\n",
              "</tbody>\n",
              "</table>\n"
            ],
            "text/markdown": "\nA grouped_df: 6 × 7\n\n| item_cnt_day &lt;dbl&gt; | predictions_lin &lt;dbl&gt; | date_block_num &lt;dbl&gt; | item_id &lt;dbl&gt; | item_price &lt;dbl&gt; | shop_id &lt;fct&gt; | item_category_id &lt;fct&gt; |\n|---|---|---|---|---|---|---|\n| 1 | 1.241190 | 0 | 2614 | 299 | 25 | 55 |\n| 1 | 1.414320 | 0 | 2703 | 599 | 25 | 30 |\n| 1 | 1.416030 | 0 | 2252 | 599 | 25 | 30 |\n| 1 | 1.416030 | 0 | 2252 | 599 | 25 | 30 |\n| 1 | 1.230516 | 0 | 2678 | 999 | 25 | 23 |\n| 1 | 1.414320 | 0 | 2703 | 599 | 25 | 30 |\n\n",
            "text/latex": "A grouped\\_df: 6 × 7\n\\begin{tabular}{lllllll}\n item\\_cnt\\_day & predictions\\_lin & date\\_block\\_num & item\\_id & item\\_price & shop\\_id & item\\_category\\_id\\\\\n <dbl> & <dbl> & <dbl> & <dbl> & <dbl> & <fct> & <fct>\\\\\n\\hline\n\t 1 & 1.241190 & 0 & 2614 & 299 & 25 & 55\\\\\n\t 1 & 1.414320 & 0 & 2703 & 599 & 25 & 30\\\\\n\t 1 & 1.416030 & 0 & 2252 & 599 & 25 & 30\\\\\n\t 1 & 1.416030 & 0 & 2252 & 599 & 25 & 30\\\\\n\t 1 & 1.230516 & 0 & 2678 & 999 & 25 & 23\\\\\n\t 1 & 1.414320 & 0 & 2703 & 599 & 25 & 30\\\\\n\\end{tabular}\n",
            "text/plain": [
              "  item_cnt_day predictions_lin date_block_num item_id item_price shop_id\n",
              "1 1            1.241190        0              2614    299        25     \n",
              "2 1            1.414320        0              2703    599        25     \n",
              "3 1            1.416030        0              2252    599        25     \n",
              "4 1            1.416030        0              2252    599        25     \n",
              "5 1            1.230516        0              2678    999        25     \n",
              "6 1            1.414320        0              2703    599        25     \n",
              "  item_category_id\n",
              "1 55              \n",
              "2 30              \n",
              "3 30              \n",
              "4 30              \n",
              "5 23              \n",
              "6 30              "
            ]
          },
          "metadata": {}
        }
      ]
    },
    {
      "cell_type": "code",
      "source": [
        "df_month_result <- test_set_new %>%\n",
        "  ungroup()%>%\n",
        "  group_by(date_block_num) %>%\n",
        "  summarise(sum_pred = sum(predictions_lin), sum_actual = sum(item_cnt_day)) %>%\n",
        "  arrange(date_block_num)"
      ],
      "metadata": {
        "id": "4wloyAc0gu6v"
      },
      "execution_count": null,
      "outputs": []
    },
    {
      "cell_type": "code",
      "source": [
        "head(df_month_result)"
      ],
      "metadata": {
        "colab": {
          "base_uri": "https://localhost:8080/",
          "height": 286
        },
        "id": "w412xb60dr4U",
        "outputId": "83fb304b-f82d-4a6d-eb08-f81a0caaab19"
      },
      "execution_count": null,
      "outputs": [
        {
          "output_type": "display_data",
          "data": {
            "text/html": [
              "<table class=\"dataframe\">\n",
              "<caption>A tibble: 6 × 3</caption>\n",
              "<thead>\n",
              "\t<tr><th scope=col>date_block_num</th><th scope=col>sum_pred</th><th scope=col>sum_actual</th></tr>\n",
              "\t<tr><th scope=col>&lt;dbl&gt;</th><th scope=col>&lt;dbl&gt;</th><th scope=col>&lt;dbl&gt;</th></tr>\n",
              "</thead>\n",
              "<tbody>\n",
              "\t<tr><td>0</td><td>1633.830</td><td>1610</td></tr>\n",
              "\t<tr><td>1</td><td>1498.605</td><td>1444</td></tr>\n",
              "\t<tr><td>2</td><td>2130.671</td><td>2353</td></tr>\n",
              "\t<tr><td>3</td><td>1468.845</td><td>1355</td></tr>\n",
              "\t<tr><td>4</td><td>1436.835</td><td>1317</td></tr>\n",
              "\t<tr><td>5</td><td>1795.816</td><td>1652</td></tr>\n",
              "</tbody>\n",
              "</table>\n"
            ],
            "text/markdown": "\nA tibble: 6 × 3\n\n| date_block_num &lt;dbl&gt; | sum_pred &lt;dbl&gt; | sum_actual &lt;dbl&gt; |\n|---|---|---|\n| 0 | 1633.830 | 1610 |\n| 1 | 1498.605 | 1444 |\n| 2 | 2130.671 | 2353 |\n| 3 | 1468.845 | 1355 |\n| 4 | 1436.835 | 1317 |\n| 5 | 1795.816 | 1652 |\n\n",
            "text/latex": "A tibble: 6 × 3\n\\begin{tabular}{lll}\n date\\_block\\_num & sum\\_pred & sum\\_actual\\\\\n <dbl> & <dbl> & <dbl>\\\\\n\\hline\n\t 0 & 1633.830 & 1610\\\\\n\t 1 & 1498.605 & 1444\\\\\n\t 2 & 2130.671 & 2353\\\\\n\t 3 & 1468.845 & 1355\\\\\n\t 4 & 1436.835 & 1317\\\\\n\t 5 & 1795.816 & 1652\\\\\n\\end{tabular}\n",
            "text/plain": [
              "  date_block_num sum_pred sum_actual\n",
              "1 0              1633.830 1610      \n",
              "2 1              1498.605 1444      \n",
              "3 2              2130.671 2353      \n",
              "4 3              1468.845 1355      \n",
              "5 4              1436.835 1317      \n",
              "6 5              1795.816 1652      "
            ]
          },
          "metadata": {}
        }
      ]
    },
    {
      "cell_type": "code",
      "source": [
        "ggplot(df_month_result) +\n",
        "  geom_point(aes(sum_pred,sum_actual))"
      ],
      "metadata": {
        "colab": {
          "base_uri": "https://localhost:8080/",
          "height": 437
        },
        "id": "MQcO4Mg4j6Sn",
        "outputId": "705f55af-a1ec-426d-b42a-10291a54182e"
      },
      "execution_count": null,
      "outputs": [
        {
          "output_type": "display_data",
          "data": {
            "text/plain": [
              "plot without title"
            ],
            "image/png": "[encoded data removed]"
          },
          "metadata": {
            "image/png": {
              "width": 420,
              "height": 420
            }
          }
        }
      ]
    },
    {
      "cell_type": "code",
      "source": [
        "set.seed(123)\n",
        "split = sample.split(df_month_result$sum_actual, SplitRatio = 0.8)\n",
        "training_set = subset(df_month_result, split == TRUE)\n",
        "test_set = subset(df_month_result, split == FALSE)"
      ],
      "metadata": {
        "id": "bXCrBDiRlWn5"
      },
      "execution_count": null,
      "outputs": []
    },
    {
      "cell_type": "code",
      "source": [
        "# Multivariable linear\n",
        "mul_lin = lm(formula = sum_actual ~ sum_pred,\n",
        "               data = training_set)\n",
        "# Make predictions\n",
        "predictions_lin <- mul_lin %>% predict(test_set)\n",
        "# Model performance\n",
        "data.frame(\n",
        "  RMSE = RMSE(predictions_lin, test_set$sum_actual),\n",
        "  R2 = R2(predictions_lin, test_set$sum_actual)\n",
        ")"
      ],
      "metadata": {
        "colab": {
          "base_uri": "https://localhost:8080/",
          "height": 129
        },
        "id": "XGBzBOZjk9pY",
        "outputId": "4e6c6848-160a-4721-a68f-d54d8616e5c8"
      },
      "execution_count": null,
      "outputs": [
        {
          "output_type": "display_data",
          "data": {
            "text/html": [
              "<table class=\"dataframe\">\n",
              "<caption>A data.frame: 1 × 2</caption>\n",
              "<thead>\n",
              "\t<tr><th scope=col>RMSE</th><th scope=col>R2</th></tr>\n",
              "\t<tr><th scope=col>&lt;dbl&gt;</th><th scope=col>&lt;dbl&gt;</th></tr>\n",
              "</thead>\n",
              "<tbody>\n",
              "\t<tr><td>177.5484</td><td>0.9914342</td></tr>\n",
              "</tbody>\n",
              "</table>\n"
            ],
            "text/markdown": "\nA data.frame: 1 × 2\n\n| RMSE &lt;dbl&gt; | R2 &lt;dbl&gt; |\n|---|---|\n| 177.5484 | 0.9914342 |\n\n",
            "text/latex": "A data.frame: 1 × 2\n\\begin{tabular}{ll}\n RMSE & R2\\\\\n <dbl> & <dbl>\\\\\n\\hline\n\t 177.5484 & 0.9914342\\\\\n\\end{tabular}\n",
            "text/plain": [
              "  RMSE     R2       \n",
              "1 177.5484 0.9914342"
            ]
          },
          "metadata": {}
        }
      ]
    },
    {
      "cell_type": "code",
      "source": [],
      "metadata": {
        "id": "jAz4XNuPk9nV"
      },
      "execution_count": null,
      "outputs": []
    },
    {
      "cell_type": "code",
      "source": [],
      "metadata": {
        "id": "m6C2h4yWk9lL"
      },
      "execution_count": null,
      "outputs": []
    },
    {
      "cell_type": "code",
      "source": [],
      "metadata": {
        "id": "jctqCGYck9is"
      },
      "execution_count": null,
      "outputs": []
    },
    {
      "cell_type": "code",
      "source": [],
      "metadata": {
        "id": "YNQ-l9P5k9gZ"
      },
      "execution_count": null,
      "outputs": []
    },
    {
      "cell_type": "code",
      "source": [],
      "metadata": {
        "id": "LGwWHmFjk9eD"
      },
      "execution_count": null,
      "outputs": []
    },
    {
      "cell_type": "code",
      "source": [],
      "metadata": {
        "id": "aKwXeYhTk9bo"
      },
      "execution_count": null,
      "outputs": []
    },
    {
      "cell_type": "code",
      "source": [],
      "metadata": {
        "id": "YgY5j_42k9ZF"
      },
      "execution_count": null,
      "outputs": []
    },
    {
      "cell_type": "code",
      "source": [
        "df_shop_result <- test_set_new %>%\n",
        "  ungroup()%>%\n",
        "  group_by(shop_id) %>%\n",
        "  summarise(sum_pred = sum(predictions_lin), sum_actual = sum(item_cnt_day)) %>%\n",
        "  arrange(shop_id)"
      ],
      "metadata": {
        "id": "ifmRGci-5XGD"
      },
      "execution_count": null,
      "outputs": []
    },
    {
      "cell_type": "code",
      "source": [
        "head(df_shop_result)"
      ],
      "metadata": {
        "colab": {
          "base_uri": "https://localhost:8080/",
          "height": 286
        },
        "id": "Y9Qj2_XDkr19",
        "outputId": "5c014092-c331-4482-9174-0f9e56129a91"
      },
      "execution_count": null,
      "outputs": [
        {
          "output_type": "display_data",
          "data": {
            "text/html": [
              "<table class=\"dataframe\">\n",
              "<caption>A tibble: 6 × 3</caption>\n",
              "<thead>\n",
              "\t<tr><th scope=col>shop_id</th><th scope=col>sum_pred</th><th scope=col>sum_actual</th></tr>\n",
              "\t<tr><th scope=col>&lt;fct&gt;</th><th scope=col>&lt;dbl&gt;</th><th scope=col>&lt;dbl&gt;</th></tr>\n",
              "</thead>\n",
              "<tbody>\n",
              "\t<tr><td>2</td><td>1364.096</td><td>1337</td></tr>\n",
              "\t<tr><td>3</td><td>1273.184</td><td>1263</td></tr>\n",
              "\t<tr><td>4</td><td>1777.528</td><td>1743</td></tr>\n",
              "\t<tr><td>5</td><td>1763.619</td><td>1741</td></tr>\n",
              "\t<tr><td>6</td><td>3637.908</td><td>3617</td></tr>\n",
              "\t<tr><td>7</td><td>2650.422</td><td>2627</td></tr>\n",
              "</tbody>\n",
              "</table>\n"
            ],
            "text/markdown": "\nA tibble: 6 × 3\n\n| shop_id &lt;fct&gt; | sum_pred &lt;dbl&gt; | sum_actual &lt;dbl&gt; |\n|---|---|---|\n| 2 | 1364.096 | 1337 |\n| 3 | 1273.184 | 1263 |\n| 4 | 1777.528 | 1743 |\n| 5 | 1763.619 | 1741 |\n| 6 | 3637.908 | 3617 |\n| 7 | 2650.422 | 2627 |\n\n",
            "text/latex": "A tibble: 6 × 3\n\\begin{tabular}{lll}\n shop\\_id & sum\\_pred & sum\\_actual\\\\\n <fct> & <dbl> & <dbl>\\\\\n\\hline\n\t 2 & 1364.096 & 1337\\\\\n\t 3 & 1273.184 & 1263\\\\\n\t 4 & 1777.528 & 1743\\\\\n\t 5 & 1763.619 & 1741\\\\\n\t 6 & 3637.908 & 3617\\\\\n\t 7 & 2650.422 & 2627\\\\\n\\end{tabular}\n",
            "text/plain": [
              "  shop_id sum_pred sum_actual\n",
              "1 2       1364.096 1337      \n",
              "2 3       1273.184 1263      \n",
              "3 4       1777.528 1743      \n",
              "4 5       1763.619 1741      \n",
              "5 6       3637.908 3617      \n",
              "6 7       2650.422 2627      "
            ]
          },
          "metadata": {}
        }
      ]
    },
    {
      "cell_type": "code",
      "source": [
        "ggplot(df_shop_result) +\n",
        "  geom_point(aes(sum_pred,sum_actual))"
      ],
      "metadata": {
        "colab": {
          "base_uri": "https://localhost:8080/",
          "height": 437
        },
        "id": "nGM3PjMHkvtd",
        "outputId": "ded74022-d25c-477b-a720-d8bfa635c85e"
      },
      "execution_count": null,
      "outputs": [
        {
          "output_type": "display_data",
          "data": {
            "text/plain": [
              "plot without title"
            ],
            "image/png": "[encoded data removed]"
          },
          "metadata": {
            "image/png": {
              "width": 420,
              "height": 420
            }
          }
        }
      ]
    },
    {
      "cell_type": "code",
      "source": [
        "set.seed(123)\n",
        "split = sample.split(df_shop_result$sum_actual, SplitRatio = 0.8)\n",
        "training_set = subset(df_shop_result, split == TRUE)\n",
        "test_set = subset(df_shop_result, split == FALSE)"
      ],
      "metadata": {
        "id": "JjYEG-_jk0B_"
      },
      "execution_count": null,
      "outputs": []
    },
    {
      "cell_type": "code",
      "source": [
        "# Multivariable linear\n",
        "mul_lin = lm(formula = sum_actual ~ sum_pred,\n",
        "               data = training_set)\n",
        "# Make predictions\n",
        "predictions_lin <- mul_lin %>% predict(test_set)\n",
        "# Model performance\n",
        "data.frame(\n",
        "  RMSE = RMSE(predictions_lin, test_set$sum_actual),\n",
        "  R2 = R2(predictions_lin, test_set$sum_actual)\n",
        ")"
      ],
      "metadata": {
        "id": "V8VlZw5mmOr_",
        "outputId": "d21d24d8-0c56-4c52-96fc-4dd6c5fae6c5",
        "colab": {
          "base_uri": "https://localhost:8080/",
          "height": 129
        }
      },
      "execution_count": null,
      "outputs": [
        {
          "output_type": "display_data",
          "data": {
            "text/html": [
              "<table class=\"dataframe\">\n",
              "<caption>A data.frame: 1 × 2</caption>\n",
              "<thead>\n",
              "\t<tr><th scope=col>RMSE</th><th scope=col>R2</th></tr>\n",
              "\t<tr><th scope=col>&lt;dbl&gt;</th><th scope=col>&lt;dbl&gt;</th></tr>\n",
              "</thead>\n",
              "<tbody>\n",
              "\t<tr><td>141.7004</td><td>0.9973903</td></tr>\n",
              "</tbody>\n",
              "</table>\n"
            ],
            "text/markdown": "\nA data.frame: 1 × 2\n\n| RMSE &lt;dbl&gt; | R2 &lt;dbl&gt; |\n|---|---|\n| 141.7004 | 0.9973903 |\n\n",
            "text/latex": "A data.frame: 1 × 2\n\\begin{tabular}{ll}\n RMSE & R2\\\\\n <dbl> & <dbl>\\\\\n\\hline\n\t 141.7004 & 0.9973903\\\\\n\\end{tabular}\n",
            "text/plain": [
              "  RMSE     R2       \n",
              "1 141.7004 0.9973903"
            ]
          },
          "metadata": {}
        }
      ]
    },
    {
      "cell_type": "code",
      "source": [],
      "metadata": {
        "id": "ePsrkpblmPmU"
      },
      "execution_count": null,
      "outputs": []
    },
    {
      "cell_type": "code",
      "source": [],
      "metadata": {
        "id": "nadHcUVWmPkR"
      },
      "execution_count": null,
      "outputs": []
    },
    {
      "cell_type": "code",
      "source": [],
      "metadata": {
        "id": "Ws8_Q603mPh-"
      },
      "execution_count": null,
      "outputs": []
    },
    {
      "cell_type": "code",
      "source": [],
      "metadata": {
        "id": "bgCubMRUmPfu"
      },
      "execution_count": null,
      "outputs": []
    },
    {
      "cell_type": "code",
      "source": [],
      "metadata": {
        "id": "lavh7jZhmPdW"
      },
      "execution_count": null,
      "outputs": []
    },
    {
      "cell_type": "code",
      "source": [],
      "metadata": {
        "id": "X3kO2lAxmPbC"
      },
      "execution_count": null,
      "outputs": []
    },
    {
      "cell_type": "code",
      "source": [],
      "metadata": {
        "id": "lkGGH7edmPY4"
      },
      "execution_count": null,
      "outputs": []
    }
  ]
}