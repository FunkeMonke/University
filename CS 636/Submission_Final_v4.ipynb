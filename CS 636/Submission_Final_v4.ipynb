{
 "cells": [
  {
   "cell_type": "markdown",
   "metadata": {
    "id": "3mh2viSlBuCz"
   },
   "source": [
    "## Team Name: Linearity\n",
    "Mohammad Savarmand and Ruth Ann Phillippi\\\n",
    "(7 Sections)"
   ]
  },
  {
   "cell_type": "markdown",
   "metadata": {
    "id": "oot8ugD0Dz0d"
   },
   "source": [
    "# Section 1: Load the Enviornment"
   ]
  },
  {
   "cell_type": "code",
   "execution_count": 1,
   "metadata": {
    "colab": {
     "base_uri": "https://localhost:8080/"
    },
    "id": "w2utBAG4zImW",
    "outputId": "43066717-4518-4879-de17-013f51e6d3e9"
   },
   "outputs": [],
   "source": [
    "# install.packages(\"tictoc\")\n",
    "# install.packages(\"caTools\")\n",
    "# install.packages(\"caret\")\n",
    "# install.packages(\"reshape2\")\n",
    "# install.packages(\"plyr\")\n",
    "# install.packages(\"readr\")"
   ]
  },
  {
   "cell_type": "code",
   "execution_count": 2,
   "metadata": {
    "colab": {
     "base_uri": "https://localhost:8080/"
    },
    "id": "cuKAP8OmwBPC",
    "outputId": "760eb301-14a1-4299-e144-9a245fee42e7"
   },
   "outputs": [
    {
     "name": "stderr",
     "output_type": "stream",
     "text": [
      "Warning message:\n",
      "\"package 'tidyverse' was built under R version 4.2.2\"\n",
      "── \u001b[1mAttaching packages\u001b[22m ─────────────────────────────────────────────────────────────────────────────── tidyverse 1.3.2 ──\n",
      "\u001b[32m✔\u001b[39m \u001b[34mggplot2\u001b[39m 3.4.0      \u001b[32m✔\u001b[39m \u001b[34mpurrr  \u001b[39m 0.3.5 \n",
      "\u001b[32m✔\u001b[39m \u001b[34mtibble \u001b[39m 3.1.8      \u001b[32m✔\u001b[39m \u001b[34mdplyr  \u001b[39m 1.0.10\n",
      "\u001b[32m✔\u001b[39m \u001b[34mtidyr  \u001b[39m 1.2.1      \u001b[32m✔\u001b[39m \u001b[34mstringr\u001b[39m 1.4.1 \n",
      "\u001b[32m✔\u001b[39m \u001b[34mreadr  \u001b[39m 2.1.3      \u001b[32m✔\u001b[39m \u001b[34mforcats\u001b[39m 0.5.2 \n",
      "Warning message:\n",
      "\"package 'ggplot2' was built under R version 4.2.2\"\n",
      "Warning message:\n",
      "\"package 'readr' was built under R version 4.2.2\"\n",
      "── \u001b[1mConflicts\u001b[22m ────────────────────────────────────────────────────────────────────────────────── tidyverse_conflicts() ──\n",
      "\u001b[31m✖\u001b[39m \u001b[34mdplyr\u001b[39m::\u001b[32mfilter()\u001b[39m masks \u001b[34mstats\u001b[39m::filter()\n",
      "\u001b[31m✖\u001b[39m \u001b[34mdplyr\u001b[39m::\u001b[32mlag()\u001b[39m    masks \u001b[34mstats\u001b[39m::lag()\n",
      "Warning message:\n",
      "\"package 'caret' was built under R version 4.2.2\"\n",
      "Loading required package: lattice\n",
      "\n",
      "\n",
      "Attaching package: 'caret'\n",
      "\n",
      "\n",
      "The following object is masked from 'package:purrr':\n",
      "\n",
      "    lift\n",
      "\n",
      "\n",
      "Warning message:\n",
      "\"package 'caTools' was built under R version 4.2.2\"\n",
      "Warning message:\n",
      "\"package 'tictoc' was built under R version 4.2.2\"\n",
      "------------------------------------------------------------------------------\n",
      "\n",
      "You have loaded plyr after dplyr - this is likely to cause problems.\n",
      "If you need functions from both plyr and dplyr, please load plyr first, then dplyr:\n",
      "library(plyr); library(dplyr)\n",
      "\n",
      "------------------------------------------------------------------------------\n",
      "\n",
      "\n",
      "Attaching package: 'plyr'\n",
      "\n",
      "\n",
      "The following objects are masked from 'package:dplyr':\n",
      "\n",
      "    arrange, count, desc, failwith, id, mutate, rename, summarise,\n",
      "    summarize\n",
      "\n",
      "\n",
      "The following object is masked from 'package:purrr':\n",
      "\n",
      "    compact\n",
      "\n",
      "\n",
      "\n",
      "Attaching package: 'reshape2'\n",
      "\n",
      "\n",
      "The following object is masked from 'package:tidyr':\n",
      "\n",
      "    smiths\n",
      "\n",
      "\n"
     ]
    }
   ],
   "source": [
    "library(tidyverse)# To use dplyr/read_csv/tibbles etc\n",
    "library(caret)    # Useful statistical functions\n",
    "library(caTools)  # training/testing data\n",
    "library(tictoc)   # To see the length of time for code to run\n",
    "library(plyr)     # Reading data\n",
    "library(readr)    # Reading data\n",
    "library(reshape2) #For EDA correlation heatmap"
   ]
  },
  {
   "cell_type": "markdown",
   "metadata": {
    "id": "2o-s_uXCEO4p"
   },
   "source": [
    "# Section 2: Import the Data"
   ]
  },
  {
   "cell_type": "code",
   "execution_count": 3,
   "metadata": {
    "colab": {
     "base_uri": "https://localhost:8080/"
    },
    "id": "WQ8Uwg6fwjws",
    "outputId": "5e28b626-fd2f-4060-f45d-9920444966e1"
   },
   "outputs": [
    {
     "data": {
      "text/html": [
       "<style>\n",
       ".list-inline {list-style: none; margin:0; padding: 0}\n",
       ".list-inline>li {display: inline-block}\n",
       ".list-inline>li:not(:last-child)::after {content: \"\\00b7\"; padding: 0 .5ex}\n",
       "</style>\n",
       "<ol class=list-inline><li>'Dataset/item_categories.csv'</li><li>'Dataset/items.csv'</li><li>'Dataset/sales_train.csv'</li><li>'Dataset/sample_submission.csv'</li><li>'Dataset/shops.csv'</li><li>'Dataset/test.csv'</li></ol>\n"
      ],
      "text/latex": [
       "\\begin{enumerate*}\n",
       "\\item 'Dataset/item\\_categories.csv'\n",
       "\\item 'Dataset/items.csv'\n",
       "\\item 'Dataset/sales\\_train.csv'\n",
       "\\item 'Dataset/sample\\_submission.csv'\n",
       "\\item 'Dataset/shops.csv'\n",
       "\\item 'Dataset/test.csv'\n",
       "\\end{enumerate*}\n"
      ],
      "text/markdown": [
       "1. 'Dataset/item_categories.csv'\n",
       "2. 'Dataset/items.csv'\n",
       "3. 'Dataset/sales_train.csv'\n",
       "4. 'Dataset/sample_submission.csv'\n",
       "5. 'Dataset/shops.csv'\n",
       "6. 'Dataset/test.csv'\n",
       "\n",
       "\n"
      ],
      "text/plain": [
       "[1] \"Dataset/item_categories.csv\"   \"Dataset/items.csv\"            \n",
       "[3] \"Dataset/sales_train.csv\"       \"Dataset/sample_submission.csv\"\n",
       "[5] \"Dataset/shops.csv\"             \"Dataset/test.csv\"             "
      ]
     },
     "metadata": {},
     "output_type": "display_data"
    },
    {
     "name": "stderr",
     "output_type": "stream",
     "text": [
      "\u001b[1mRows: \u001b[22m\u001b[34m84\u001b[39m \u001b[1mColumns: \u001b[22m\u001b[34m2\u001b[39m\n",
      "\u001b[36m──\u001b[39m \u001b[1mColumn specification\u001b[22m \u001b[36m────────────────────────────────────────────────────────────────────────────────────────────────\u001b[39m\n",
      "\u001b[1mDelimiter:\u001b[22m \",\"\n",
      "\u001b[31mchr\u001b[39m (1): item_category_name\n",
      "\u001b[32mdbl\u001b[39m (1): item_category_id\n",
      "\n",
      "\u001b[36mℹ\u001b[39m Use `spec()` to retrieve the full column specification for this data.\n",
      "\u001b[36mℹ\u001b[39m Specify the column types or set `show_col_types = FALSE` to quiet this message.\n",
      "\u001b[1mRows: \u001b[22m\u001b[34m22170\u001b[39m \u001b[1mColumns: \u001b[22m\u001b[34m3\u001b[39m\n",
      "\u001b[36m──\u001b[39m \u001b[1mColumn specification\u001b[22m \u001b[36m────────────────────────────────────────────────────────────────────────────────────────────────\u001b[39m\n",
      "\u001b[1mDelimiter:\u001b[22m \",\"\n",
      "\u001b[31mchr\u001b[39m (1): item_name\n",
      "\u001b[32mdbl\u001b[39m (2): item_id, item_category_id\n",
      "\n",
      "\u001b[36mℹ\u001b[39m Use `spec()` to retrieve the full column specification for this data.\n",
      "\u001b[36mℹ\u001b[39m Specify the column types or set `show_col_types = FALSE` to quiet this message.\n",
      "\u001b[1mRows: \u001b[22m\u001b[34m2935849\u001b[39m \u001b[1mColumns: \u001b[22m\u001b[34m6\u001b[39m\n",
      "\u001b[36m──\u001b[39m \u001b[1mColumn specification\u001b[22m \u001b[36m────────────────────────────────────────────────────────────────────────────────────────────────\u001b[39m\n",
      "\u001b[1mDelimiter:\u001b[22m \",\"\n",
      "\u001b[31mchr\u001b[39m (1): date\n",
      "\u001b[32mdbl\u001b[39m (5): date_block_num, shop_id, item_id, item_price, item_cnt_day\n",
      "\n",
      "\u001b[36mℹ\u001b[39m Use `spec()` to retrieve the full column specification for this data.\n",
      "\u001b[36mℹ\u001b[39m Specify the column types or set `show_col_types = FALSE` to quiet this message.\n",
      "\u001b[1mRows: \u001b[22m\u001b[34m214200\u001b[39m \u001b[1mColumns: \u001b[22m\u001b[34m2\u001b[39m\n",
      "\u001b[36m──\u001b[39m \u001b[1mColumn specification\u001b[22m \u001b[36m────────────────────────────────────────────────────────────────────────────────────────────────\u001b[39m\n",
      "\u001b[1mDelimiter:\u001b[22m \",\"\n",
      "\u001b[32mdbl\u001b[39m (2): ID, item_cnt_month\n",
      "\n",
      "\u001b[36mℹ\u001b[39m Use `spec()` to retrieve the full column specification for this data.\n",
      "\u001b[36mℹ\u001b[39m Specify the column types or set `show_col_types = FALSE` to quiet this message.\n",
      "\u001b[1mRows: \u001b[22m\u001b[34m60\u001b[39m \u001b[1mColumns: \u001b[22m\u001b[34m2\u001b[39m\n",
      "\u001b[36m──\u001b[39m \u001b[1mColumn specification\u001b[22m \u001b[36m────────────────────────────────────────────────────────────────────────────────────────────────\u001b[39m\n",
      "\u001b[1mDelimiter:\u001b[22m \",\"\n",
      "\u001b[31mchr\u001b[39m (1): shop_name\n",
      "\u001b[32mdbl\u001b[39m (1): shop_id\n",
      "\n",
      "\u001b[36mℹ\u001b[39m Use `spec()` to retrieve the full column specification for this data.\n",
      "\u001b[36mℹ\u001b[39m Specify the column types or set `show_col_types = FALSE` to quiet this message.\n",
      "\u001b[1mRows: \u001b[22m\u001b[34m214200\u001b[39m \u001b[1mColumns: \u001b[22m\u001b[34m3\u001b[39m\n",
      "\u001b[36m──\u001b[39m \u001b[1mColumn specification\u001b[22m \u001b[36m────────────────────────────────────────────────────────────────────────────────────────────────\u001b[39m\n",
      "\u001b[1mDelimiter:\u001b[22m \",\"\n",
      "\u001b[32mdbl\u001b[39m (3): ID, shop_id, item_id\n",
      "\n",
      "\u001b[36mℹ\u001b[39m Use `spec()` to retrieve the full column specification for this data.\n",
      "\u001b[36mℹ\u001b[39m Specify the column types or set `show_col_types = FALSE` to quiet this message.\n"
     ]
    },
    {
     "name": "stdout",
     "output_type": "stream",
     "text": [
      "1.59 sec elapsed\n"
     ]
    }
   ],
   "source": [
    "tic()\n",
    "set.seed(123)\n",
    "setwd(\"C:\\\\Users\\\\Monke\\\\My Tresors\\\\School\\\\Fall 2022\\\\CS 636\\\\Final\")\n",
    "\n",
    "mydir = \"Dataset\"\n",
    "myfiles = list.files(path=mydir, pattern=\"*.csv\", full.names=TRUE)\n",
    "myfiles\n",
    "\n",
    "all <- llply(myfiles, read_csv)\n",
    "toc()"
   ]
  },
  {
   "cell_type": "markdown",
   "metadata": {
    "id": "e2r9AGzGEXsV"
   },
   "source": [
    "# Section 3: Data Preperation </b>"
   ]
  },
  {
   "cell_type": "markdown",
   "metadata": {},
   "source": [
    "The code below helped us understand the dataset we are reading."
   ]
  },
  {
   "cell_type": "code",
   "execution_count": 4,
   "metadata": {
    "colab": {
     "base_uri": "https://localhost:8080/",
     "height": 302
    },
    "id": "fGC7CmfY10R6",
    "outputId": "0e9f8dac-72d2-49f6-a1b0-bba12eeaf746",
    "scrolled": true
   },
   "outputs": [
    {
     "data": {
      "text/html": [
       "<style>\n",
       ".list-inline {list-style: none; margin:0; padding: 0}\n",
       ".list-inline>li {display: inline-block}\n",
       ".list-inline>li:not(:last-child)::after {content: \"\\00b7\"; padding: 0 .5ex}\n",
       "</style>\n",
       "<ol class=list-inline><li>0</li><li>0</li><li>0</li><li>0</li><li>0</li><li>0</li></ol>\n"
      ],
      "text/latex": [
       "\\begin{enumerate*}\n",
       "\\item 0\n",
       "\\item 0\n",
       "\\item 0\n",
       "\\item 0\n",
       "\\item 0\n",
       "\\item 0\n",
       "\\end{enumerate*}\n"
      ],
      "text/markdown": [
       "1. 0\n",
       "2. 0\n",
       "3. 0\n",
       "4. 0\n",
       "5. 0\n",
       "6. 0\n",
       "\n",
       "\n"
      ],
      "text/plain": [
       "[1] 0 0 0 0 0 0"
      ]
     },
     "metadata": {},
     "output_type": "display_data"
    },
    {
     "data": {
      "text/html": [
       "<style>\n",
       ".list-inline {list-style: none; margin:0; padding: 0}\n",
       ".list-inline>li {display: inline-block}\n",
       ".list-inline>li:not(:last-child)::after {content: \"\\00b7\"; padding: 0 .5ex}\n",
       "</style>\n",
       "<ol class=list-inline><li>0</li><li>0</li><li>0</li><li>0</li><li>0</li><li>0</li></ol>\n"
      ],
      "text/latex": [
       "\\begin{enumerate*}\n",
       "\\item 0\n",
       "\\item 0\n",
       "\\item 0\n",
       "\\item 0\n",
       "\\item 0\n",
       "\\item 0\n",
       "\\end{enumerate*}\n"
      ],
      "text/markdown": [
       "1. 0\n",
       "2. 0\n",
       "3. 0\n",
       "4. 0\n",
       "5. 0\n",
       "6. 0\n",
       "\n",
       "\n"
      ],
      "text/plain": [
       "[1] 0 0 0 0 0 0"
      ]
     },
     "metadata": {},
     "output_type": "display_data"
    },
    {
     "data": {
      "text/html": [
       "<ol>\n",
       "\t<li><style>\n",
       ".list-inline {list-style: none; margin:0; padding: 0}\n",
       ".list-inline>li {display: inline-block}\n",
       ".list-inline>li:not(:last-child)::after {content: \"\\00b7\"; padding: 0 .5ex}\n",
       "</style>\n",
       "<ol class=list-inline><li>84</li><li>2</li></ol>\n",
       "</li>\n",
       "\t<li><style>\n",
       ".list-inline {list-style: none; margin:0; padding: 0}\n",
       ".list-inline>li {display: inline-block}\n",
       ".list-inline>li:not(:last-child)::after {content: \"\\00b7\"; padding: 0 .5ex}\n",
       "</style>\n",
       "<ol class=list-inline><li>22170</li><li>3</li></ol>\n",
       "</li>\n",
       "\t<li><style>\n",
       ".list-inline {list-style: none; margin:0; padding: 0}\n",
       ".list-inline>li {display: inline-block}\n",
       ".list-inline>li:not(:last-child)::after {content: \"\\00b7\"; padding: 0 .5ex}\n",
       "</style>\n",
       "<ol class=list-inline><li>2935849</li><li>6</li></ol>\n",
       "</li>\n",
       "\t<li><style>\n",
       ".list-inline {list-style: none; margin:0; padding: 0}\n",
       ".list-inline>li {display: inline-block}\n",
       ".list-inline>li:not(:last-child)::after {content: \"\\00b7\"; padding: 0 .5ex}\n",
       "</style>\n",
       "<ol class=list-inline><li>214200</li><li>2</li></ol>\n",
       "</li>\n",
       "\t<li><style>\n",
       ".list-inline {list-style: none; margin:0; padding: 0}\n",
       ".list-inline>li {display: inline-block}\n",
       ".list-inline>li:not(:last-child)::after {content: \"\\00b7\"; padding: 0 .5ex}\n",
       "</style>\n",
       "<ol class=list-inline><li>60</li><li>2</li></ol>\n",
       "</li>\n",
       "\t<li><style>\n",
       ".list-inline {list-style: none; margin:0; padding: 0}\n",
       ".list-inline>li {display: inline-block}\n",
       ".list-inline>li:not(:last-child)::after {content: \"\\00b7\"; padding: 0 .5ex}\n",
       "</style>\n",
       "<ol class=list-inline><li>214200</li><li>3</li></ol>\n",
       "</li>\n",
       "</ol>\n"
      ],
      "text/latex": [
       "\\begin{enumerate}\n",
       "\\item \\begin{enumerate*}\n",
       "\\item 84\n",
       "\\item 2\n",
       "\\end{enumerate*}\n",
       "\n",
       "\\item \\begin{enumerate*}\n",
       "\\item 22170\n",
       "\\item 3\n",
       "\\end{enumerate*}\n",
       "\n",
       "\\item \\begin{enumerate*}\n",
       "\\item 2935849\n",
       "\\item 6\n",
       "\\end{enumerate*}\n",
       "\n",
       "\\item \\begin{enumerate*}\n",
       "\\item 214200\n",
       "\\item 2\n",
       "\\end{enumerate*}\n",
       "\n",
       "\\item \\begin{enumerate*}\n",
       "\\item 60\n",
       "\\item 2\n",
       "\\end{enumerate*}\n",
       "\n",
       "\\item \\begin{enumerate*}\n",
       "\\item 214200\n",
       "\\item 3\n",
       "\\end{enumerate*}\n",
       "\n",
       "\\end{enumerate}\n"
      ],
      "text/markdown": [
       "1. 1. 84\n",
       "2. 2\n",
       "\n",
       "\n",
       "\n",
       "2. 1. 22170\n",
       "2. 3\n",
       "\n",
       "\n",
       "\n",
       "3. 1. 2935849\n",
       "2. 6\n",
       "\n",
       "\n",
       "\n",
       "4. 1. 214200\n",
       "2. 2\n",
       "\n",
       "\n",
       "\n",
       "5. 1. 60\n",
       "2. 2\n",
       "\n",
       "\n",
       "\n",
       "6. 1. 214200\n",
       "2. 3\n",
       "\n",
       "\n",
       "\n",
       "\n",
       "\n"
      ],
      "text/plain": [
       "[[1]]\n",
       "[1] 84  2\n",
       "\n",
       "[[2]]\n",
       "[1] 22170     3\n",
       "\n",
       "[[3]]\n",
       "[1] 2935849       6\n",
       "\n",
       "[[4]]\n",
       "[1] 214200      2\n",
       "\n",
       "[[5]]\n",
       "[1] 60  2\n",
       "\n",
       "[[6]]\n",
       "[1] 214200      3\n"
      ]
     },
     "metadata": {},
     "output_type": "display_data"
    },
    {
     "data": {
      "text/html": [
       "<ol>\n",
       "\t<li><style>\n",
       ".list-inline {list-style: none; margin:0; padding: 0}\n",
       ".list-inline>li {display: inline-block}\n",
       ".list-inline>li:not(:last-child)::after {content: \"\\00b7\"; padding: 0 .5ex}\n",
       "</style>\n",
       "<ol class=list-inline><li>'item_category_name'</li><li>'item_category_id'</li></ol>\n",
       "</li>\n",
       "\t<li><style>\n",
       ".list-inline {list-style: none; margin:0; padding: 0}\n",
       ".list-inline>li {display: inline-block}\n",
       ".list-inline>li:not(:last-child)::after {content: \"\\00b7\"; padding: 0 .5ex}\n",
       "</style>\n",
       "<ol class=list-inline><li>'item_name'</li><li>'item_id'</li><li>'item_category_id'</li></ol>\n",
       "</li>\n",
       "\t<li><style>\n",
       ".list-inline {list-style: none; margin:0; padding: 0}\n",
       ".list-inline>li {display: inline-block}\n",
       ".list-inline>li:not(:last-child)::after {content: \"\\00b7\"; padding: 0 .5ex}\n",
       "</style>\n",
       "<ol class=list-inline><li>'date'</li><li>'date_block_num'</li><li>'shop_id'</li><li>'item_id'</li><li>'item_price'</li><li>'item_cnt_day'</li></ol>\n",
       "</li>\n",
       "\t<li><style>\n",
       ".list-inline {list-style: none; margin:0; padding: 0}\n",
       ".list-inline>li {display: inline-block}\n",
       ".list-inline>li:not(:last-child)::after {content: \"\\00b7\"; padding: 0 .5ex}\n",
       "</style>\n",
       "<ol class=list-inline><li>'ID'</li><li>'item_cnt_month'</li></ol>\n",
       "</li>\n",
       "\t<li><style>\n",
       ".list-inline {list-style: none; margin:0; padding: 0}\n",
       ".list-inline>li {display: inline-block}\n",
       ".list-inline>li:not(:last-child)::after {content: \"\\00b7\"; padding: 0 .5ex}\n",
       "</style>\n",
       "<ol class=list-inline><li>'shop_name'</li><li>'shop_id'</li></ol>\n",
       "</li>\n",
       "\t<li><style>\n",
       ".list-inline {list-style: none; margin:0; padding: 0}\n",
       ".list-inline>li {display: inline-block}\n",
       ".list-inline>li:not(:last-child)::after {content: \"\\00b7\"; padding: 0 .5ex}\n",
       "</style>\n",
       "<ol class=list-inline><li>'ID'</li><li>'shop_id'</li><li>'item_id'</li></ol>\n",
       "</li>\n",
       "</ol>\n"
      ],
      "text/latex": [
       "\\begin{enumerate}\n",
       "\\item \\begin{enumerate*}\n",
       "\\item 'item\\_category\\_name'\n",
       "\\item 'item\\_category\\_id'\n",
       "\\end{enumerate*}\n",
       "\n",
       "\\item \\begin{enumerate*}\n",
       "\\item 'item\\_name'\n",
       "\\item 'item\\_id'\n",
       "\\item 'item\\_category\\_id'\n",
       "\\end{enumerate*}\n",
       "\n",
       "\\item \\begin{enumerate*}\n",
       "\\item 'date'\n",
       "\\item 'date\\_block\\_num'\n",
       "\\item 'shop\\_id'\n",
       "\\item 'item\\_id'\n",
       "\\item 'item\\_price'\n",
       "\\item 'item\\_cnt\\_day'\n",
       "\\end{enumerate*}\n",
       "\n",
       "\\item \\begin{enumerate*}\n",
       "\\item 'ID'\n",
       "\\item 'item\\_cnt\\_month'\n",
       "\\end{enumerate*}\n",
       "\n",
       "\\item \\begin{enumerate*}\n",
       "\\item 'shop\\_name'\n",
       "\\item 'shop\\_id'\n",
       "\\end{enumerate*}\n",
       "\n",
       "\\item \\begin{enumerate*}\n",
       "\\item 'ID'\n",
       "\\item 'shop\\_id'\n",
       "\\item 'item\\_id'\n",
       "\\end{enumerate*}\n",
       "\n",
       "\\end{enumerate}\n"
      ],
      "text/markdown": [
       "1. 1. 'item_category_name'\n",
       "2. 'item_category_id'\n",
       "\n",
       "\n",
       "\n",
       "2. 1. 'item_name'\n",
       "2. 'item_id'\n",
       "3. 'item_category_id'\n",
       "\n",
       "\n",
       "\n",
       "3. 1. 'date'\n",
       "2. 'date_block_num'\n",
       "3. 'shop_id'\n",
       "4. 'item_id'\n",
       "5. 'item_price'\n",
       "6. 'item_cnt_day'\n",
       "\n",
       "\n",
       "\n",
       "4. 1. 'ID'\n",
       "2. 'item_cnt_month'\n",
       "\n",
       "\n",
       "\n",
       "5. 1. 'shop_name'\n",
       "2. 'shop_id'\n",
       "\n",
       "\n",
       "\n",
       "6. 1. 'ID'\n",
       "2. 'shop_id'\n",
       "3. 'item_id'\n",
       "\n",
       "\n",
       "\n",
       "\n",
       "\n"
      ],
      "text/plain": [
       "[[1]]\n",
       "[1] \"item_category_name\" \"item_category_id\"  \n",
       "\n",
       "[[2]]\n",
       "[1] \"item_name\"        \"item_id\"          \"item_category_id\"\n",
       "\n",
       "[[3]]\n",
       "[1] \"date\"           \"date_block_num\" \"shop_id\"        \"item_id\"       \n",
       "[5] \"item_price\"     \"item_cnt_day\"  \n",
       "\n",
       "[[4]]\n",
       "[1] \"ID\"             \"item_cnt_month\"\n",
       "\n",
       "[[5]]\n",
       "[1] \"shop_name\" \"shop_id\"  \n",
       "\n",
       "[[6]]\n",
       "[1] \"ID\"      \"shop_id\" \"item_id\"\n"
      ]
     },
     "metadata": {},
     "output_type": "display_data"
    }
   ],
   "source": [
    "mapply(function(x){sum(is.na(x))},all)\n",
    "mapply(function(x){sum(is.null(x))},all)\n",
    "lapply(all, dim)\n",
    "lapply(all, names)"
   ]
  },
  {
   "cell_type": "markdown",
   "metadata": {
    "id": "CwDhpqYczpLC"
   },
   "source": [
    "### Creation of Working Dataframe\n",
    "In the following line of code we combined the sales_train (ST) data with the test.csv (test) data. \"sales_train.csv\" and \"test.csv\" both had two keys which meant we had to be extra careful when joining these two datasets."
   ]
  },
  {
   "cell_type": "code",
   "execution_count": 5,
   "metadata": {
    "colab": {
     "base_uri": "https://localhost:8080/"
    },
    "id": "ueixr5N-zdoS",
    "outputId": "489ed81e-dcbe-4f33-8044-8e0696ec5c47"
   },
   "outputs": [
    {
     "name": "stdout",
     "output_type": "stream",
     "text": [
      "3.09 sec elapsed\n"
     ]
    }
   ],
   "source": [
    "tic()\n",
    "# Make \"date\" a Date type instead of Character\n",
    "all[[3]] <- all[[3]] %>%\n",
    "  mutate(date = as.Date(all[[3]][\"date\"][[1]], \"%d.%m.%Y\"))\n",
    "\n",
    "df3 <- all[[3]]\n",
    "\n",
    "# 3 + 6\n",
    "df36 <- full_join(df3, all[[6]], c(\"item_id\",\"shop_id\"))\n",
    "toc()"
   ]
  },
  {
   "cell_type": "markdown",
   "metadata": {
    "id": "RAmRPstu1uR9"
   },
   "source": [
    "### Accounting for Unavailable Data\n",
    "When we joined together the sales_train  dataframe with the test dataframe using \"full_join\", we experienced many issues with an excessive number of NAs. We later found that the NAs appeared when a specific store never sold a specific item. For example, shop #5 (shop_id == 5) never once, from date to date, sold item #5320 (item_id == 5320). This means that when we joined the sales training data with the testing dataset based on the ID number, there was nothing with which we could join the sales data to test data. Our code below helped us find just how many NAs were present in our data."
   ]
  },
  {
   "cell_type": "code",
   "execution_count": 6,
   "metadata": {},
   "outputs": [
    {
     "data": {
      "text/html": [
       "<table class=\"dataframe\">\n",
       "<caption>A tibble: 6 × 7</caption>\n",
       "<thead>\n",
       "\t<tr><th scope=col>date</th><th scope=col>date_block_num</th><th scope=col>shop_id</th><th scope=col>item_id</th><th scope=col>item_price</th><th scope=col>item_cnt_day</th><th scope=col>ID</th></tr>\n",
       "\t<tr><th scope=col>&lt;date&gt;</th><th scope=col>&lt;dbl&gt;</th><th scope=col>&lt;dbl&gt;</th><th scope=col>&lt;dbl&gt;</th><th scope=col>&lt;dbl&gt;</th><th scope=col>&lt;dbl&gt;</th><th scope=col>&lt;dbl&gt;</th></tr>\n",
       "</thead>\n",
       "<tbody>\n",
       "\t<tr><td>2013-01-03</td><td>0</td><td>25</td><td>2552</td><td> 899.00</td><td> 1</td><td>NA</td></tr>\n",
       "\t<tr><td>2013-01-05</td><td>0</td><td>25</td><td>2552</td><td> 899.00</td><td>-1</td><td>NA</td></tr>\n",
       "\t<tr><td>2013-01-06</td><td>0</td><td>25</td><td>2554</td><td>1709.05</td><td> 1</td><td>NA</td></tr>\n",
       "\t<tr><td>2013-01-15</td><td>0</td><td>25</td><td>2555</td><td>1099.00</td><td> 1</td><td>NA</td></tr>\n",
       "\t<tr><td>2013-01-10</td><td>0</td><td>25</td><td>2564</td><td> 349.00</td><td> 1</td><td>NA</td></tr>\n",
       "\t<tr><td>2013-01-02</td><td>0</td><td>25</td><td>2565</td><td> 549.00</td><td> 1</td><td>NA</td></tr>\n",
       "</tbody>\n",
       "</table>\n"
      ],
      "text/latex": [
       "A tibble: 6 × 7\n",
       "\\begin{tabular}{lllllll}\n",
       " date & date\\_block\\_num & shop\\_id & item\\_id & item\\_price & item\\_cnt\\_day & ID\\\\\n",
       " <date> & <dbl> & <dbl> & <dbl> & <dbl> & <dbl> & <dbl>\\\\\n",
       "\\hline\n",
       "\t 2013-01-03 & 0 & 25 & 2552 &  899.00 &  1 & NA\\\\\n",
       "\t 2013-01-05 & 0 & 25 & 2552 &  899.00 & -1 & NA\\\\\n",
       "\t 2013-01-06 & 0 & 25 & 2554 & 1709.05 &  1 & NA\\\\\n",
       "\t 2013-01-15 & 0 & 25 & 2555 & 1099.00 &  1 & NA\\\\\n",
       "\t 2013-01-10 & 0 & 25 & 2564 &  349.00 &  1 & NA\\\\\n",
       "\t 2013-01-02 & 0 & 25 & 2565 &  549.00 &  1 & NA\\\\\n",
       "\\end{tabular}\n"
      ],
      "text/markdown": [
       "\n",
       "A tibble: 6 × 7\n",
       "\n",
       "| date &lt;date&gt; | date_block_num &lt;dbl&gt; | shop_id &lt;dbl&gt; | item_id &lt;dbl&gt; | item_price &lt;dbl&gt; | item_cnt_day &lt;dbl&gt; | ID &lt;dbl&gt; |\n",
       "|---|---|---|---|---|---|---|\n",
       "| 2013-01-03 | 0 | 25 | 2552 |  899.00 |  1 | NA |\n",
       "| 2013-01-05 | 0 | 25 | 2552 |  899.00 | -1 | NA |\n",
       "| 2013-01-06 | 0 | 25 | 2554 | 1709.05 |  1 | NA |\n",
       "| 2013-01-15 | 0 | 25 | 2555 | 1099.00 |  1 | NA |\n",
       "| 2013-01-10 | 0 | 25 | 2564 |  349.00 |  1 | NA |\n",
       "| 2013-01-02 | 0 | 25 | 2565 |  549.00 |  1 | NA |\n",
       "\n"
      ],
      "text/plain": [
       "  date       date_block_num shop_id item_id item_price item_cnt_day ID\n",
       "1 2013-01-03 0              25      2552     899.00     1           NA\n",
       "2 2013-01-05 0              25      2552     899.00    -1           NA\n",
       "3 2013-01-06 0              25      2554    1709.05     1           NA\n",
       "4 2013-01-15 0              25      2555    1099.00     1           NA\n",
       "5 2013-01-10 0              25      2564     349.00     1           NA\n",
       "6 2013-01-02 0              25      2565     549.00     1           NA"
      ]
     },
     "metadata": {},
     "output_type": "display_data"
    },
    {
     "data": {
      "text/html": [
       "<table class=\"dataframe\">\n",
       "<caption>A tibble: 6 × 7</caption>\n",
       "<thead>\n",
       "\t<tr><th scope=col>date</th><th scope=col>date_block_num</th><th scope=col>shop_id</th><th scope=col>item_id</th><th scope=col>item_price</th><th scope=col>item_cnt_day</th><th scope=col>ID</th></tr>\n",
       "\t<tr><th scope=col>&lt;date&gt;</th><th scope=col>&lt;dbl&gt;</th><th scope=col>&lt;dbl&gt;</th><th scope=col>&lt;dbl&gt;</th><th scope=col>&lt;dbl&gt;</th><th scope=col>&lt;dbl&gt;</th><th scope=col>&lt;dbl&gt;</th></tr>\n",
       "</thead>\n",
       "<tbody>\n",
       "\t<tr><td>NA</td><td>NA</td><td>5</td><td>5320</td><td>NA</td><td>NA</td><td> 1</td></tr>\n",
       "\t<tr><td>NA</td><td>NA</td><td>5</td><td>5268</td><td>NA</td><td>NA</td><td> 4</td></tr>\n",
       "\t<tr><td>NA</td><td>NA</td><td>5</td><td>5003</td><td>NA</td><td>NA</td><td> 9</td></tr>\n",
       "\t<tr><td>NA</td><td>NA</td><td>5</td><td>4874</td><td>NA</td><td>NA</td><td>16</td></tr>\n",
       "\t<tr><td>NA</td><td>NA</td><td>5</td><td>5002</td><td>NA</td><td>NA</td><td>21</td></tr>\n",
       "\t<tr><td>NA</td><td>NA</td><td>5</td><td>5907</td><td>NA</td><td>NA</td><td>25</td></tr>\n",
       "</tbody>\n",
       "</table>\n"
      ],
      "text/latex": [
       "A tibble: 6 × 7\n",
       "\\begin{tabular}{lllllll}\n",
       " date & date\\_block\\_num & shop\\_id & item\\_id & item\\_price & item\\_cnt\\_day & ID\\\\\n",
       " <date> & <dbl> & <dbl> & <dbl> & <dbl> & <dbl> & <dbl>\\\\\n",
       "\\hline\n",
       "\t NA & NA & 5 & 5320 & NA & NA &  1\\\\\n",
       "\t NA & NA & 5 & 5268 & NA & NA &  4\\\\\n",
       "\t NA & NA & 5 & 5003 & NA & NA &  9\\\\\n",
       "\t NA & NA & 5 & 4874 & NA & NA & 16\\\\\n",
       "\t NA & NA & 5 & 5002 & NA & NA & 21\\\\\n",
       "\t NA & NA & 5 & 5907 & NA & NA & 25\\\\\n",
       "\\end{tabular}\n"
      ],
      "text/markdown": [
       "\n",
       "A tibble: 6 × 7\n",
       "\n",
       "| date &lt;date&gt; | date_block_num &lt;dbl&gt; | shop_id &lt;dbl&gt; | item_id &lt;dbl&gt; | item_price &lt;dbl&gt; | item_cnt_day &lt;dbl&gt; | ID &lt;dbl&gt; |\n",
       "|---|---|---|---|---|---|---|\n",
       "| NA | NA | 5 | 5320 | NA | NA |  1 |\n",
       "| NA | NA | 5 | 5268 | NA | NA |  4 |\n",
       "| NA | NA | 5 | 5003 | NA | NA |  9 |\n",
       "| NA | NA | 5 | 4874 | NA | NA | 16 |\n",
       "| NA | NA | 5 | 5002 | NA | NA | 21 |\n",
       "| NA | NA | 5 | 5907 | NA | NA | 25 |\n",
       "\n"
      ],
      "text/plain": [
       "  date date_block_num shop_id item_id item_price item_cnt_day ID\n",
       "1 <NA> NA             5       5320    NA         NA            1\n",
       "2 <NA> NA             5       5268    NA         NA            4\n",
       "3 <NA> NA             5       5003    NA         NA            9\n",
       "4 <NA> NA             5       4874    NA         NA           16\n",
       "5 <NA> NA             5       5002    NA         NA           21\n",
       "6 <NA> NA             5       5907    NA         NA           25"
      ]
     },
     "metadata": {},
     "output_type": "display_data"
    }
   ],
   "source": [
    "head(df36 %>% filter(is.na(ID)))\n",
    "head(df36 %>% filter(is.na(date)))"
   ]
  },
  {
   "cell_type": "markdown",
   "metadata": {},
   "source": [
    "### Strategy to fill NAs\n",
    "The bottom cells with dataframes variations of \"df36\" aim to fix this problem in our data set. Initially we wanted to remove all NAs, but we would lose too much data. The top cell show how our dataset is filled with NAs in different spots. When joining two datasets with inconsitencies with \"full_join\", more rows are created than there should be. The inconsistencies of \"sailes_train.csv\" simply make rows of NA ID. Similarly with the inconsitencies of \"test.csv\", full_join makes rows of NAs for c(data, date_block_num, item_price, item_cnt_day).\n",
    "\n",
    "Since the Kaggle output requires two columns (ID, and item_cnt_month), we decided to remove all NA IDs; this lost some information, but still retain all the IDs we need which is 214200 rows of unique IDs.\n",
    "\n",
    "Since we took care of the NA IDs by filtering them out, we needed a more careful way to fill the other NAs. We chose to create a random uniformly distrubted set of numbers within each feature's respective range for c(date_block_num, and date) because we have no information about the dates of NA.\n",
    "\n",
    "For item_cnt_date, we chose to fill the NAs with zero because we assumed since there are NAs, this means there were no sales which should mean item_cnt_day is 0.\n",
    "\n",
    "Finally for item_price, we chose to group_by item_id and calculate the average prices of existing products. Then we joined the new dataframe by item_id and replaced the NAs with the means."
   ]
  },
  {
   "cell_type": "code",
   "execution_count": 7,
   "metadata": {
    "colab": {
     "base_uri": "https://localhost:8080/",
     "height": 69
    },
    "id": "pLfIz9Ey0S9m",
    "outputId": "f362128d-ee9b-4eff-991c-06be8f610601"
   },
   "outputs": [
    {
     "data": {
      "text/html": [
       "<style>\n",
       ".list-inline {list-style: none; margin:0; padding: 0}\n",
       ".list-inline>li {display: inline-block}\n",
       ".list-inline>li:not(:last-child)::after {content: \"\\00b7\"; padding: 0 .5ex}\n",
       "</style>\n",
       "<ol class=list-inline><li>1034</li><li>2</li></ol>\n"
      ],
      "text/latex": [
       "\\begin{enumerate*}\n",
       "\\item 1034\n",
       "\\item 2\n",
       "\\end{enumerate*}\n"
      ],
      "text/markdown": [
       "1. 1034\n",
       "2. 2\n",
       "\n",
       "\n"
      ],
      "text/plain": [
       "[1] 1034    2"
      ]
     },
     "metadata": {},
     "output_type": "display_data"
    },
    {
     "data": {
      "text/html": [
       "<style>\n",
       ".list-inline {list-style: none; margin:0; padding: 0}\n",
       ".list-inline>li {display: inline-block}\n",
       ".list-inline>li:not(:last-child)::after {content: \"\\00b7\"; padding: 0 .5ex}\n",
       "</style>\n",
       "<ol class=list-inline><li>2935849</li><li>7</li></ol>\n"
      ],
      "text/latex": [
       "\\begin{enumerate*}\n",
       "\\item 2935849\n",
       "\\item 7\n",
       "\\end{enumerate*}\n"
      ],
      "text/markdown": [
       "1. 2935849\n",
       "2. 7\n",
       "\n",
       "\n"
      ],
      "text/plain": [
       "[1] 2935849       7"
      ]
     },
     "metadata": {},
     "output_type": "display_data"
    },
    {
     "data": {
      "text/html": [
       "<style>\n",
       ".list-inline {list-style: none; margin:0; padding: 0}\n",
       ".list-inline>li {display: inline-block}\n",
       ".list-inline>li:not(:last-child)::after {content: \"\\00b7\"; padding: 0 .5ex}\n",
       "</style>\n",
       "<ol class=list-inline><li>102796</li><li>7</li></ol>\n"
      ],
      "text/latex": [
       "\\begin{enumerate*}\n",
       "\\item 102796\n",
       "\\item 7\n",
       "\\end{enumerate*}\n"
      ],
      "text/markdown": [
       "1. 102796\n",
       "2. 7\n",
       "\n",
       "\n"
      ],
      "text/plain": [
       "[1] 102796      7"
      ]
     },
     "metadata": {},
     "output_type": "display_data"
    }
   ],
   "source": [
    "# Count how many unique dates are present in our dataset\n",
    "df_date_id_group_dim <- dim(\n",
    "  df36 %>%\n",
    "  filter(!is.na(date)) %>%\n",
    "  arrange(date) %>%\n",
    "  dplyr::count(date)\n",
    ")\n",
    "df_date_id_group_dim\n",
    "\n",
    "# Output will be the number of rows of data without any missing values (NA)\n",
    "df_date_id_dim <- dim(\n",
    "  df36 %>%\n",
    "  filter(!is.na(date)) %>%\n",
    "  arrange(date)\n",
    ")\n",
    "df_date_id_dim\n",
    "\n",
    "# Output will be the number of rows in the date column with a missing value (NA)\n",
    "df_date_id_na_dim <- dim(\n",
    "  df36 %>%\n",
    "  filter(is.na(date)) %>%\n",
    "  arrange(date)\n",
    ")\n",
    "df_date_id_na_dim"
   ]
  },
  {
   "cell_type": "code",
   "execution_count": 8,
   "metadata": {
    "id": "LSnFrxlK5eIg"
   },
   "outputs": [],
   "source": [
    "# New date_block_new numbers for the NA values\n",
    "new_date_block_num <- data.frame(round(runif(n=df_date_id_group_dim[1], min=0, max=33), 0))\n",
    "colnames(new_date_block_num) <- c(\"new_date_block_num\")\n",
    "# head(new_date_block_num)\n",
    "\n",
    "df_date_id <- df36 %>%\n",
    "  filter(!is.na(date)) %>%\n",
    "  dplyr::count(date) %>%\n",
    "  arrange(date) %>%\n",
    "  mutate(date_id = seq(1,df_date_id_group_dim[1])) %>%\n",
    "  select(-n)\n",
    "  # head(df_date_id)\n",
    "  # dim(df_date_id)\n",
    "\n",
    "df36_1 <- full_join(df36, df_date_id, c(\"date\")) %>%\n",
    "  select(-date)\n",
    "  # head(df36_1)\n",
    "\n",
    "# New date_id numbers for the NA values (should be 102831)\n",
    "new_date_id <- data.frame(round(runif(n=df_date_id_na_dim[1], min=1, max=df_date_id_group_dim[1]), 0))\n",
    "colnames(new_date_id) <- c(\"new_date_id\")\n",
    "# head(new_date_id %>% arrange(new_date_id) %>% count(new_date_id))\n",
    "# dim(new_date_id)\n",
    "\n",
    "# head(new_date_id)"
   ]
  },
  {
   "cell_type": "code",
   "execution_count": 9,
   "metadata": {
    "id": "9vgpXXIOvsJ7"
   },
   "outputs": [],
   "source": [
    "df36_2 <- df36_1 %>%\n",
    "    # Finding all rows where ID is not NA\n",
    "    filter(!is.na(ID)) %>%\n",
    "    # Giving random uniform numbers to the NAs in date_block_num within the range 0-33\n",
    "    mutate(date_block_num = ifelse(is.na(date_block_num), new_date_block_num$new_date_block_num, date_block_num)) %>%\n",
    "    # Giving random uniform numbers to the NAs in date_id within the range 1-1034\n",
    "    mutate(date_id = ifelse(is.na(date_id), new_date_id$new_date_id, date_id)) %>%\n",
    "    # Giving zeroes to item_cnt_day since we are assuming NA means no selling occured\n",
    "    mutate(item_cnt_day = ifelse(is.na(item_cnt_day), 0, item_cnt_day))"
   ]
  },
  {
   "cell_type": "code",
   "execution_count": 10,
   "metadata": {
    "colab": {
     "base_uri": "https://localhost:8080/",
     "height": 52
    },
    "id": "8jKlQB7mvsHw",
    "outputId": "1b2e0a1b-898d-42f1-c695-f56840e079e8"
   },
   "outputs": [
    {
     "data": {
      "text/html": [
       "<style>\n",
       ".list-inline {list-style: none; margin:0; padding: 0}\n",
       ".list-inline>li {display: inline-block}\n",
       ".list-inline>li:not(:last-child)::after {content: \"\\00b7\"; padding: 0 .5ex}\n",
       "</style>\n",
       "<ol class=list-inline><li>214200</li><li>2</li></ol>\n"
      ],
      "text/latex": [
       "\\begin{enumerate*}\n",
       "\\item 214200\n",
       "\\item 2\n",
       "\\end{enumerate*}\n"
      ],
      "text/markdown": [
       "1. 214200\n",
       "2. 2\n",
       "\n",
       "\n"
      ],
      "text/plain": [
       "[1] 214200      2"
      ]
     },
     "metadata": {},
     "output_type": "display_data"
    },
    {
     "data": {
      "text/html": [
       "<style>\n",
       ".list-inline {list-style: none; margin:0; padding: 0}\n",
       ".list-inline>li {display: inline-block}\n",
       ".list-inline>li:not(:last-child)::after {content: \"\\00b7\"; padding: 0 .5ex}\n",
       "</style>\n",
       "<ol class=list-inline><li>'date_block_num'</li><li>'shop_id'</li><li>'item_id'</li><li>'item_price'</li><li>'item_cnt_day'</li><li>'ID'</li><li>'date_id'</li></ol>\n"
      ],
      "text/latex": [
       "\\begin{enumerate*}\n",
       "\\item 'date\\_block\\_num'\n",
       "\\item 'shop\\_id'\n",
       "\\item 'item\\_id'\n",
       "\\item 'item\\_price'\n",
       "\\item 'item\\_cnt\\_day'\n",
       "\\item 'ID'\n",
       "\\item 'date\\_id'\n",
       "\\end{enumerate*}\n"
      ],
      "text/markdown": [
       "1. 'date_block_num'\n",
       "2. 'shop_id'\n",
       "3. 'item_id'\n",
       "4. 'item_price'\n",
       "5. 'item_cnt_day'\n",
       "6. 'ID'\n",
       "7. 'date_id'\n",
       "\n",
       "\n"
      ],
      "text/plain": [
       "[1] \"date_block_num\" \"shop_id\"        \"item_id\"        \"item_price\"    \n",
       "[5] \"item_cnt_day\"   \"ID\"             \"date_id\"       "
      ]
     },
     "metadata": {},
     "output_type": "display_data"
    }
   ],
   "source": [
    "dim(df36_2 %>% dplyr::count(ID))\n",
    "names(df36_2)"
   ]
  },
  {
   "cell_type": "code",
   "execution_count": 11,
   "metadata": {
    "id": "DQ2-IdxsvsFW"
   },
   "outputs": [],
   "source": [
    "# Getting the means for each item_id\n",
    "df36_2_mean_item_id <- df36_2 %>%\n",
    "  dplyr::filter(!is.na(item_price)) %>%\n",
    "  dplyr::arrange(item_id) %>%\n",
    "  dplyr::group_by(item_id) %>%\n",
    "  dplyr::summarise(mean = mean(item_price))\n",
    "\n",
    "# dim(df36_2_mean_item_id)\n",
    "# head(df36_2_mean_item_id)\n",
    "\n",
    "# Getting the correct dimensions for each mean by joining it to df36_2 when\n",
    "# item_price is NA\n",
    "df36_2_item_joined <- df36_2 %>%\n",
    "  filter(is.na(item_price)) %>%\n",
    "  arrange(item_id) %>%\n",
    "  inner_join(df36_2_mean_item_id, by = \"item_id\")\n",
    "\n",
    "\n",
    "# dim(df36_2_item_joined)\n",
    "# head(df36_2_item_joined) "
   ]
  },
  {
   "cell_type": "code",
   "execution_count": 12,
   "metadata": {
    "colab": {
     "base_uri": "https://localhost:8080/",
     "height": 304
    },
    "id": "CgxvWpe-vsC_",
    "outputId": "fdcaecd8-8e0f-4f32-e46c-7a237fdd9b49"
   },
   "outputs": [
    {
     "data": {
      "text/html": [
       "<table class=\"dataframe\">\n",
       "<caption>A tibble: 6 × 7</caption>\n",
       "<thead>\n",
       "\t<tr><th scope=col>date_block_num</th><th scope=col>shop_id</th><th scope=col>item_id</th><th scope=col>item_price</th><th scope=col>item_cnt_day</th><th scope=col>ID</th><th scope=col>date_id</th></tr>\n",
       "\t<tr><th scope=col>&lt;dbl&gt;</th><th scope=col>&lt;dbl&gt;</th><th scope=col>&lt;dbl&gt;</th><th scope=col>&lt;dbl&gt;</th><th scope=col>&lt;dbl&gt;</th><th scope=col>&lt;dbl&gt;</th><th scope=col>&lt;dbl&gt;</th></tr>\n",
       "</thead>\n",
       "<tbody>\n",
       "\t<tr><td>1</td><td>50</td><td>30</td><td>399.0000</td><td>1</td><td>109687</td><td>59</td></tr>\n",
       "\t<tr><td>1</td><td>50</td><td>30</td><td>399.0000</td><td>1</td><td>109687</td><td>57</td></tr>\n",
       "\t<tr><td>1</td><td>50</td><td>30</td><td>399.0000</td><td>1</td><td>109687</td><td>43</td></tr>\n",
       "\t<tr><td>1</td><td>50</td><td>30</td><td>399.0000</td><td>2</td><td>109687</td><td>45</td></tr>\n",
       "\t<tr><td>1</td><td>50</td><td>30</td><td>399.0000</td><td>3</td><td>109687</td><td>46</td></tr>\n",
       "\t<tr><td>1</td><td>50</td><td>30</td><td>385.6667</td><td>3</td><td>109687</td><td>47</td></tr>\n",
       "</tbody>\n",
       "</table>\n"
      ],
      "text/latex": [
       "A tibble: 6 × 7\n",
       "\\begin{tabular}{lllllll}\n",
       " date\\_block\\_num & shop\\_id & item\\_id & item\\_price & item\\_cnt\\_day & ID & date\\_id\\\\\n",
       " <dbl> & <dbl> & <dbl> & <dbl> & <dbl> & <dbl> & <dbl>\\\\\n",
       "\\hline\n",
       "\t 1 & 50 & 30 & 399.0000 & 1 & 109687 & 59\\\\\n",
       "\t 1 & 50 & 30 & 399.0000 & 1 & 109687 & 57\\\\\n",
       "\t 1 & 50 & 30 & 399.0000 & 1 & 109687 & 43\\\\\n",
       "\t 1 & 50 & 30 & 399.0000 & 2 & 109687 & 45\\\\\n",
       "\t 1 & 50 & 30 & 399.0000 & 3 & 109687 & 46\\\\\n",
       "\t 1 & 50 & 30 & 385.6667 & 3 & 109687 & 47\\\\\n",
       "\\end{tabular}\n"
      ],
      "text/markdown": [
       "\n",
       "A tibble: 6 × 7\n",
       "\n",
       "| date_block_num &lt;dbl&gt; | shop_id &lt;dbl&gt; | item_id &lt;dbl&gt; | item_price &lt;dbl&gt; | item_cnt_day &lt;dbl&gt; | ID &lt;dbl&gt; | date_id &lt;dbl&gt; |\n",
       "|---|---|---|---|---|---|---|\n",
       "| 1 | 50 | 30 | 399.0000 | 1 | 109687 | 59 |\n",
       "| 1 | 50 | 30 | 399.0000 | 1 | 109687 | 57 |\n",
       "| 1 | 50 | 30 | 399.0000 | 1 | 109687 | 43 |\n",
       "| 1 | 50 | 30 | 399.0000 | 2 | 109687 | 45 |\n",
       "| 1 | 50 | 30 | 399.0000 | 3 | 109687 | 46 |\n",
       "| 1 | 50 | 30 | 385.6667 | 3 | 109687 | 47 |\n",
       "\n"
      ],
      "text/plain": [
       "  date_block_num shop_id item_id item_price item_cnt_day ID     date_id\n",
       "1 1              50      30      399.0000   1            109687 59     \n",
       "2 1              50      30      399.0000   1            109687 57     \n",
       "3 1              50      30      399.0000   1            109687 43     \n",
       "4 1              50      30      399.0000   2            109687 45     \n",
       "5 1              50      30      399.0000   3            109687 46     \n",
       "6 1              50      30      385.6667   3            109687 47     "
      ]
     },
     "metadata": {},
     "output_type": "display_data"
    },
    {
     "data": {
      "text/html": [
       "<style>\n",
       ".list-inline {list-style: none; margin:0; padding: 0}\n",
       ".list-inline>li {display: inline-block}\n",
       ".list-inline>li:not(:last-child)::after {content: \"\\00b7\"; padding: 0 .5ex}\n",
       "</style>\n",
       "<ol class=list-inline><li>214200</li><li>2</li></ol>\n"
      ],
      "text/latex": [
       "\\begin{enumerate*}\n",
       "\\item 214200\n",
       "\\item 2\n",
       "\\end{enumerate*}\n"
      ],
      "text/markdown": [
       "1. 214200\n",
       "2. 2\n",
       "\n",
       "\n"
      ],
      "text/plain": [
       "[1] 214200      2"
      ]
     },
     "metadata": {},
     "output_type": "display_data"
    }
   ],
   "source": [
    "df36_3 <-   df36_2 %>%\n",
    "    arrange(item_id) %>%\n",
    "    # Giving mean item_price group_by to item_id to NAs \n",
    "    mutate(item_price = ifelse(is.na(item_price), df36_2_item_joined$mean, item_price))\n",
    "head(df36_3)\n",
    "dim(df36_3 %>% dplyr::count(ID))"
   ]
  },
  {
   "cell_type": "code",
   "execution_count": 13,
   "metadata": {
    "colab": {
     "base_uri": "https://localhost:8080/",
     "height": 69
    },
    "id": "MHD4ABmivsA3",
    "outputId": "cbf86da8-a72b-4a74-d411-75cb233ba990"
   },
   "outputs": [
    {
     "data": {
      "text/html": [
       "<style>\n",
       ".list-inline {list-style: none; margin:0; padding: 0}\n",
       ".list-inline>li {display: inline-block}\n",
       ".list-inline>li:not(:last-child)::after {content: \"\\00b7\"; padding: 0 .5ex}\n",
       "</style>\n",
       "<ol class=list-inline><li>1327235</li><li>12</li></ol>\n"
      ],
      "text/latex": [
       "\\begin{enumerate*}\n",
       "\\item 1327235\n",
       "\\item 12\n",
       "\\end{enumerate*}\n"
      ],
      "text/markdown": [
       "1. 1327235\n",
       "2. 12\n",
       "\n",
       "\n"
      ],
      "text/plain": [
       "[1] 1327235      12"
      ]
     },
     "metadata": {},
     "output_type": "display_data"
    },
    {
     "data": {
      "text/html": [
       "<style>\n",
       ".list-inline {list-style: none; margin:0; padding: 0}\n",
       ".list-inline>li {display: inline-block}\n",
       ".list-inline>li:not(:last-child)::after {content: \"\\00b7\"; padding: 0 .5ex}\n",
       "</style>\n",
       "<ol class=list-inline><li>214200</li><li>2</li></ol>\n"
      ],
      "text/latex": [
       "\\begin{enumerate*}\n",
       "\\item 214200\n",
       "\\item 2\n",
       "\\end{enumerate*}\n"
      ],
      "text/markdown": [
       "1. 214200\n",
       "2. 2\n",
       "\n",
       "\n"
      ],
      "text/plain": [
       "[1] 214200      2"
      ]
     },
     "metadata": {},
     "output_type": "display_data"
    },
    {
     "data": {
      "text/html": [
       "0"
      ],
      "text/latex": [
       "0"
      ],
      "text/markdown": [
       "0"
      ],
      "text/plain": [
       "[1] 0"
      ]
     },
     "metadata": {},
     "output_type": "display_data"
    }
   ],
   "source": [
    "# 3 + 6 + 5\n",
    "df365 <- left_join(df36_3, all[[5]], by = \"shop_id\")\n",
    "\n",
    "# 3 + 6 + 5 + 4\n",
    "df3654 <- left_join(df365, all[[4]], by = \"ID\")\n",
    "\n",
    "# 3 + 6 + 5 + 4 + 2\n",
    "df36542 <- left_join(df3654, all[[2]], by = \"item_id\")\n",
    "\n",
    "# 3 + 6 + 5 + 4 + 2 + 1\n",
    "df365421 <- left_join(df36542, all[[1]], by = \"item_category_id\")\n",
    "\n",
    "# 3 + 6 + 5 + 4 + 2 + 1\n",
    "# into a less annoying name\n",
    "df <-df365421\n",
    "#head(df)\n",
    "dim(df)\n",
    "dim(df %>% dplyr::count(ID))\n",
    "sum(is.na(df))"
   ]
  },
  {
   "cell_type": "markdown",
   "metadata": {
    "id": "64Uiom6hTS48"
   },
   "source": [
    "# Section 4: Exploratory Data Analysis"
   ]
  },
  {
   "cell_type": "markdown",
   "metadata": {},
   "source": [
    "This section is mainly to show the graphs that guided us to use our final model."
   ]
  },
  {
   "cell_type": "code",
   "execution_count": 14,
   "metadata": {
    "colab": {
     "base_uri": "https://localhost:8080/",
     "height": 437
    },
    "id": "PEjMl5ceTOjw",
    "outputId": "a0c4ff0d-1ba2-4569-fa53-5f084f6a18e7"
   },
   "outputs": [
    {
     "data": {
      "image/png": "[encoded data removed]",
      "text/plain": [
       "plot without title"
      ]
     },
     "metadata": {
      "image/png": {
       "height": 420,
       "width": 420
      }
     },
     "output_type": "display_data"
    }
   ],
   "source": [
    "df_num <- df %>%\n",
    "  select(where(is.numeric),-ID,-item_cnt_month)\n",
    "\n",
    "# creating correlation matrix\n",
    "corr_mat <- round(cor(df_num),2)\n",
    " \n",
    "# reduce the size of correlation matrix\n",
    "melted_corr_mat <- melt(corr_mat)\n",
    "# head(melted_corr_mat)\n",
    " \n",
    "# plotting the correlation heatmap\n",
    "ggplot(data = melted_corr_mat, aes(x=Var1, y=Var2,\n",
    "                                   fill=value)) +\n",
    "geom_tile(color = \"black\")+\n",
    "geom_text(aes(label = value), color = \"white\", size = 4) +\n",
    "coord_fixed() +\n",
    "ggtitle(\"Figure 1\")"
   ]
  },
  {
   "cell_type": "markdown",
   "metadata": {
    "id": "gUCQqD79TVH3"
   },
   "source": [
    "**Figure 1** dipicts a coorelation matrix with all of the variables remaining after we prepared our data in **Section #3**."
   ]
  },
  {
   "cell_type": "code",
   "execution_count": 15,
   "metadata": {
    "colab": {
     "base_uri": "https://localhost:8080/",
     "height": 437
    },
    "id": "wFLfhwA3TOhc",
    "outputId": "3eaafad6-275a-4f88-b9a2-dd471df09988"
   },
   "outputs": [
    {
     "data": {
      "image/png": "[encoded data removed]",
      "text/plain": [
       "plot without title"
      ]
     },
     "metadata": {
      "image/png": {
       "height": 420,
       "width": 420
      }
     },
     "output_type": "display_data"
    }
   ],
   "source": [
    "d <- ggplot(df, aes(x = date_block_num, y = item_price))\n",
    "\n",
    "d +\n",
    "  geom_boxplot(aes(fill= item_category_name ))+\n",
    "  theme(legend.position = \"none\")+\n",
    "  ggtitle(\"Figure 2\")\n"
   ]
  },
  {
   "cell_type": "markdown",
   "metadata": {
    "id": "42ixwTo2ceFy"
   },
   "source": [
    "**Figure 2** shows how poor the data is in terms of homoscedasticity. It is important to have good homoscedasticity in graphs in order to better visualize the data. We will mend this in the next figure."
   ]
  },
  {
   "cell_type": "code",
   "execution_count": 16,
   "metadata": {
    "colab": {
     "base_uri": "https://localhost:8080/",
     "height": 437
    },
    "id": "mfUgOyB-TOdA",
    "outputId": "322fbf6a-4c75-45e6-d46e-9eb9bef6c007"
   },
   "outputs": [
    {
     "data": {
      "image/png": "[encoded data removed]",
      "text/plain": [
       "plot without title"
      ]
     },
     "metadata": {
      "image/png": {
       "height": 420,
       "width": 420
      }
     },
     "output_type": "display_data"
    }
   ],
   "source": [
    "df_filter <- df %>%\n",
    " group_by(item_category_id) %>%\n",
    " filter(item_price > quantile(item_price, 0.1), \n",
    "         item_price < quantile(item_price, 0.90))\n",
    "\n",
    "d <- ggplot(df_filter, aes(x = date_block_num, y = item_price))\n",
    "\n",
    "d +\n",
    "  geom_boxplot(aes(fill= item_category_name ))+\n",
    "  theme(legend.position = \"none\") +\n",
    "  ggtitle(\"Figure 3\")"
   ]
  },
  {
   "cell_type": "markdown",
   "metadata": {
    "id": "vR2vC1o3Tyhg"
   },
   "source": [
    "**Figure 3** showcases the fluxuation of the item-prices color-coded by the item category."
   ]
  },
  {
   "cell_type": "code",
   "execution_count": 17,
   "metadata": {
    "colab": {
     "base_uri": "https://localhost:8080/",
     "height": 69
    },
    "id": "bMES1CeedUWS",
    "outputId": "b350adf6-c27f-4813-fbcf-728f2ac405f6"
   },
   "outputs": [
    {
     "data": {
      "text/html": [
       "<style>\n",
       ".list-inline {list-style: none; margin:0; padding: 0}\n",
       ".list-inline>li {display: inline-block}\n",
       ".list-inline>li:not(:last-child)::after {content: \"\\00b7\"; padding: 0 .5ex}\n",
       "</style>\n",
       "<ol class=list-inline><li>1327235</li><li>12</li></ol>\n"
      ],
      "text/latex": [
       "\\begin{enumerate*}\n",
       "\\item 1327235\n",
       "\\item 12\n",
       "\\end{enumerate*}\n"
      ],
      "text/markdown": [
       "1. 1327235\n",
       "2. 12\n",
       "\n",
       "\n"
      ],
      "text/plain": [
       "[1] 1327235      12"
      ]
     },
     "metadata": {},
     "output_type": "display_data"
    },
    {
     "data": {
      "text/html": [
       "<style>\n",
       ".list-inline {list-style: none; margin:0; padding: 0}\n",
       ".list-inline>li {display: inline-block}\n",
       ".list-inline>li:not(:last-child)::after {content: \"\\00b7\"; padding: 0 .5ex}\n",
       "</style>\n",
       "<ol class=list-inline><li>939561</li><li>12</li></ol>\n"
      ],
      "text/latex": [
       "\\begin{enumerate*}\n",
       "\\item 939561\n",
       "\\item 12\n",
       "\\end{enumerate*}\n"
      ],
      "text/markdown": [
       "1. 939561\n",
       "2. 12\n",
       "\n",
       "\n"
      ],
      "text/plain": [
       "[1] 939561     12"
      ]
     },
     "metadata": {},
     "output_type": "display_data"
    },
    {
     "data": {
      "text/html": [
       "0.70790854671554"
      ],
      "text/latex": [
       "0.70790854671554"
      ],
      "text/markdown": [
       "0.70790854671554"
      ],
      "text/plain": [
       "[1] 0.7079085"
      ]
     },
     "metadata": {},
     "output_type": "display_data"
    },
    {
     "data": {
      "text/html": [
       "<style>\n",
       ".list-inline {list-style: none; margin:0; padding: 0}\n",
       ".list-inline>li {display: inline-block}\n",
       ".list-inline>li:not(:last-child)::after {content: \"\\00b7\"; padding: 0 .5ex}\n",
       "</style>\n",
       "<ol class=list-inline><li>145817</li><li>3</li></ol>\n"
      ],
      "text/latex": [
       "\\begin{enumerate*}\n",
       "\\item 145817\n",
       "\\item 3\n",
       "\\end{enumerate*}\n"
      ],
      "text/markdown": [
       "1. 145817\n",
       "2. 3\n",
       "\n",
       "\n"
      ],
      "text/plain": [
       "[1] 145817      3"
      ]
     },
     "metadata": {},
     "output_type": "display_data"
    },
    {
     "data": {
      "text/html": [
       "68383"
      ],
      "text/latex": [
       "68383"
      ],
      "text/markdown": [
       "68383"
      ],
      "text/plain": [
       "[1] 68383"
      ]
     },
     "metadata": {},
     "output_type": "display_data"
    }
   ],
   "source": [
    "dim(df)\n",
    "dim(df_filter)\n",
    "dim(df_filter)[1] / dim(df)[1]\n",
    "dim(df_filter %>% dplyr::count(ID))\n",
    "dim(df %>% dplyr::count(ID))[1] - dim(df_filter %>% dplyr::count(ID))[1]"
   ]
  },
  {
   "cell_type": "markdown",
   "metadata": {
    "id": "65Sby_vDc82J"
   },
   "source": [
    "By removing all points bellow the 10th percentile and all points above the 90th, the boxplot graph looks much better than it was before. We still retain 70% of our data which is enough to guess how the model will behave. Unfortuantely, we lose about 68k unique datapoints when filtering like this so unfortunately we have to keep all datapoints in our model."
   ]
  },
  {
   "cell_type": "code",
   "execution_count": 18,
   "metadata": {
    "colab": {
     "base_uri": "https://localhost:8080/",
     "height": 857
    },
    "id": "956Om7MHZZgH",
    "outputId": "fc901411-dde9-4661-eb64-96d4de0c0a38"
   },
   "outputs": [
    {
     "data": {
      "image/png": "[encoded data removed]",
      "text/plain": [
       "plot without title"
      ]
     },
     "metadata": {
      "image/png": {
       "height": 420,
       "width": 420
      }
     },
     "output_type": "display_data"
    },
    {
     "data": {
      "image/png": "[encoded data removed]",
      "text/plain": [
       "plot without title"
      ]
     },
     "metadata": {
      "image/png": {
       "height": 420,
       "width": 420
      }
     },
     "output_type": "display_data"
    }
   ],
   "source": [
    "df_count_month <- df %>%\n",
    "  dplyr::count(date_block_num)\n",
    "\n",
    "g <- ggplot(df_count_month, aes(date_block_num, n))\n",
    "g +\n",
    "  geom_col() +\n",
    "  ggtitle(\"Figure 4\")\n",
    "\n",
    "h <- ggplot(df_count_month, aes(date_block_num, n))\n",
    "h +\n",
    "  geom_point() +\n",
    "  ggtitle(\"Figure 5\")"
   ]
  },
  {
   "cell_type": "code",
   "execution_count": 19,
   "metadata": {
    "colab": {
     "base_uri": "https://localhost:8080/",
     "height": 857
    },
    "id": "w3wq5-ZiTOTz",
    "outputId": "b2998137-e8b1-47f8-da34-3efd493d5180"
   },
   "outputs": [
    {
     "data": {
      "image/png": "[encoded data removed]",
      "text/plain": [
       "plot without title"
      ]
     },
     "metadata": {
      "image/png": {
       "height": 420,
       "width": 420
      }
     },
     "output_type": "display_data"
    },
    {
     "data": {
      "image/png": "[encoded data removed]",
      "text/plain": [
       "plot without title"
      ]
     },
     "metadata": {
      "image/png": {
       "height": 420,
       "width": 420
      }
     },
     "output_type": "display_data"
    }
   ],
   "source": [
    "df_mean_month <- df %>%\n",
    " dplyr::group_by(date_block_num) %>%\n",
    " dplyr::summarise(mean = mean(item_price)) %>%\n",
    " dplyr::arrange(date_block_num)\n",
    "\n",
    "g <- ggplot(df_mean_month, aes(date_block_num, mean))\n",
    "g +\n",
    "  geom_col() +\n",
    "  ggtitle(\"Figure 6\")\n",
    "\n",
    "h <- ggplot(df_mean_month, aes(date_block_num, mean))\n",
    "h +\n",
    "  geom_point() +\n",
    "  ggtitle(\"Figure 7\")"
   ]
  },
  {
   "cell_type": "markdown",
   "metadata": {
    "id": "z_Ua4HhNEe9M"
   },
   "source": [
    "# Section 5: Modeling"
   ]
  },
  {
   "cell_type": "markdown",
   "metadata": {},
   "source": [
    "### Modeling Plan Part 1 of 2\n",
    "We decided to use a linear regression model. Figure 6 and 7 gave us reason to believe a linear model was satisfactory for this prediction problem. The boxplot shows that some item categories were slightly above the mean prices of most of the other categories. We decided 3 outliter categories is not enough to destroy our linear regression model.\n",
    "\n",
    "From the start we acknowledge our model is not going to be perfect for one key reason. The correct way to use linear regression with categorical data in R (if we are using lm() function) is to make them factors. If we fed the lm() function only dbl types when we know the \"id\" columns are categories, we are already making a mistake. Having said that, when we tried factoring all categorical columns, we experienced crashes so we only factored two of the columns. This will be mentioned again in the evaluation section.\n",
    "\n",
    "The objective is to predict \"item_cnt_day\" and then group_by the IDs to obtain the item_cnt_month. This is a two step process where the first step is the most difficult.\n",
    "\n",
    "In the first step, we decided to use two variable linear regression (because only two of our variables were continous) and multivariate linear regression. We also used a polynomial model, but since we had so many factors, attempts to 4th degree every variables ended up with a crash. Having said that, out of the three models we tested (2 var linear, mul var linear, semi polynomial), the multivariable linear model scored the highest R<sup>2</sup> and the lowest Root Mean Square Error (RMSE). \n",
    "\n",
    "Lower RMSE is better, higher R<sup>2</sup> is better, thus multivariate was chosen."
   ]
  },
  {
   "cell_type": "code",
   "execution_count": 20,
   "metadata": {
    "colab": {
     "base_uri": "https://localhost:8080/",
     "height": 286
    },
    "id": "dXVTt19xgY8J",
    "outputId": "71cee9e0-8ae5-4d37-fbfd-c30c1829752f"
   },
   "outputs": [
    {
     "data": {
      "text/html": [
       "<table class=\"dataframe\">\n",
       "<caption>A tibble: 6 × 8</caption>\n",
       "<thead>\n",
       "\t<tr><th scope=col>date_block_num</th><th scope=col>shop_id</th><th scope=col>item_id</th><th scope=col>item_price</th><th scope=col>item_cnt_day</th><th scope=col>ID</th><th scope=col>date_id</th><th scope=col>item_category_id</th></tr>\n",
       "\t<tr><th scope=col>&lt;dbl&gt;</th><th scope=col>&lt;fct&gt;</th><th scope=col>&lt;dbl&gt;</th><th scope=col>&lt;dbl&gt;</th><th scope=col>&lt;dbl&gt;</th><th scope=col>&lt;dbl&gt;</th><th scope=col>&lt;dbl&gt;</th><th scope=col>&lt;fct&gt;</th></tr>\n",
       "</thead>\n",
       "<tbody>\n",
       "\t<tr><td>1</td><td>50</td><td>30</td><td>399.0000</td><td>1</td><td>109687</td><td>59</td><td>40</td></tr>\n",
       "\t<tr><td>1</td><td>50</td><td>30</td><td>399.0000</td><td>1</td><td>109687</td><td>57</td><td>40</td></tr>\n",
       "\t<tr><td>1</td><td>50</td><td>30</td><td>399.0000</td><td>1</td><td>109687</td><td>43</td><td>40</td></tr>\n",
       "\t<tr><td>1</td><td>50</td><td>30</td><td>399.0000</td><td>2</td><td>109687</td><td>45</td><td>40</td></tr>\n",
       "\t<tr><td>1</td><td>50</td><td>30</td><td>399.0000</td><td>3</td><td>109687</td><td>46</td><td>40</td></tr>\n",
       "\t<tr><td>1</td><td>50</td><td>30</td><td>385.6667</td><td>3</td><td>109687</td><td>47</td><td>40</td></tr>\n",
       "</tbody>\n",
       "</table>\n"
      ],
      "text/latex": [
       "A tibble: 6 × 8\n",
       "\\begin{tabular}{llllllll}\n",
       " date\\_block\\_num & shop\\_id & item\\_id & item\\_price & item\\_cnt\\_day & ID & date\\_id & item\\_category\\_id\\\\\n",
       " <dbl> & <fct> & <dbl> & <dbl> & <dbl> & <dbl> & <dbl> & <fct>\\\\\n",
       "\\hline\n",
       "\t 1 & 50 & 30 & 399.0000 & 1 & 109687 & 59 & 40\\\\\n",
       "\t 1 & 50 & 30 & 399.0000 & 1 & 109687 & 57 & 40\\\\\n",
       "\t 1 & 50 & 30 & 399.0000 & 1 & 109687 & 43 & 40\\\\\n",
       "\t 1 & 50 & 30 & 399.0000 & 2 & 109687 & 45 & 40\\\\\n",
       "\t 1 & 50 & 30 & 399.0000 & 3 & 109687 & 46 & 40\\\\\n",
       "\t 1 & 50 & 30 & 385.6667 & 3 & 109687 & 47 & 40\\\\\n",
       "\\end{tabular}\n"
      ],
      "text/markdown": [
       "\n",
       "A tibble: 6 × 8\n",
       "\n",
       "| date_block_num &lt;dbl&gt; | shop_id &lt;fct&gt; | item_id &lt;dbl&gt; | item_price &lt;dbl&gt; | item_cnt_day &lt;dbl&gt; | ID &lt;dbl&gt; | date_id &lt;dbl&gt; | item_category_id &lt;fct&gt; |\n",
       "|---|---|---|---|---|---|---|---|\n",
       "| 1 | 50 | 30 | 399.0000 | 1 | 109687 | 59 | 40 |\n",
       "| 1 | 50 | 30 | 399.0000 | 1 | 109687 | 57 | 40 |\n",
       "| 1 | 50 | 30 | 399.0000 | 1 | 109687 | 43 | 40 |\n",
       "| 1 | 50 | 30 | 399.0000 | 2 | 109687 | 45 | 40 |\n",
       "| 1 | 50 | 30 | 399.0000 | 3 | 109687 | 46 | 40 |\n",
       "| 1 | 50 | 30 | 385.6667 | 3 | 109687 | 47 | 40 |\n",
       "\n"
      ],
      "text/plain": [
       "  date_block_num shop_id item_id item_price item_cnt_day ID     date_id\n",
       "1 1              50      30      399.0000   1            109687 59     \n",
       "2 1              50      30      399.0000   1            109687 57     \n",
       "3 1              50      30      399.0000   1            109687 43     \n",
       "4 1              50      30      399.0000   2            109687 45     \n",
       "5 1              50      30      399.0000   3            109687 46     \n",
       "6 1              50      30      385.6667   3            109687 47     \n",
       "  item_category_id\n",
       "1 40              \n",
       "2 40              \n",
       "3 40              \n",
       "4 40              \n",
       "5 40              \n",
       "6 40              "
      ]
     },
     "metadata": {},
     "output_type": "display_data"
    }
   ],
   "source": [
    "df_new <- df %>%\n",
    "  dplyr::select(1:7,11) %>%\n",
    "  dplyr::mutate(shop_id = as.factor(shop_id)) %>%\n",
    "  # mutate(item_id = as.factor(item_id)) %>%\n",
    "  # mutate(ID = as.factor(ID)) %>%\n",
    "  dplyr::mutate(item_category_id = as.factor(item_category_id))\n",
    "\n",
    "head(df_new)"
   ]
  },
  {
   "cell_type": "code",
   "execution_count": 21,
   "metadata": {
    "id": "HFFF1E_n10Ki"
   },
   "outputs": [],
   "source": [
    "set.seed(123)\n",
    "split = sample.split(df_new$item_cnt_day, SplitRatio = 0.8)\n",
    "training_set = subset(df_new, split == TRUE)\n",
    "test_set = subset(df_new, split == FALSE)"
   ]
  },
  {
   "cell_type": "code",
   "execution_count": 22,
   "metadata": {
    "colab": {
     "base_uri": "https://localhost:8080/",
     "height": 147
    },
    "id": "xSzSQnYtzyeh",
    "outputId": "ea71cca0-5dfd-486c-d5ff-36b8fdf25b1d"
   },
   "outputs": [
    {
     "data": {
      "text/html": [
       "<table class=\"dataframe\">\n",
       "<caption>A data.frame: 1 × 2</caption>\n",
       "<thead>\n",
       "\t<tr><th scope=col>RMSE</th><th scope=col>R2</th></tr>\n",
       "\t<tr><th scope=col>&lt;dbl&gt;</th><th scope=col>&lt;dbl&gt;</th></tr>\n",
       "</thead>\n",
       "<tbody>\n",
       "\t<tr><td>1.841489</td><td>0.0003148503</td></tr>\n",
       "</tbody>\n",
       "</table>\n"
      ],
      "text/latex": [
       "A data.frame: 1 × 2\n",
       "\\begin{tabular}{ll}\n",
       " RMSE & R2\\\\\n",
       " <dbl> & <dbl>\\\\\n",
       "\\hline\n",
       "\t 1.841489 & 0.0003148503\\\\\n",
       "\\end{tabular}\n"
      ],
      "text/markdown": [
       "\n",
       "A data.frame: 1 × 2\n",
       "\n",
       "| RMSE &lt;dbl&gt; | R2 &lt;dbl&gt; |\n",
       "|---|---|\n",
       "| 1.841489 | 0.0003148503 |\n",
       "\n"
      ],
      "text/plain": [
       "  RMSE     R2          \n",
       "1 1.841489 0.0003148503"
      ]
     },
     "metadata": {},
     "output_type": "display_data"
    },
    {
     "name": "stdout",
     "output_type": "stream",
     "text": [
      "0.17 sec elapsed\n"
     ]
    }
   ],
   "source": [
    "tic()\n",
    "# 2 variable linear\n",
    "one_lin = lm(formula = item_cnt_day ~ item_price + date_block_num,\n",
    "               data = training_set)\n",
    "# Make predictions\n",
    "predictions_one_lin <- one_lin %>% predict(test_set)\n",
    "# Model performance\n",
    "data.frame(\n",
    "  RMSE = RMSE(predictions_one_lin, test_set$item_cnt_day),\n",
    "  R2 = R2(predictions_one_lin, test_set$item_cnt_day)\n",
    ")\n",
    "toc()"
   ]
  },
  {
   "cell_type": "code",
   "execution_count": 23,
   "metadata": {
    "colab": {
     "base_uri": "https://localhost:8080/",
     "height": 147
    },
    "id": "LRDvzf3b8cUu",
    "outputId": "8a2d5923-305d-4d6f-de27-ec6ff5bcb662"
   },
   "outputs": [
    {
     "data": {
      "text/html": [
       "<table class=\"dataframe\">\n",
       "<caption>A data.frame: 1 × 2</caption>\n",
       "<thead>\n",
       "\t<tr><th scope=col>RMSE</th><th scope=col>R2</th></tr>\n",
       "\t<tr><th scope=col>&lt;dbl&gt;</th><th scope=col>&lt;dbl&gt;</th></tr>\n",
       "</thead>\n",
       "<tbody>\n",
       "\t<tr><td>1.695315</td><td>0.1544404</td></tr>\n",
       "</tbody>\n",
       "</table>\n"
      ],
      "text/latex": [
       "A data.frame: 1 × 2\n",
       "\\begin{tabular}{ll}\n",
       " RMSE & R2\\\\\n",
       " <dbl> & <dbl>\\\\\n",
       "\\hline\n",
       "\t 1.695315 & 0.1544404\\\\\n",
       "\\end{tabular}\n"
      ],
      "text/markdown": [
       "\n",
       "A data.frame: 1 × 2\n",
       "\n",
       "| RMSE &lt;dbl&gt; | R2 &lt;dbl&gt; |\n",
       "|---|---|\n",
       "| 1.695315 | 0.1544404 |\n",
       "\n"
      ],
      "text/plain": [
       "  RMSE     R2       \n",
       "1 1.695315 0.1544404"
      ]
     },
     "metadata": {},
     "output_type": "display_data"
    },
    {
     "name": "stdout",
     "output_type": "stream",
     "text": [
      "12.21 sec elapsed\n"
     ]
    }
   ],
   "source": [
    "tic()\n",
    "# Multivariable linear THIS IS THE MODEL USED FOR OVERALL PREDICTIONS\n",
    "mul_lin_main = lm(formula = item_cnt_day ~ .,\n",
    "               data = training_set)\n",
    "# Make predictions\n",
    "predictions_mul_lin <- mul_lin_main %>% predict(test_set)\n",
    "# Model performance\n",
    "data.frame(\n",
    "  RMSE = RMSE(predictions_mul_lin, test_set$item_cnt_day),\n",
    "  R2 = R2(predictions_mul_lin, test_set$item_cnt_day)\n",
    ")\n",
    "toc()"
   ]
  },
  {
   "cell_type": "code",
   "execution_count": 24,
   "metadata": {
    "id": "KocFlJAm8cQQ"
   },
   "outputs": [
    {
     "data": {
      "text/html": [
       "<table class=\"dataframe\">\n",
       "<caption>A data.frame: 1 × 2</caption>\n",
       "<thead>\n",
       "\t<tr><th scope=col>RMSE</th><th scope=col>R2</th></tr>\n",
       "\t<tr><th scope=col>&lt;dbl&gt;</th><th scope=col>&lt;dbl&gt;</th></tr>\n",
       "</thead>\n",
       "<tbody>\n",
       "\t<tr><td>1.841019</td><td>0.000807269</td></tr>\n",
       "</tbody>\n",
       "</table>\n"
      ],
      "text/latex": [
       "A data.frame: 1 × 2\n",
       "\\begin{tabular}{ll}\n",
       " RMSE & R2\\\\\n",
       " <dbl> & <dbl>\\\\\n",
       "\\hline\n",
       "\t 1.841019 & 0.000807269\\\\\n",
       "\\end{tabular}\n"
      ],
      "text/markdown": [
       "\n",
       "A data.frame: 1 × 2\n",
       "\n",
       "| RMSE &lt;dbl&gt; | R2 &lt;dbl&gt; |\n",
       "|---|---|\n",
       "| 1.841019 | 0.000807269 |\n",
       "\n"
      ],
      "text/plain": [
       "  RMSE     R2         \n",
       "1 1.841019 0.000807269"
      ]
     },
     "metadata": {},
     "output_type": "display_data"
    },
    {
     "name": "stdout",
     "output_type": "stream",
     "text": [
      "0.42 sec elapsed\n"
     ]
    }
   ],
   "source": [
    "tic()\n",
    "# polynomial linear, 1 x variable\n",
    "pol_lin <- lm(item_cnt_day ~ polym(date_block_num, degree=4, raw=TRUE), data = training_set)\n",
    "\n",
    "# Make predictions\n",
    "predictions_pol1 <- pol_lin %>% predict(test_set)\n",
    "# Model performance\n",
    "data.frame(\n",
    "  RMSE = RMSE(predictions_pol1, test_set$item_cnt_day),\n",
    "  R2 = R2(predictions_pol1, test_set$item_cnt_day)\n",
    ")\n",
    "toc()"
   ]
  },
  {
   "cell_type": "code",
   "execution_count": 25,
   "metadata": {
    "id": "vB7qKpZd8cHE"
   },
   "outputs": [],
   "source": [
    "# # polynomial linear, all x variables\n",
    "# mul_pol_lin <- lm(item_cnt_day ~ polym(date_block_num, item_id, item_price, shop_id, item_category_id, degree=4, raw=TRUE), data = training_set)\n",
    "\n",
    "# # Make predictions\n",
    "# predictions_polall <- mul_pol_lin %>% predict(test_set)\n",
    "# # Model performance\n",
    "# data.frame(\n",
    "#   RMSE = RMSE(predictions_polall, test_set$item_cnt_day),\n",
    "#   R2 = R2(predictions_polall, test_set$item_cnt_day)\n",
    "# )"
   ]
  },
  {
   "cell_type": "markdown",
   "metadata": {
    "id": "rdTcXiVFk3l4"
   },
   "source": [
    "model \"mul_pol_lin\" crashes the instance"
   ]
  },
  {
   "cell_type": "code",
   "execution_count": 26,
   "metadata": {
    "id": "UQCIbAJV8cCb"
   },
   "outputs": [
    {
     "data": {
      "text/html": [
       "<table class=\"dataframe\">\n",
       "<caption>A data.frame: 1 × 2</caption>\n",
       "<thead>\n",
       "\t<tr><th scope=col>RMSE</th><th scope=col>R2</th></tr>\n",
       "\t<tr><th scope=col>&lt;dbl&gt;</th><th scope=col>&lt;dbl&gt;</th></tr>\n",
       "</thead>\n",
       "<tbody>\n",
       "\t<tr><td>1.696681</td><td>0.1533337</td></tr>\n",
       "</tbody>\n",
       "</table>\n"
      ],
      "text/latex": [
       "A data.frame: 1 × 2\n",
       "\\begin{tabular}{ll}\n",
       " RMSE & R2\\\\\n",
       " <dbl> & <dbl>\\\\\n",
       "\\hline\n",
       "\t 1.696681 & 0.1533337\\\\\n",
       "\\end{tabular}\n"
      ],
      "text/markdown": [
       "\n",
       "A data.frame: 1 × 2\n",
       "\n",
       "| RMSE &lt;dbl&gt; | R2 &lt;dbl&gt; |\n",
       "|---|---|\n",
       "| 1.696681 | 0.1533337 |\n",
       "\n"
      ],
      "text/plain": [
       "  RMSE     R2       \n",
       "1 1.696681 0.1533337"
      ]
     },
     "metadata": {},
     "output_type": "display_data"
    },
    {
     "name": "stdout",
     "output_type": "stream",
     "text": [
      "15.17 sec elapsed\n"
     ]
    }
   ],
   "source": [
    "tic()\n",
    "# polynomial linear, all x variables. date_block_num, item_price at 4th degree, the rest at 1st\n",
    "mul_pol_lin2 <- lm(item_cnt_day ~ polym(date_block_num, item_price, degree=4, raw=TRUE) + item_id + shop_id + item_category_id, data = training_set)\n",
    "\n",
    "# Make predictions\n",
    "predictions_pol_some <- mul_pol_lin2 %>% predict(test_set)\n",
    "# Model performance\n",
    "data.frame(\n",
    "  RMSE = RMSE(predictions_pol_some, test_set$item_cnt_day),\n",
    "  R2 = R2(predictions_pol_some, test_set$item_cnt_day)\n",
    ")\n",
    "toc()"
   ]
  },
  {
   "cell_type": "code",
   "execution_count": 27,
   "metadata": {
    "id": "bylNWQDVv1lD"
   },
   "outputs": [
    {
     "data": {
      "text/html": [
       "<table class=\"dataframe\">\n",
       "<caption>A data.frame: 6 × 1</caption>\n",
       "<thead>\n",
       "\t<tr><th></th><th scope=col>prediction_used</th></tr>\n",
       "\t<tr><th></th><th scope=col>&lt;dbl&gt;</th></tr>\n",
       "</thead>\n",
       "<tbody>\n",
       "\t<tr><th scope=row>1</th><td>0.9370336</td></tr>\n",
       "\t<tr><th scope=row>2</th><td>0.9368687</td></tr>\n",
       "\t<tr><th scope=row>3</th><td>0.9367037</td></tr>\n",
       "\t<tr><th scope=row>4</th><td>0.9366487</td></tr>\n",
       "\t<tr><th scope=row>5</th><td>0.8786399</td></tr>\n",
       "\t<tr><th scope=row>6</th><td>0.8782549</td></tr>\n",
       "</tbody>\n",
       "</table>\n"
      ],
      "text/latex": [
       "A data.frame: 6 × 1\n",
       "\\begin{tabular}{r|l}\n",
       "  & prediction\\_used\\\\\n",
       "  & <dbl>\\\\\n",
       "\\hline\n",
       "\t1 & 0.9370336\\\\\n",
       "\t2 & 0.9368687\\\\\n",
       "\t3 & 0.9367037\\\\\n",
       "\t4 & 0.9366487\\\\\n",
       "\t5 & 0.8786399\\\\\n",
       "\t6 & 0.8782549\\\\\n",
       "\\end{tabular}\n"
      ],
      "text/markdown": [
       "\n",
       "A data.frame: 6 × 1\n",
       "\n",
       "| <!--/--> | prediction_used &lt;dbl&gt; |\n",
       "|---|---|\n",
       "| 1 | 0.9370336 |\n",
       "| 2 | 0.9368687 |\n",
       "| 3 | 0.9367037 |\n",
       "| 4 | 0.9366487 |\n",
       "| 5 | 0.8786399 |\n",
       "| 6 | 0.8782549 |\n",
       "\n"
      ],
      "text/plain": [
       "  prediction_used\n",
       "1 0.9370336      \n",
       "2 0.9368687      \n",
       "3 0.9367037      \n",
       "4 0.9366487      \n",
       "5 0.8786399      \n",
       "6 0.8782549      "
      ]
     },
     "metadata": {},
     "output_type": "display_data"
    },
    {
     "data": {
      "text/html": [
       "<table class=\"dataframe\">\n",
       "<caption>A tibble: 6 × 8</caption>\n",
       "<thead>\n",
       "\t<tr><th scope=col>date_block_num</th><th scope=col>shop_id</th><th scope=col>item_id</th><th scope=col>item_price</th><th scope=col>item_cnt_day</th><th scope=col>ID</th><th scope=col>date_id</th><th scope=col>item_category_id</th></tr>\n",
       "\t<tr><th scope=col>&lt;dbl&gt;</th><th scope=col>&lt;fct&gt;</th><th scope=col>&lt;dbl&gt;</th><th scope=col>&lt;dbl&gt;</th><th scope=col>&lt;dbl&gt;</th><th scope=col>&lt;dbl&gt;</th><th scope=col>&lt;dbl&gt;</th><th scope=col>&lt;fct&gt;</th></tr>\n",
       "</thead>\n",
       "<tbody>\n",
       "\t<tr><td>1</td><td>50</td><td>30</td><td>399</td><td>2</td><td>109687</td><td>45</td><td>40</td></tr>\n",
       "\t<tr><td>1</td><td>50</td><td>30</td><td>399</td><td>3</td><td>109687</td><td>48</td><td>40</td></tr>\n",
       "\t<tr><td>1</td><td>50</td><td>30</td><td>399</td><td>1</td><td>109687</td><td>51</td><td>40</td></tr>\n",
       "\t<tr><td>1</td><td>50</td><td>30</td><td>399</td><td>1</td><td>109687</td><td>52</td><td>40</td></tr>\n",
       "\t<tr><td>1</td><td>52</td><td>30</td><td>399</td><td>2</td><td>124987</td><td>47</td><td>40</td></tr>\n",
       "\t<tr><td>1</td><td>52</td><td>30</td><td>399</td><td>2</td><td>124987</td><td>54</td><td>40</td></tr>\n",
       "</tbody>\n",
       "</table>\n"
      ],
      "text/latex": [
       "A tibble: 6 × 8\n",
       "\\begin{tabular}{llllllll}\n",
       " date\\_block\\_num & shop\\_id & item\\_id & item\\_price & item\\_cnt\\_day & ID & date\\_id & item\\_category\\_id\\\\\n",
       " <dbl> & <fct> & <dbl> & <dbl> & <dbl> & <dbl> & <dbl> & <fct>\\\\\n",
       "\\hline\n",
       "\t 1 & 50 & 30 & 399 & 2 & 109687 & 45 & 40\\\\\n",
       "\t 1 & 50 & 30 & 399 & 3 & 109687 & 48 & 40\\\\\n",
       "\t 1 & 50 & 30 & 399 & 1 & 109687 & 51 & 40\\\\\n",
       "\t 1 & 50 & 30 & 399 & 1 & 109687 & 52 & 40\\\\\n",
       "\t 1 & 52 & 30 & 399 & 2 & 124987 & 47 & 40\\\\\n",
       "\t 1 & 52 & 30 & 399 & 2 & 124987 & 54 & 40\\\\\n",
       "\\end{tabular}\n"
      ],
      "text/markdown": [
       "\n",
       "A tibble: 6 × 8\n",
       "\n",
       "| date_block_num &lt;dbl&gt; | shop_id &lt;fct&gt; | item_id &lt;dbl&gt; | item_price &lt;dbl&gt; | item_cnt_day &lt;dbl&gt; | ID &lt;dbl&gt; | date_id &lt;dbl&gt; | item_category_id &lt;fct&gt; |\n",
       "|---|---|---|---|---|---|---|---|\n",
       "| 1 | 50 | 30 | 399 | 2 | 109687 | 45 | 40 |\n",
       "| 1 | 50 | 30 | 399 | 3 | 109687 | 48 | 40 |\n",
       "| 1 | 50 | 30 | 399 | 1 | 109687 | 51 | 40 |\n",
       "| 1 | 50 | 30 | 399 | 1 | 109687 | 52 | 40 |\n",
       "| 1 | 52 | 30 | 399 | 2 | 124987 | 47 | 40 |\n",
       "| 1 | 52 | 30 | 399 | 2 | 124987 | 54 | 40 |\n",
       "\n"
      ],
      "text/plain": [
       "  date_block_num shop_id item_id item_price item_cnt_day ID     date_id\n",
       "1 1              50      30      399        2            109687 45     \n",
       "2 1              50      30      399        3            109687 48     \n",
       "3 1              50      30      399        1            109687 51     \n",
       "4 1              50      30      399        1            109687 52     \n",
       "5 1              52      30      399        2            124987 47     \n",
       "6 1              52      30      399        2            124987 54     \n",
       "  item_category_id\n",
       "1 40              \n",
       "2 40              \n",
       "3 40              \n",
       "4 40              \n",
       "5 40              \n",
       "6 40              "
      ]
     },
     "metadata": {},
     "output_type": "display_data"
    }
   ],
   "source": [
    "prediction_used <- data.frame(predictions_mul_lin)\n",
    "colnames(prediction_used) <- c(\"prediction_used\")\n",
    "head(prediction_used)\n",
    "head(test_set)"
   ]
  },
  {
   "cell_type": "markdown",
   "metadata": {},
   "source": [
    "### Modeling Plan Part 2 of 2\n",
    "#### How good was our training_data vs our test_data?\n",
    "\n",
    "After getting predicitions for item_cnt_day in the training_set, we wanted to see how much we deviated from the test_set.\n",
    "\n",
    "Ideally we should create a prediction column and actual column to represent a y=x graph. Therefore, we chose to use a linear regression to give us the  R<sup>2</sup> and RMSE when all of our predictions were convereted into the form Kaggle wanted. The results were relatively good considering the assumptions we made in earlier sections.\n",
    "\n",
    "RMSE of 2.537743\n",
    "\n",
    "R<sup>2</sup> of 0.8585306"
   ]
  },
  {
   "cell_type": "code",
   "execution_count": 28,
   "metadata": {
    "colab": {
     "base_uri": "https://localhost:8080/"
    },
    "id": "DuB1IZ09dr_K",
    "outputId": "29ed95d9-5778-47c1-9852-530f9ef3eaa6"
   },
   "outputs": [
    {
     "name": "stdout",
     "output_type": "stream",
     "text": [
      "0.05 sec elapsed\n"
     ]
    }
   ],
   "source": [
    "tic()\n",
    "test_set_result <- test_set %>%\n",
    "  cbind(prediction_used) %>%\n",
    "  select(-c(1:4))\n",
    "toc()"
   ]
  },
  {
   "cell_type": "code",
   "execution_count": 29,
   "metadata": {
    "colab": {
     "base_uri": "https://localhost:8080/",
     "height": 304
    },
    "id": "7sQ7HM3tdr8q",
    "outputId": "34f5b625-a326-44da-c73b-3489e6de47c6",
    "scrolled": true
   },
   "outputs": [
    {
     "data": {
      "text/html": [
       "<table class=\"dataframe\">\n",
       "<caption>A data.frame: 6 × 5</caption>\n",
       "<thead>\n",
       "\t<tr><th></th><th scope=col>item_cnt_day</th><th scope=col>ID</th><th scope=col>date_id</th><th scope=col>item_category_id</th><th scope=col>prediction_used</th></tr>\n",
       "\t<tr><th></th><th scope=col>&lt;dbl&gt;</th><th scope=col>&lt;dbl&gt;</th><th scope=col>&lt;dbl&gt;</th><th scope=col>&lt;fct&gt;</th><th scope=col>&lt;dbl&gt;</th></tr>\n",
       "</thead>\n",
       "<tbody>\n",
       "\t<tr><th scope=row>1</th><td>2</td><td>109687</td><td>45</td><td>40</td><td>0.9370336</td></tr>\n",
       "\t<tr><th scope=row>2</th><td>3</td><td>109687</td><td>48</td><td>40</td><td>0.9368687</td></tr>\n",
       "\t<tr><th scope=row>3</th><td>1</td><td>109687</td><td>51</td><td>40</td><td>0.9367037</td></tr>\n",
       "\t<tr><th scope=row>4</th><td>1</td><td>109687</td><td>52</td><td>40</td><td>0.9366487</td></tr>\n",
       "\t<tr><th scope=row>5</th><td>2</td><td>124987</td><td>47</td><td>40</td><td>0.8786399</td></tr>\n",
       "\t<tr><th scope=row>6</th><td>2</td><td>124987</td><td>54</td><td>40</td><td>0.8782549</td></tr>\n",
       "</tbody>\n",
       "</table>\n"
      ],
      "text/latex": [
       "A data.frame: 6 × 5\n",
       "\\begin{tabular}{r|lllll}\n",
       "  & item\\_cnt\\_day & ID & date\\_id & item\\_category\\_id & prediction\\_used\\\\\n",
       "  & <dbl> & <dbl> & <dbl> & <fct> & <dbl>\\\\\n",
       "\\hline\n",
       "\t1 & 2 & 109687 & 45 & 40 & 0.9370336\\\\\n",
       "\t2 & 3 & 109687 & 48 & 40 & 0.9368687\\\\\n",
       "\t3 & 1 & 109687 & 51 & 40 & 0.9367037\\\\\n",
       "\t4 & 1 & 109687 & 52 & 40 & 0.9366487\\\\\n",
       "\t5 & 2 & 124987 & 47 & 40 & 0.8786399\\\\\n",
       "\t6 & 2 & 124987 & 54 & 40 & 0.8782549\\\\\n",
       "\\end{tabular}\n"
      ],
      "text/markdown": [
       "\n",
       "A data.frame: 6 × 5\n",
       "\n",
       "| <!--/--> | item_cnt_day &lt;dbl&gt; | ID &lt;dbl&gt; | date_id &lt;dbl&gt; | item_category_id &lt;fct&gt; | prediction_used &lt;dbl&gt; |\n",
       "|---|---|---|---|---|---|\n",
       "| 1 | 2 | 109687 | 45 | 40 | 0.9370336 |\n",
       "| 2 | 3 | 109687 | 48 | 40 | 0.9368687 |\n",
       "| 3 | 1 | 109687 | 51 | 40 | 0.9367037 |\n",
       "| 4 | 1 | 109687 | 52 | 40 | 0.9366487 |\n",
       "| 5 | 2 | 124987 | 47 | 40 | 0.8786399 |\n",
       "| 6 | 2 | 124987 | 54 | 40 | 0.8782549 |\n",
       "\n"
      ],
      "text/plain": [
       "  item_cnt_day ID     date_id item_category_id prediction_used\n",
       "1 2            109687 45      40               0.9370336      \n",
       "2 3            109687 48      40               0.9368687      \n",
       "3 1            109687 51      40               0.9367037      \n",
       "4 1            109687 52      40               0.9366487      \n",
       "5 2            124987 47      40               0.8786399      \n",
       "6 2            124987 54      40               0.8782549      "
      ]
     },
     "metadata": {},
     "output_type": "display_data"
    },
    {
     "data": {
      "text/html": [
       "<style>\n",
       ".list-inline {list-style: none; margin:0; padding: 0}\n",
       ".list-inline>li {display: inline-block}\n",
       ".list-inline>li:not(:last-child)::after {content: \"\\00b7\"; padding: 0 .5ex}\n",
       "</style>\n",
       "<ol class=list-inline><li>265434</li><li>5</li></ol>\n"
      ],
      "text/latex": [
       "\\begin{enumerate*}\n",
       "\\item 265434\n",
       "\\item 5\n",
       "\\end{enumerate*}\n"
      ],
      "text/markdown": [
       "1. 265434\n",
       "2. 5\n",
       "\n",
       "\n"
      ],
      "text/plain": [
       "[1] 265434      5"
      ]
     },
     "metadata": {},
     "output_type": "display_data"
    }
   ],
   "source": [
    "head(test_set_result)\n",
    "dim(test_set_result)"
   ]
  },
  {
   "cell_type": "code",
   "execution_count": 30,
   "metadata": {
    "id": "4wloyAc0gu6v",
    "scrolled": true
   },
   "outputs": [
    {
     "data": {
      "text/html": [
       "<table class=\"dataframe\">\n",
       "<caption>A tibble: 6 × 3</caption>\n",
       "<thead>\n",
       "\t<tr><th scope=col>ID</th><th scope=col>sum_pred</th><th scope=col>sum_actual</th></tr>\n",
       "\t<tr><th scope=col>&lt;dbl&gt;</th><th scope=col>&lt;dbl&gt;</th><th scope=col>&lt;dbl&gt;</th></tr>\n",
       "</thead>\n",
       "<tbody>\n",
       "\t<tr><td> 0</td><td>3.3189680</td><td> 3</td></tr>\n",
       "\t<tr><td> 2</td><td>3.2151097</td><td> 3</td></tr>\n",
       "\t<tr><td> 5</td><td>3.0256434</td><td> 3</td></tr>\n",
       "\t<tr><td> 7</td><td>0.8654943</td><td> 1</td></tr>\n",
       "\t<tr><td> 8</td><td>7.8235614</td><td>10</td></tr>\n",
       "\t<tr><td>10</td><td>7.1919672</td><td> 6</td></tr>\n",
       "</tbody>\n",
       "</table>\n"
      ],
      "text/latex": [
       "A tibble: 6 × 3\n",
       "\\begin{tabular}{lll}\n",
       " ID & sum\\_pred & sum\\_actual\\\\\n",
       " <dbl> & <dbl> & <dbl>\\\\\n",
       "\\hline\n",
       "\t  0 & 3.3189680 &  3\\\\\n",
       "\t  2 & 3.2151097 &  3\\\\\n",
       "\t  5 & 3.0256434 &  3\\\\\n",
       "\t  7 & 0.8654943 &  1\\\\\n",
       "\t  8 & 7.8235614 & 10\\\\\n",
       "\t 10 & 7.1919672 &  6\\\\\n",
       "\\end{tabular}\n"
      ],
      "text/markdown": [
       "\n",
       "A tibble: 6 × 3\n",
       "\n",
       "| ID &lt;dbl&gt; | sum_pred &lt;dbl&gt; | sum_actual &lt;dbl&gt; |\n",
       "|---|---|---|\n",
       "|  0 | 3.3189680 |  3 |\n",
       "|  2 | 3.2151097 |  3 |\n",
       "|  5 | 3.0256434 |  3 |\n",
       "|  7 | 0.8654943 |  1 |\n",
       "|  8 | 7.8235614 | 10 |\n",
       "| 10 | 7.1919672 |  6 |\n",
       "\n"
      ],
      "text/plain": [
       "  ID sum_pred  sum_actual\n",
       "1  0 3.3189680  3        \n",
       "2  2 3.2151097  3        \n",
       "3  5 3.0256434  3        \n",
       "4  7 0.8654943  1        \n",
       "5  8 7.8235614 10        \n",
       "6 10 7.1919672  6        "
      ]
     },
     "metadata": {},
     "output_type": "display_data"
    }
   ],
   "source": [
    "df_ID_result <- test_set_result %>%\n",
    "  dplyr::ungroup()%>%\n",
    "  dplyr::group_by(ID) %>%\n",
    "  dplyr::summarise(sum_pred = sum(prediction_used), sum_actual = sum(item_cnt_day)) %>%\n",
    "  dplyr::arrange(ID)\n",
    "head(df_ID_result)"
   ]
  },
  {
   "cell_type": "code",
   "execution_count": 31,
   "metadata": {
    "colab": {
     "base_uri": "https://localhost:8080/",
     "height": 437
    },
    "id": "MQcO4Mg4j6Sn",
    "outputId": "e674c881-707c-48b9-deee-acc16003a8bf",
    "scrolled": true
   },
   "outputs": [
    {
     "data": {
      "image/png": "[encoded data removed]",
      "text/plain": [
       "plot without title"
      ]
     },
     "metadata": {
      "image/png": {
       "height": 420,
       "width": 420
      }
     },
     "output_type": "display_data"
    }
   ],
   "source": [
    "ggplot(df_ID_result) +\n",
    "  geom_point(aes(sum_pred,sum_actual)) +\n",
    "  ggtitle(\"Figure 8\")"
   ]
  },
  {
   "cell_type": "code",
   "execution_count": 32,
   "metadata": {
    "id": "bXCrBDiRlWn5"
   },
   "outputs": [],
   "source": [
    "set.seed(123)\n",
    "split = sample.split(df_ID_result$sum_actual, SplitRatio = 0.8)\n",
    "training_set2 = subset(df_ID_result, split == TRUE)\n",
    "test_set2 = subset(df_ID_result, split == FALSE)"
   ]
  },
  {
   "cell_type": "code",
   "execution_count": 33,
   "metadata": {
    "colab": {
     "base_uri": "https://localhost:8080/",
     "height": 129
    },
    "id": "XGBzBOZjk9pY",
    "outputId": "c5dde616-b069-4a3b-f2c1-3521af832f26",
    "scrolled": true
   },
   "outputs": [
    {
     "data": {
      "text/html": [
       "<table class=\"dataframe\">\n",
       "<caption>A data.frame: 1 × 2</caption>\n",
       "<thead>\n",
       "\t<tr><th scope=col>RMSE</th><th scope=col>R2</th></tr>\n",
       "\t<tr><th scope=col>&lt;dbl&gt;</th><th scope=col>&lt;dbl&gt;</th></tr>\n",
       "</thead>\n",
       "<tbody>\n",
       "\t<tr><td>2.537743</td><td>0.8585306</td></tr>\n",
       "</tbody>\n",
       "</table>\n"
      ],
      "text/latex": [
       "A data.frame: 1 × 2\n",
       "\\begin{tabular}{ll}\n",
       " RMSE & R2\\\\\n",
       " <dbl> & <dbl>\\\\\n",
       "\\hline\n",
       "\t 2.537743 & 0.8585306\\\\\n",
       "\\end{tabular}\n"
      ],
      "text/markdown": [
       "\n",
       "A data.frame: 1 × 2\n",
       "\n",
       "| RMSE &lt;dbl&gt; | R2 &lt;dbl&gt; |\n",
       "|---|---|\n",
       "| 2.537743 | 0.8585306 |\n",
       "\n"
      ],
      "text/plain": [
       "  RMSE     R2       \n",
       "1 2.537743 0.8585306"
      ]
     },
     "metadata": {},
     "output_type": "display_data"
    }
   ],
   "source": [
    "# Multivariable linear For ACTUAL VS PRED\n",
    "mul_lin = lm(formula = sum_actual ~ sum_pred,\n",
    "               data = training_set2)\n",
    "# Make predictions\n",
    "predictions_one_lin <- mul_lin %>% predict(test_set2)\n",
    "# Model performance\n",
    "data.frame(\n",
    "  RMSE = RMSE(predictions_one_lin, test_set2$sum_actual),\n",
    "  R2 = R2(predictions_one_lin, test_set2$sum_actual)\n",
    ")"
   ]
  },
  {
   "cell_type": "code",
   "execution_count": 34,
   "metadata": {
    "colab": {
     "base_uri": "https://localhost:8080/",
     "height": 52
    },
    "id": "m6C2h4yWk9lL",
    "outputId": "b604e7f2-fd91-4414-beb0-34efa18209ba"
   },
   "outputs": [
    {
     "data": {
      "text/html": [
       "<style>\n",
       ".list-inline {list-style: none; margin:0; padding: 0}\n",
       ".list-inline>li {display: inline-block}\n",
       ".list-inline>li:not(:last-child)::after {content: \"\\00b7\"; padding: 0 .5ex}\n",
       "</style>\n",
       "<ol class=list-inline><li>1327235</li><li>12</li></ol>\n"
      ],
      "text/latex": [
       "\\begin{enumerate*}\n",
       "\\item 1327235\n",
       "\\item 12\n",
       "\\end{enumerate*}\n"
      ],
      "text/markdown": [
       "1. 1327235\n",
       "2. 12\n",
       "\n",
       "\n"
      ],
      "text/plain": [
       "[1] 1327235      12"
      ]
     },
     "metadata": {},
     "output_type": "display_data"
    },
    {
     "data": {
      "text/html": [
       "<style>\n",
       ".list-inline {list-style: none; margin:0; padding: 0}\n",
       ".list-inline>li {display: inline-block}\n",
       ".list-inline>li:not(:last-child)::after {content: \"\\00b7\"; padding: 0 .5ex}\n",
       "</style>\n",
       "<ol class=list-inline><li>1327235</li><li>8</li></ol>\n"
      ],
      "text/latex": [
       "\\begin{enumerate*}\n",
       "\\item 1327235\n",
       "\\item 8\n",
       "\\end{enumerate*}\n"
      ],
      "text/markdown": [
       "1. 1327235\n",
       "2. 8\n",
       "\n",
       "\n"
      ],
      "text/plain": [
       "[1] 1327235       8"
      ]
     },
     "metadata": {},
     "output_type": "display_data"
    }
   ],
   "source": [
    "dim(df)\n",
    "dim(df_new)"
   ]
  },
  {
   "cell_type": "markdown",
   "metadata": {},
   "source": [
    "# Section 6: Submitting a final csv to Kaggle\n",
    "Since we were instructed to complete this project as if we wanted to submit to Kaggle, the next cells will use our previous model which gave us a good prediction and predict using all the data in the dataset. Then we will again look at the graph of actual vs prediction."
   ]
  },
  {
   "cell_type": "code",
   "execution_count": 35,
   "metadata": {
    "id": "jctqCGYck9is"
   },
   "outputs": [],
   "source": [
    "prediction_final <- mul_lin_main %>% predict(df_new)"
   ]
  },
  {
   "cell_type": "code",
   "execution_count": 36,
   "metadata": {
    "colab": {
     "base_uri": "https://localhost:8080/",
     "height": 286
    },
    "id": "YNQ-l9P5k9gZ",
    "outputId": "1a2945d5-7fcd-4668-a871-c4905996c57d"
   },
   "outputs": [],
   "source": [
    "df_final <- df_new %>%\n",
    "  cbind(prediction_final) %>%\n",
    "  select(-c(1:4),-8) %>%\n",
    "  arrange(ID)\n",
    "#head(df_final)"
   ]
  },
  {
   "cell_type": "code",
   "execution_count": 37,
   "metadata": {
    "colab": {
     "base_uri": "https://localhost:8080/",
     "height": 304
    },
    "id": "LGwWHmFjk9eD",
    "outputId": "13cd3bdc-6f09-41c2-94fa-de2a666f145e"
   },
   "outputs": [
    {
     "data": {
      "text/html": [
       "<style>\n",
       ".list-inline {list-style: none; margin:0; padding: 0}\n",
       ".list-inline>li {display: inline-block}\n",
       ".list-inline>li:not(:last-child)::after {content: \"\\00b7\"; padding: 0 .5ex}\n",
       "</style>\n",
       "<ol class=list-inline><li>214200</li><li>2</li></ol>\n"
      ],
      "text/latex": [
       "\\begin{enumerate*}\n",
       "\\item 214200\n",
       "\\item 2\n",
       "\\end{enumerate*}\n"
      ],
      "text/markdown": [
       "1. 214200\n",
       "2. 2\n",
       "\n",
       "\n"
      ],
      "text/plain": [
       "[1] 214200      2"
      ]
     },
     "metadata": {},
     "output_type": "display_data"
    }
   ],
   "source": [
    "#head(df_final %>% dplyr::count(ID))\n",
    "dim(df_final %>% dplyr::count(ID))\n",
    "distinct_ID <- df_final %>% dplyr::count(ID) %>% select(1)"
   ]
  },
  {
   "cell_type": "code",
   "execution_count": 38,
   "metadata": {
    "colab": {
     "base_uri": "https://localhost:8080/",
     "height": 34
    },
    "id": "aKwXeYhTk9bo",
    "outputId": "d150336d-5fdd-4f53-e48c-2de5544a76cf"
   },
   "outputs": [
    {
     "data": {
      "text/html": [
       "0"
      ],
      "text/latex": [
       "0"
      ],
      "text/markdown": [
       "0"
      ],
      "text/plain": [
       "[1] 0"
      ]
     },
     "metadata": {},
     "output_type": "display_data"
    }
   ],
   "source": [
    "# verifying if ID is truly a sequence of numbers from 0 to 214199\n",
    "sum(distinct_ID != data.frame(as.numeric(seq(0,214199))))"
   ]
  },
  {
   "cell_type": "code",
   "execution_count": 39,
   "metadata": {
    "colab": {
     "base_uri": "https://localhost:8080/",
     "height": 304
    },
    "id": "5StbgSW8yWkv",
    "outputId": "1b4e8946-751b-4ed9-84ed-c41b3512f96f",
    "scrolled": true
   },
   "outputs": [
    {
     "name": "stdout",
     "output_type": "stream",
     "text": [
      "0.91 sec elapsed\n"
     ]
    }
   ],
   "source": [
    "tic()\n",
    "df_ID_result_final <- df_final %>%\n",
    "  dplyr::group_by(ID) %>%\n",
    "  dplyr::summarise(sum_pred = sum(prediction_final), sum_actual = sum(item_cnt_day)) %>%\n",
    "  dplyr::arrange(ID)\n",
    "toc()\n",
    "#head(df_ID_result_final)"
   ]
  },
  {
   "cell_type": "code",
   "execution_count": 40,
   "metadata": {
    "colab": {
     "base_uri": "https://localhost:8080/",
     "height": 437
    },
    "id": "QU8MDAvUyWif",
    "outputId": "d4eee239-9ea2-4f71-b982-771ac795757f",
    "scrolled": true
   },
   "outputs": [
    {
     "name": "stdout",
     "output_type": "stream",
     "text": [
      "11.47 sec elapsed\n"
     ]
    },
    {
     "data": {
      "image/png": "[encoded data removed]",
      "text/plain": [
       "plot without title"
      ]
     },
     "metadata": {
      "image/png": {
       "height": 420,
       "width": 420
      }
     },
     "output_type": "display_data"
    }
   ],
   "source": [
    "tic()\n",
    "ggplot(df_ID_result_final) +\n",
    "  geom_point(aes(sum_pred,sum_actual))+\n",
    "  ggtitle(\"Figure 9\")\n",
    "toc()"
   ]
  },
  {
   "cell_type": "code",
   "execution_count": 41,
   "metadata": {
    "colab": {
     "base_uri": "https://localhost:8080/",
     "height": 286
    },
    "id": "yVzjByA5yWgE",
    "outputId": "8ce45025-7ea1-4220-9f2c-7039c5f1c9ed",
    "scrolled": true
   },
   "outputs": [],
   "source": [
    "#head(df_ID_result_final)"
   ]
  },
  {
   "cell_type": "code",
   "execution_count": 42,
   "metadata": {},
   "outputs": [],
   "source": [
    "set.seed(123)\n",
    "split = sample.split(df_ID_result_final$sum_actual, SplitRatio = 0.8)\n",
    "training_set3 = subset(df_ID_result_final, split == TRUE)\n",
    "test_set3 = subset(df_ID_result_final, split == FALSE)"
   ]
  },
  {
   "cell_type": "code",
   "execution_count": 43,
   "metadata": {},
   "outputs": [
    {
     "data": {
      "text/html": [
       "<table class=\"dataframe\">\n",
       "<caption>A data.frame: 1 × 2</caption>\n",
       "<thead>\n",
       "\t<tr><th scope=col>RMSE</th><th scope=col>R2</th></tr>\n",
       "\t<tr><th scope=col>&lt;dbl&gt;</th><th scope=col>&lt;dbl&gt;</th></tr>\n",
       "</thead>\n",
       "<tbody>\n",
       "\t<tr><td>7.64691</td><td>0.8733357</td></tr>\n",
       "</tbody>\n",
       "</table>\n"
      ],
      "text/latex": [
       "A data.frame: 1 × 2\n",
       "\\begin{tabular}{ll}\n",
       " RMSE & R2\\\\\n",
       " <dbl> & <dbl>\\\\\n",
       "\\hline\n",
       "\t 7.64691 & 0.8733357\\\\\n",
       "\\end{tabular}\n"
      ],
      "text/markdown": [
       "\n",
       "A data.frame: 1 × 2\n",
       "\n",
       "| RMSE &lt;dbl&gt; | R2 &lt;dbl&gt; |\n",
       "|---|---|\n",
       "| 7.64691 | 0.8733357 |\n",
       "\n"
      ],
      "text/plain": [
       "  RMSE    R2       \n",
       "1 7.64691 0.8733357"
      ]
     },
     "metadata": {},
     "output_type": "display_data"
    }
   ],
   "source": [
    "# Multivariable linear For ACTUAL VS PRED\n",
    "mul_lin = lm(formula = sum_actual ~ sum_pred,\n",
    "               data = training_set3)\n",
    "# Make predictions\n",
    "predictions_one_lin_final <- mul_lin %>% predict(test_set3)\n",
    "# Model performance\n",
    "data.frame(\n",
    "  RMSE = RMSE(predictions_one_lin_final, test_set3$sum_actual),\n",
    "  R2 = R2(predictions_one_lin_final, test_set3$sum_actual)\n",
    ")"
   ]
  },
  {
   "cell_type": "code",
   "execution_count": 44,
   "metadata": {
    "id": "CeMeyAoLyWdx"
   },
   "outputs": [],
   "source": [
    "df_ID_result_final_submission <- df_ID_result_final %>%\n",
    "  dplyr::select(1:2) %>%\n",
    "  dplyr::rename(item_cnt_month = sum_pred)"
   ]
  },
  {
   "cell_type": "code",
   "execution_count": 45,
   "metadata": {
    "colab": {
     "base_uri": "https://localhost:8080/",
     "height": 286
    },
    "id": "_G1Cv_V0yWbP",
    "outputId": "a3f3c7f4-b045-49a9-b9ce-313abc9ccafc"
   },
   "outputs": [
    {
     "data": {
      "text/html": [
       "<table class=\"dataframe\">\n",
       "<caption>A tibble: 6 × 2</caption>\n",
       "<thead>\n",
       "\t<tr><th scope=col>ID</th><th scope=col>item_cnt_month</th></tr>\n",
       "\t<tr><th scope=col>&lt;dbl&gt;</th><th scope=col>&lt;dbl&gt;</th></tr>\n",
       "</thead>\n",
       "<tbody>\n",
       "\t<tr><td>0</td><td>14.4362634</td></tr>\n",
       "\t<tr><td>1</td><td> 0.8947801</td></tr>\n",
       "\t<tr><td>2</td><td> 9.6782207</td></tr>\n",
       "\t<tr><td>3</td><td> 0.9744340</td></tr>\n",
       "\t<tr><td>4</td><td> 1.4033332</td></tr>\n",
       "\t<tr><td>5</td><td>11.3679233</td></tr>\n",
       "</tbody>\n",
       "</table>\n"
      ],
      "text/latex": [
       "A tibble: 6 × 2\n",
       "\\begin{tabular}{ll}\n",
       " ID & item\\_cnt\\_month\\\\\n",
       " <dbl> & <dbl>\\\\\n",
       "\\hline\n",
       "\t 0 & 14.4362634\\\\\n",
       "\t 1 &  0.8947801\\\\\n",
       "\t 2 &  9.6782207\\\\\n",
       "\t 3 &  0.9744340\\\\\n",
       "\t 4 &  1.4033332\\\\\n",
       "\t 5 & 11.3679233\\\\\n",
       "\\end{tabular}\n"
      ],
      "text/markdown": [
       "\n",
       "A tibble: 6 × 2\n",
       "\n",
       "| ID &lt;dbl&gt; | item_cnt_month &lt;dbl&gt; |\n",
       "|---|---|\n",
       "| 0 | 14.4362634 |\n",
       "| 1 |  0.8947801 |\n",
       "| 2 |  9.6782207 |\n",
       "| 3 |  0.9744340 |\n",
       "| 4 |  1.4033332 |\n",
       "| 5 | 11.3679233 |\n",
       "\n"
      ],
      "text/plain": [
       "  ID item_cnt_month\n",
       "1 0  14.4362634    \n",
       "2 1   0.8947801    \n",
       "3 2   9.6782207    \n",
       "4 3   0.9744340    \n",
       "5 4   1.4033332    \n",
       "6 5  11.3679233    "
      ]
     },
     "metadata": {},
     "output_type": "display_data"
    }
   ],
   "source": [
    "head(df_ID_result_final_submission)"
   ]
  },
  {
   "cell_type": "code",
   "execution_count": 46,
   "metadata": {
    "id": "U9T5wUH6yWY8"
   },
   "outputs": [],
   "source": [
    "# This dataframe scored a 66 on the Kaggle submissions\n",
    "# write_csv(df_ID_result_final_submission,\"df_submission.csv\")"
   ]
  },
  {
   "cell_type": "markdown",
   "metadata": {},
   "source": [
    "# Section 7: Evaluation"
   ]
  },
  {
   "cell_type": "markdown",
   "metadata": {},
   "source": [
    "In general, our model was successful in predicitng the output. The model is definitely not the most optimized and there are some reasons for this:\n",
    "\n",
    "Reason 1: There may be better methods of data preperation that we were not aware of when full_joining. Since we introduced random observations, we deliberatly made the data somewhat worse to be able to keep all of our unique IDs. Techniques like Synthetic Minority Oversampling Technique (SMOTE) on python may be able to fill in the blanks better than our current method, however this seemed to be an extremely advanced technique with assumptions we may not be aware of.\n",
    "\n",
    "Reason 2: We know our model is slightly incorrect since we treated item_id and ID as continous variables. That is why we first used a 2 variable linear regression with only the continous variables, but the RMSE and  R<sup>2</sup> were significantly worse than the slightly wrong multivaraite model. In the future if we used one model for the continous variables and another for categorical, we could have ensembled them into one stronger model. Unfortunately this is too advanced for us currently.\n",
    "\n",
    "In conclusion, our model was reasonable and the formatting of our \"df_submission.csv\" file was accepted in Kaggle and gave us a 66 score."
   ]
  }
 ],
 "metadata": {
  "colab": {
   "provenance": []
  },
  "kernelspec": {
   "display_name": "R",
   "language": "R",
   "name": "ir"
  },
  "language_info": {
   "codemirror_mode": "r",
   "file_extension": ".r",
   "mimetype": "text/x-r-source",
   "name": "R",
   "pygments_lexer": "r",
   "version": "4.2.1"
  }
 },
 "nbformat": 4,
 "nbformat_minor": 1
}
